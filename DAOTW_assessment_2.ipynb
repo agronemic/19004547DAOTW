{
  "nbformat": 4,
  "nbformat_minor": 0,
  "metadata": {
    "colab": {
      "provenance": []
    },
    "kernelspec": {
      "name": "python3",
      "display_name": "Python 3"
    },
    "language_info": {
      "name": "python"
    }
  },
  "cells": [
    {
      "cell_type": "markdown",
      "source": [
        "# Linear regression start\n",
        "Multiple datasets have been used, but this dataset is one where every non date variable has been normalised between 0 and 1. \n",
        "\n"
      ],
      "metadata": {
        "id": "JBOaA5Ejhrjd"
      }
    },
    {
      "cell_type": "code",
      "execution_count": null,
      "metadata": {
        "id": "JLzisFiJlFPp"
      },
      "outputs": [],
      "source": [
        "#importing pandas\n",
        "import pandas as pd\n",
        "\n",
        "#importing numpy\n",
        "import numpy as np\n",
        "\n",
        "#importing matplotlib\n",
        "import matplotlib.pyplot as plt\n",
        "test_results = {}\n"
      ]
    },
    {
      "cell_type": "code",
      "source": [
        "def plot_loss(history):\n",
        "  plt.plot(history.history['loss'], label='loss')\n",
        "  plt.plot(history.history['val_loss'], label='val_loss')\n",
        "  plt.ylim([0, 1])\n",
        "  plt.xlabel('Epoch')\n",
        "  plt.ylabel('Error [NC]')\n",
        "  plt.legend()\n",
        "  plt.grid(True)"
      ],
      "metadata": {
        "id": "M_KNaWiyMUDa"
      },
      "execution_count": null,
      "outputs": []
    },
    {
      "cell_type": "markdown",
      "source": [
        "The below codes are for different datasets that were normalised and standardised. The first database all feature variables and the number of collisions are normalised, the second database all feature variables and the number of collisions are standardised, the third database only the number of collisions has been standardised. "
      ],
      "metadata": {
        "id": "CAuD3jQes26v"
      }
    },
    {
      "cell_type": "code",
      "source": [
        "\n",
        "df = pd.read_csv('https://raw.githubusercontent.com/agronemic/19004547DAOTW/main/New_york_collisions_version4normalised.csv', index_col=4, )\n",
        "df"
      ],
      "metadata": {
        "id": "GABQh2MzsxaI",
        "colab": {
          "base_uri": "https://localhost:8080/",
          "height": 455
        },
        "outputId": "9b27a149-8a9b-4b5e-bf82-120f6f97b3fd"
      },
      "execution_count": null,
      "outputs": [
        {
          "output_type": "execute_result",
          "data": {
            "text/plain": [
              "                day  year  mo  da      temp      dewp       slp     visib  \\\n",
              "collision_date                                                              \n",
              "2018-09-23        7  2018   9  23  0.667491  0.005686  0.003818  1.000000   \n",
              "2018-12-20        4  2018  12  20  0.405439  0.004107  0.003462  0.959184   \n",
              "2013-11-05        2  2013  11   5  0.466007  0.003708  0.005416  1.000000   \n",
              "2012-07-11        3  2012   7  11  0.881335  0.006865  0.003429  1.000000   \n",
              "2012-07-12        4  2012   7  12  0.885043  0.006686  0.003629  1.000000   \n",
              "...             ...   ...  ..  ..       ...       ...       ...       ...   \n",
              "2017-12-25        1  2017  12  25  0.436341  0.004197  0.002231  0.785714   \n",
              "2012-11-07        3  2012  11   7  0.386897  0.003378  0.002841  0.724490   \n",
              "2014-11-13        4  2014  11  13  0.543881  0.004777  0.002941  0.857143   \n",
              "2015-09-03        4  2015   9   3  0.849197  0.007665  0.002497  0.744898   \n",
              "2015-09-02        3  2015   9   2  0.744129  0.006925  0.003118  0.969388   \n",
              "\n",
              "                    wdsp     mxpsd      gust       max       min   prcp  fog  \\\n",
              "collision_date                                                                 \n",
              "2018-09-23      0.120879  0.121429  0.000000  0.732927  0.734667  0.000    0   \n",
              "2018-12-20      0.230769  0.166667  0.000000  0.365854  0.306667  0.000    0   \n",
              "2013-11-05      0.170330  0.166667  0.000000  0.390244  0.532000  0.000    0   \n",
              "2012-07-11      0.060440  0.166667  0.000000  0.804878  0.892000  0.000    0   \n",
              "2012-07-12      0.082418  0.166667  0.000000  0.853659  0.786667  0.000    0   \n",
              "...                  ...       ...       ...       ...       ...    ...  ...   \n",
              "2017-12-25      0.873626  1.000000  0.962775  0.390244  0.494667  0.002    0   \n",
              "2012-11-07      0.510989  1.000000  0.945854  0.368293  0.438667  0.000    1   \n",
              "2014-11-13      0.417582  0.000000  0.000000  0.609756  0.626667  0.000    1   \n",
              "2015-09-03      0.285714  0.000000  0.000000  0.768293  0.948000  0.000    0   \n",
              "2015-09-02      0.247253  0.000000  0.000000  0.768293  0.840000  0.000    1   \n",
              "\n",
              "                NUM_COLLISIONS  \n",
              "collision_date                  \n",
              "2018-09-23            0.341625  \n",
              "2018-12-20            0.890547  \n",
              "2013-11-05            0.399668  \n",
              "2012-07-11            0.490879  \n",
              "2012-07-12            0.510779  \n",
              "...                        ...  \n",
              "2017-12-25            0.106136  \n",
              "2012-11-07            0.744610  \n",
              "2014-11-13            0.708126  \n",
              "2015-09-03            0.656716  \n",
              "2015-09-02            0.638474  \n",
              "\n",
              "[2910 rows x 16 columns]"
            ],
            "text/html": [
              "\n",
              "  <div id=\"df-b1ad4633-821f-48c0-990f-b9049c3a091a\">\n",
              "    <div class=\"colab-df-container\">\n",
              "      <div>\n",
              "<style scoped>\n",
              "    .dataframe tbody tr th:only-of-type {\n",
              "        vertical-align: middle;\n",
              "    }\n",
              "\n",
              "    .dataframe tbody tr th {\n",
              "        vertical-align: top;\n",
              "    }\n",
              "\n",
              "    .dataframe thead th {\n",
              "        text-align: right;\n",
              "    }\n",
              "</style>\n",
              "<table border=\"1\" class=\"dataframe\">\n",
              "  <thead>\n",
              "    <tr style=\"text-align: right;\">\n",
              "      <th></th>\n",
              "      <th>day</th>\n",
              "      <th>year</th>\n",
              "      <th>mo</th>\n",
              "      <th>da</th>\n",
              "      <th>temp</th>\n",
              "      <th>dewp</th>\n",
              "      <th>slp</th>\n",
              "      <th>visib</th>\n",
              "      <th>wdsp</th>\n",
              "      <th>mxpsd</th>\n",
              "      <th>gust</th>\n",
              "      <th>max</th>\n",
              "      <th>min</th>\n",
              "      <th>prcp</th>\n",
              "      <th>fog</th>\n",
              "      <th>NUM_COLLISIONS</th>\n",
              "    </tr>\n",
              "    <tr>\n",
              "      <th>collision_date</th>\n",
              "      <th></th>\n",
              "      <th></th>\n",
              "      <th></th>\n",
              "      <th></th>\n",
              "      <th></th>\n",
              "      <th></th>\n",
              "      <th></th>\n",
              "      <th></th>\n",
              "      <th></th>\n",
              "      <th></th>\n",
              "      <th></th>\n",
              "      <th></th>\n",
              "      <th></th>\n",
              "      <th></th>\n",
              "      <th></th>\n",
              "      <th></th>\n",
              "    </tr>\n",
              "  </thead>\n",
              "  <tbody>\n",
              "    <tr>\n",
              "      <th>2018-09-23</th>\n",
              "      <td>7</td>\n",
              "      <td>2018</td>\n",
              "      <td>9</td>\n",
              "      <td>23</td>\n",
              "      <td>0.667491</td>\n",
              "      <td>0.005686</td>\n",
              "      <td>0.003818</td>\n",
              "      <td>1.000000</td>\n",
              "      <td>0.120879</td>\n",
              "      <td>0.121429</td>\n",
              "      <td>0.000000</td>\n",
              "      <td>0.732927</td>\n",
              "      <td>0.734667</td>\n",
              "      <td>0.000</td>\n",
              "      <td>0</td>\n",
              "      <td>0.341625</td>\n",
              "    </tr>\n",
              "    <tr>\n",
              "      <th>2018-12-20</th>\n",
              "      <td>4</td>\n",
              "      <td>2018</td>\n",
              "      <td>12</td>\n",
              "      <td>20</td>\n",
              "      <td>0.405439</td>\n",
              "      <td>0.004107</td>\n",
              "      <td>0.003462</td>\n",
              "      <td>0.959184</td>\n",
              "      <td>0.230769</td>\n",
              "      <td>0.166667</td>\n",
              "      <td>0.000000</td>\n",
              "      <td>0.365854</td>\n",
              "      <td>0.306667</td>\n",
              "      <td>0.000</td>\n",
              "      <td>0</td>\n",
              "      <td>0.890547</td>\n",
              "    </tr>\n",
              "    <tr>\n",
              "      <th>2013-11-05</th>\n",
              "      <td>2</td>\n",
              "      <td>2013</td>\n",
              "      <td>11</td>\n",
              "      <td>5</td>\n",
              "      <td>0.466007</td>\n",
              "      <td>0.003708</td>\n",
              "      <td>0.005416</td>\n",
              "      <td>1.000000</td>\n",
              "      <td>0.170330</td>\n",
              "      <td>0.166667</td>\n",
              "      <td>0.000000</td>\n",
              "      <td>0.390244</td>\n",
              "      <td>0.532000</td>\n",
              "      <td>0.000</td>\n",
              "      <td>0</td>\n",
              "      <td>0.399668</td>\n",
              "    </tr>\n",
              "    <tr>\n",
              "      <th>2012-07-11</th>\n",
              "      <td>3</td>\n",
              "      <td>2012</td>\n",
              "      <td>7</td>\n",
              "      <td>11</td>\n",
              "      <td>0.881335</td>\n",
              "      <td>0.006865</td>\n",
              "      <td>0.003429</td>\n",
              "      <td>1.000000</td>\n",
              "      <td>0.060440</td>\n",
              "      <td>0.166667</td>\n",
              "      <td>0.000000</td>\n",
              "      <td>0.804878</td>\n",
              "      <td>0.892000</td>\n",
              "      <td>0.000</td>\n",
              "      <td>0</td>\n",
              "      <td>0.490879</td>\n",
              "    </tr>\n",
              "    <tr>\n",
              "      <th>2012-07-12</th>\n",
              "      <td>4</td>\n",
              "      <td>2012</td>\n",
              "      <td>7</td>\n",
              "      <td>12</td>\n",
              "      <td>0.885043</td>\n",
              "      <td>0.006686</td>\n",
              "      <td>0.003629</td>\n",
              "      <td>1.000000</td>\n",
              "      <td>0.082418</td>\n",
              "      <td>0.166667</td>\n",
              "      <td>0.000000</td>\n",
              "      <td>0.853659</td>\n",
              "      <td>0.786667</td>\n",
              "      <td>0.000</td>\n",
              "      <td>0</td>\n",
              "      <td>0.510779</td>\n",
              "    </tr>\n",
              "    <tr>\n",
              "      <th>...</th>\n",
              "      <td>...</td>\n",
              "      <td>...</td>\n",
              "      <td>...</td>\n",
              "      <td>...</td>\n",
              "      <td>...</td>\n",
              "      <td>...</td>\n",
              "      <td>...</td>\n",
              "      <td>...</td>\n",
              "      <td>...</td>\n",
              "      <td>...</td>\n",
              "      <td>...</td>\n",
              "      <td>...</td>\n",
              "      <td>...</td>\n",
              "      <td>...</td>\n",
              "      <td>...</td>\n",
              "      <td>...</td>\n",
              "    </tr>\n",
              "    <tr>\n",
              "      <th>2017-12-25</th>\n",
              "      <td>1</td>\n",
              "      <td>2017</td>\n",
              "      <td>12</td>\n",
              "      <td>25</td>\n",
              "      <td>0.436341</td>\n",
              "      <td>0.004197</td>\n",
              "      <td>0.002231</td>\n",
              "      <td>0.785714</td>\n",
              "      <td>0.873626</td>\n",
              "      <td>1.000000</td>\n",
              "      <td>0.962775</td>\n",
              "      <td>0.390244</td>\n",
              "      <td>0.494667</td>\n",
              "      <td>0.002</td>\n",
              "      <td>0</td>\n",
              "      <td>0.106136</td>\n",
              "    </tr>\n",
              "    <tr>\n",
              "      <th>2012-11-07</th>\n",
              "      <td>3</td>\n",
              "      <td>2012</td>\n",
              "      <td>11</td>\n",
              "      <td>7</td>\n",
              "      <td>0.386897</td>\n",
              "      <td>0.003378</td>\n",
              "      <td>0.002841</td>\n",
              "      <td>0.724490</td>\n",
              "      <td>0.510989</td>\n",
              "      <td>1.000000</td>\n",
              "      <td>0.945854</td>\n",
              "      <td>0.368293</td>\n",
              "      <td>0.438667</td>\n",
              "      <td>0.000</td>\n",
              "      <td>1</td>\n",
              "      <td>0.744610</td>\n",
              "    </tr>\n",
              "    <tr>\n",
              "      <th>2014-11-13</th>\n",
              "      <td>4</td>\n",
              "      <td>2014</td>\n",
              "      <td>11</td>\n",
              "      <td>13</td>\n",
              "      <td>0.543881</td>\n",
              "      <td>0.004777</td>\n",
              "      <td>0.002941</td>\n",
              "      <td>0.857143</td>\n",
              "      <td>0.417582</td>\n",
              "      <td>0.000000</td>\n",
              "      <td>0.000000</td>\n",
              "      <td>0.609756</td>\n",
              "      <td>0.626667</td>\n",
              "      <td>0.000</td>\n",
              "      <td>1</td>\n",
              "      <td>0.708126</td>\n",
              "    </tr>\n",
              "    <tr>\n",
              "      <th>2015-09-03</th>\n",
              "      <td>4</td>\n",
              "      <td>2015</td>\n",
              "      <td>9</td>\n",
              "      <td>3</td>\n",
              "      <td>0.849197</td>\n",
              "      <td>0.007665</td>\n",
              "      <td>0.002497</td>\n",
              "      <td>0.744898</td>\n",
              "      <td>0.285714</td>\n",
              "      <td>0.000000</td>\n",
              "      <td>0.000000</td>\n",
              "      <td>0.768293</td>\n",
              "      <td>0.948000</td>\n",
              "      <td>0.000</td>\n",
              "      <td>0</td>\n",
              "      <td>0.656716</td>\n",
              "    </tr>\n",
              "    <tr>\n",
              "      <th>2015-09-02</th>\n",
              "      <td>3</td>\n",
              "      <td>2015</td>\n",
              "      <td>9</td>\n",
              "      <td>2</td>\n",
              "      <td>0.744129</td>\n",
              "      <td>0.006925</td>\n",
              "      <td>0.003118</td>\n",
              "      <td>0.969388</td>\n",
              "      <td>0.247253</td>\n",
              "      <td>0.000000</td>\n",
              "      <td>0.000000</td>\n",
              "      <td>0.768293</td>\n",
              "      <td>0.840000</td>\n",
              "      <td>0.000</td>\n",
              "      <td>1</td>\n",
              "      <td>0.638474</td>\n",
              "    </tr>\n",
              "  </tbody>\n",
              "</table>\n",
              "<p>2910 rows × 16 columns</p>\n",
              "</div>\n",
              "      <button class=\"colab-df-convert\" onclick=\"convertToInteractive('df-b1ad4633-821f-48c0-990f-b9049c3a091a')\"\n",
              "              title=\"Convert this dataframe to an interactive table.\"\n",
              "              style=\"display:none;\">\n",
              "        \n",
              "  <svg xmlns=\"http://www.w3.org/2000/svg\" height=\"24px\"viewBox=\"0 0 24 24\"\n",
              "       width=\"24px\">\n",
              "    <path d=\"M0 0h24v24H0V0z\" fill=\"none\"/>\n",
              "    <path d=\"M18.56 5.44l.94 2.06.94-2.06 2.06-.94-2.06-.94-.94-2.06-.94 2.06-2.06.94zm-11 1L8.5 8.5l.94-2.06 2.06-.94-2.06-.94L8.5 2.5l-.94 2.06-2.06.94zm10 10l.94 2.06.94-2.06 2.06-.94-2.06-.94-.94-2.06-.94 2.06-2.06.94z\"/><path d=\"M17.41 7.96l-1.37-1.37c-.4-.4-.92-.59-1.43-.59-.52 0-1.04.2-1.43.59L10.3 9.45l-7.72 7.72c-.78.78-.78 2.05 0 2.83L4 21.41c.39.39.9.59 1.41.59.51 0 1.02-.2 1.41-.59l7.78-7.78 2.81-2.81c.8-.78.8-2.07 0-2.86zM5.41 20L4 18.59l7.72-7.72 1.47 1.35L5.41 20z\"/>\n",
              "  </svg>\n",
              "      </button>\n",
              "      \n",
              "  <style>\n",
              "    .colab-df-container {\n",
              "      display:flex;\n",
              "      flex-wrap:wrap;\n",
              "      gap: 12px;\n",
              "    }\n",
              "\n",
              "    .colab-df-convert {\n",
              "      background-color: #E8F0FE;\n",
              "      border: none;\n",
              "      border-radius: 50%;\n",
              "      cursor: pointer;\n",
              "      display: none;\n",
              "      fill: #1967D2;\n",
              "      height: 32px;\n",
              "      padding: 0 0 0 0;\n",
              "      width: 32px;\n",
              "    }\n",
              "\n",
              "    .colab-df-convert:hover {\n",
              "      background-color: #E2EBFA;\n",
              "      box-shadow: 0px 1px 2px rgba(60, 64, 67, 0.3), 0px 1px 3px 1px rgba(60, 64, 67, 0.15);\n",
              "      fill: #174EA6;\n",
              "    }\n",
              "\n",
              "    [theme=dark] .colab-df-convert {\n",
              "      background-color: #3B4455;\n",
              "      fill: #D2E3FC;\n",
              "    }\n",
              "\n",
              "    [theme=dark] .colab-df-convert:hover {\n",
              "      background-color: #434B5C;\n",
              "      box-shadow: 0px 1px 3px 1px rgba(0, 0, 0, 0.15);\n",
              "      filter: drop-shadow(0px 1px 2px rgba(0, 0, 0, 0.3));\n",
              "      fill: #FFFFFF;\n",
              "    }\n",
              "  </style>\n",
              "\n",
              "      <script>\n",
              "        const buttonEl =\n",
              "          document.querySelector('#df-b1ad4633-821f-48c0-990f-b9049c3a091a button.colab-df-convert');\n",
              "        buttonEl.style.display =\n",
              "          google.colab.kernel.accessAllowed ? 'block' : 'none';\n",
              "\n",
              "        async function convertToInteractive(key) {\n",
              "          const element = document.querySelector('#df-b1ad4633-821f-48c0-990f-b9049c3a091a');\n",
              "          const dataTable =\n",
              "            await google.colab.kernel.invokeFunction('convertToInteractive',\n",
              "                                                     [key], {});\n",
              "          if (!dataTable) return;\n",
              "\n",
              "          const docLinkHtml = 'Like what you see? Visit the ' +\n",
              "            '<a target=\"_blank\" href=https://colab.research.google.com/notebooks/data_table.ipynb>data table notebook</a>'\n",
              "            + ' to learn more about interactive tables.';\n",
              "          element.innerHTML = '';\n",
              "          dataTable['output_type'] = 'display_data';\n",
              "          await google.colab.output.renderOutput(dataTable, element);\n",
              "          const docLink = document.createElement('div');\n",
              "          docLink.innerHTML = docLinkHtml;\n",
              "          element.appendChild(docLink);\n",
              "        }\n",
              "      </script>\n",
              "    </div>\n",
              "  </div>\n",
              "  "
            ]
          },
          "metadata": {},
          "execution_count": 87
        }
      ]
    },
    {
      "cell_type": "code",
      "source": [
        "# create data frame from csv file hosted on github\n",
        "df = pd.read_csv('https://raw.githubusercontent.com/agronemic/19004547DAOTW/main/New_york_collisions_version4Standardised.csv', index_col=4, )\n",
        "df"
      ],
      "metadata": {
        "colab": {
          "base_uri": "https://localhost:8080/",
          "height": 455
        },
        "id": "0Nn8AsgVs2YX",
        "outputId": "e40b42c3-d846-4ed8-ef65-aeb5da6d0afb"
      },
      "execution_count": null,
      "outputs": [
        {
          "output_type": "execute_result",
          "data": {
            "text/plain": [
              "                day  year  mo  da      temp      dewp       slp     visib  \\\n",
              "collision_date                                                              \n",
              "2018-09-23        7  2018   9  23  0.497229  0.009235 -0.140128  0.757097   \n",
              "2018-12-20        4  2018  12  20 -0.980724 -0.076027 -0.142635  0.571868   \n",
              "2013-11-05        2  2013  11   5 -0.639122 -0.097613 -0.128849  0.757097   \n",
              "2012-07-11        3  2012   7  11  1.703295  0.072912 -0.142870  0.757097   \n",
              "2012-07-12        4  2012   7  12  1.724209  0.063199 -0.141460  0.757097   \n",
              "...             ...   ...  ..  ..       ...       ...       ...       ...   \n",
              "2017-12-25        1  2017  12  25 -0.806437 -0.071170 -0.151329 -0.215352   \n",
              "2012-11-07        3  2012  11   7 -1.085296 -0.115421 -0.147021 -0.493194   \n",
              "2014-11-13        4  2014  11  13 -0.199918 -0.039872 -0.146316  0.108798   \n",
              "2015-09-03        4  2015   9   3  1.522036  0.116083 -0.149449 -0.400580   \n",
              "2015-09-02        3  2015   9   2  0.929461  0.076150 -0.145063  0.618176   \n",
              "\n",
              "                    wdsp     mxpsd      gust       max       min      prcp  \\\n",
              "collision_date                                                               \n",
              "2018-09-23     -1.861262 -2.219024 -1.195897  1.200219  0.551728 -0.137600   \n",
              "2018-12-20     -1.310142 -1.847685 -1.195897 -0.874690 -1.614896 -0.137600   \n",
              "2013-11-05     -1.613258 -1.847685 -1.195897 -0.736823 -0.474212 -0.137600   \n",
              "2012-07-11     -2.164379 -1.847685 -1.195897  1.606929  1.348182 -0.137600   \n",
              "2012-07-12     -2.054154 -1.847685 -1.195897  1.882665  0.814963 -0.137600   \n",
              "...                  ...       ...       ...       ...       ...       ...   \n",
              "2017-12-25      1.913912  4.992758  2.960267 -0.736823 -0.663201 -0.121886   \n",
              "2012-11-07      0.095215  4.992758  2.887224 -0.860904 -0.946685 -0.137600   \n",
              "2014-11-13     -0.373237 -3.215774 -1.195897  0.503987  0.005010 -0.137600   \n",
              "2015-09-03     -1.034582 -3.215774 -1.195897  1.400128  1.631666 -0.137600   \n",
              "2015-09-02     -1.227474 -3.215774 -1.195897  1.400128  1.084947 -0.137600   \n",
              "\n",
              "                     fog  NUM_COLLISIONS  \n",
              "collision_date                            \n",
              "2018-09-23     -0.589154       -0.876381  \n",
              "2018-12-20     -0.589154        2.019455  \n",
              "2013-11-05     -0.589154       -0.570175  \n",
              "2012-07-11     -0.589154       -0.088994  \n",
              "2012-07-12     -0.589154        0.015991  \n",
              "...                  ...             ...  \n",
              "2017-12-25     -0.589154       -2.118704  \n",
              "2012-11-07      1.696765        1.249565  \n",
              "2014-11-13      1.696765        1.057093  \n",
              "2015-09-03     -0.589154        0.785881  \n",
              "2015-09-02      1.696765        0.689645  \n",
              "\n",
              "[2910 rows x 16 columns]"
            ],
            "text/html": [
              "\n",
              "  <div id=\"df-10fc106e-3068-44c3-b609-81a8f4c0b206\">\n",
              "    <div class=\"colab-df-container\">\n",
              "      <div>\n",
              "<style scoped>\n",
              "    .dataframe tbody tr th:only-of-type {\n",
              "        vertical-align: middle;\n",
              "    }\n",
              "\n",
              "    .dataframe tbody tr th {\n",
              "        vertical-align: top;\n",
              "    }\n",
              "\n",
              "    .dataframe thead th {\n",
              "        text-align: right;\n",
              "    }\n",
              "</style>\n",
              "<table border=\"1\" class=\"dataframe\">\n",
              "  <thead>\n",
              "    <tr style=\"text-align: right;\">\n",
              "      <th></th>\n",
              "      <th>day</th>\n",
              "      <th>year</th>\n",
              "      <th>mo</th>\n",
              "      <th>da</th>\n",
              "      <th>temp</th>\n",
              "      <th>dewp</th>\n",
              "      <th>slp</th>\n",
              "      <th>visib</th>\n",
              "      <th>wdsp</th>\n",
              "      <th>mxpsd</th>\n",
              "      <th>gust</th>\n",
              "      <th>max</th>\n",
              "      <th>min</th>\n",
              "      <th>prcp</th>\n",
              "      <th>fog</th>\n",
              "      <th>NUM_COLLISIONS</th>\n",
              "    </tr>\n",
              "    <tr>\n",
              "      <th>collision_date</th>\n",
              "      <th></th>\n",
              "      <th></th>\n",
              "      <th></th>\n",
              "      <th></th>\n",
              "      <th></th>\n",
              "      <th></th>\n",
              "      <th></th>\n",
              "      <th></th>\n",
              "      <th></th>\n",
              "      <th></th>\n",
              "      <th></th>\n",
              "      <th></th>\n",
              "      <th></th>\n",
              "      <th></th>\n",
              "      <th></th>\n",
              "      <th></th>\n",
              "    </tr>\n",
              "  </thead>\n",
              "  <tbody>\n",
              "    <tr>\n",
              "      <th>2018-09-23</th>\n",
              "      <td>7</td>\n",
              "      <td>2018</td>\n",
              "      <td>9</td>\n",
              "      <td>23</td>\n",
              "      <td>0.497229</td>\n",
              "      <td>0.009235</td>\n",
              "      <td>-0.140128</td>\n",
              "      <td>0.757097</td>\n",
              "      <td>-1.861262</td>\n",
              "      <td>-2.219024</td>\n",
              "      <td>-1.195897</td>\n",
              "      <td>1.200219</td>\n",
              "      <td>0.551728</td>\n",
              "      <td>-0.137600</td>\n",
              "      <td>-0.589154</td>\n",
              "      <td>-0.876381</td>\n",
              "    </tr>\n",
              "    <tr>\n",
              "      <th>2018-12-20</th>\n",
              "      <td>4</td>\n",
              "      <td>2018</td>\n",
              "      <td>12</td>\n",
              "      <td>20</td>\n",
              "      <td>-0.980724</td>\n",
              "      <td>-0.076027</td>\n",
              "      <td>-0.142635</td>\n",
              "      <td>0.571868</td>\n",
              "      <td>-1.310142</td>\n",
              "      <td>-1.847685</td>\n",
              "      <td>-1.195897</td>\n",
              "      <td>-0.874690</td>\n",
              "      <td>-1.614896</td>\n",
              "      <td>-0.137600</td>\n",
              "      <td>-0.589154</td>\n",
              "      <td>2.019455</td>\n",
              "    </tr>\n",
              "    <tr>\n",
              "      <th>2013-11-05</th>\n",
              "      <td>2</td>\n",
              "      <td>2013</td>\n",
              "      <td>11</td>\n",
              "      <td>5</td>\n",
              "      <td>-0.639122</td>\n",
              "      <td>-0.097613</td>\n",
              "      <td>-0.128849</td>\n",
              "      <td>0.757097</td>\n",
              "      <td>-1.613258</td>\n",
              "      <td>-1.847685</td>\n",
              "      <td>-1.195897</td>\n",
              "      <td>-0.736823</td>\n",
              "      <td>-0.474212</td>\n",
              "      <td>-0.137600</td>\n",
              "      <td>-0.589154</td>\n",
              "      <td>-0.570175</td>\n",
              "    </tr>\n",
              "    <tr>\n",
              "      <th>2012-07-11</th>\n",
              "      <td>3</td>\n",
              "      <td>2012</td>\n",
              "      <td>7</td>\n",
              "      <td>11</td>\n",
              "      <td>1.703295</td>\n",
              "      <td>0.072912</td>\n",
              "      <td>-0.142870</td>\n",
              "      <td>0.757097</td>\n",
              "      <td>-2.164379</td>\n",
              "      <td>-1.847685</td>\n",
              "      <td>-1.195897</td>\n",
              "      <td>1.606929</td>\n",
              "      <td>1.348182</td>\n",
              "      <td>-0.137600</td>\n",
              "      <td>-0.589154</td>\n",
              "      <td>-0.088994</td>\n",
              "    </tr>\n",
              "    <tr>\n",
              "      <th>2012-07-12</th>\n",
              "      <td>4</td>\n",
              "      <td>2012</td>\n",
              "      <td>7</td>\n",
              "      <td>12</td>\n",
              "      <td>1.724209</td>\n",
              "      <td>0.063199</td>\n",
              "      <td>-0.141460</td>\n",
              "      <td>0.757097</td>\n",
              "      <td>-2.054154</td>\n",
              "      <td>-1.847685</td>\n",
              "      <td>-1.195897</td>\n",
              "      <td>1.882665</td>\n",
              "      <td>0.814963</td>\n",
              "      <td>-0.137600</td>\n",
              "      <td>-0.589154</td>\n",
              "      <td>0.015991</td>\n",
              "    </tr>\n",
              "    <tr>\n",
              "      <th>...</th>\n",
              "      <td>...</td>\n",
              "      <td>...</td>\n",
              "      <td>...</td>\n",
              "      <td>...</td>\n",
              "      <td>...</td>\n",
              "      <td>...</td>\n",
              "      <td>...</td>\n",
              "      <td>...</td>\n",
              "      <td>...</td>\n",
              "      <td>...</td>\n",
              "      <td>...</td>\n",
              "      <td>...</td>\n",
              "      <td>...</td>\n",
              "      <td>...</td>\n",
              "      <td>...</td>\n",
              "      <td>...</td>\n",
              "    </tr>\n",
              "    <tr>\n",
              "      <th>2017-12-25</th>\n",
              "      <td>1</td>\n",
              "      <td>2017</td>\n",
              "      <td>12</td>\n",
              "      <td>25</td>\n",
              "      <td>-0.806437</td>\n",
              "      <td>-0.071170</td>\n",
              "      <td>-0.151329</td>\n",
              "      <td>-0.215352</td>\n",
              "      <td>1.913912</td>\n",
              "      <td>4.992758</td>\n",
              "      <td>2.960267</td>\n",
              "      <td>-0.736823</td>\n",
              "      <td>-0.663201</td>\n",
              "      <td>-0.121886</td>\n",
              "      <td>-0.589154</td>\n",
              "      <td>-2.118704</td>\n",
              "    </tr>\n",
              "    <tr>\n",
              "      <th>2012-11-07</th>\n",
              "      <td>3</td>\n",
              "      <td>2012</td>\n",
              "      <td>11</td>\n",
              "      <td>7</td>\n",
              "      <td>-1.085296</td>\n",
              "      <td>-0.115421</td>\n",
              "      <td>-0.147021</td>\n",
              "      <td>-0.493194</td>\n",
              "      <td>0.095215</td>\n",
              "      <td>4.992758</td>\n",
              "      <td>2.887224</td>\n",
              "      <td>-0.860904</td>\n",
              "      <td>-0.946685</td>\n",
              "      <td>-0.137600</td>\n",
              "      <td>1.696765</td>\n",
              "      <td>1.249565</td>\n",
              "    </tr>\n",
              "    <tr>\n",
              "      <th>2014-11-13</th>\n",
              "      <td>4</td>\n",
              "      <td>2014</td>\n",
              "      <td>11</td>\n",
              "      <td>13</td>\n",
              "      <td>-0.199918</td>\n",
              "      <td>-0.039872</td>\n",
              "      <td>-0.146316</td>\n",
              "      <td>0.108798</td>\n",
              "      <td>-0.373237</td>\n",
              "      <td>-3.215774</td>\n",
              "      <td>-1.195897</td>\n",
              "      <td>0.503987</td>\n",
              "      <td>0.005010</td>\n",
              "      <td>-0.137600</td>\n",
              "      <td>1.696765</td>\n",
              "      <td>1.057093</td>\n",
              "    </tr>\n",
              "    <tr>\n",
              "      <th>2015-09-03</th>\n",
              "      <td>4</td>\n",
              "      <td>2015</td>\n",
              "      <td>9</td>\n",
              "      <td>3</td>\n",
              "      <td>1.522036</td>\n",
              "      <td>0.116083</td>\n",
              "      <td>-0.149449</td>\n",
              "      <td>-0.400580</td>\n",
              "      <td>-1.034582</td>\n",
              "      <td>-3.215774</td>\n",
              "      <td>-1.195897</td>\n",
              "      <td>1.400128</td>\n",
              "      <td>1.631666</td>\n",
              "      <td>-0.137600</td>\n",
              "      <td>-0.589154</td>\n",
              "      <td>0.785881</td>\n",
              "    </tr>\n",
              "    <tr>\n",
              "      <th>2015-09-02</th>\n",
              "      <td>3</td>\n",
              "      <td>2015</td>\n",
              "      <td>9</td>\n",
              "      <td>2</td>\n",
              "      <td>0.929461</td>\n",
              "      <td>0.076150</td>\n",
              "      <td>-0.145063</td>\n",
              "      <td>0.618176</td>\n",
              "      <td>-1.227474</td>\n",
              "      <td>-3.215774</td>\n",
              "      <td>-1.195897</td>\n",
              "      <td>1.400128</td>\n",
              "      <td>1.084947</td>\n",
              "      <td>-0.137600</td>\n",
              "      <td>1.696765</td>\n",
              "      <td>0.689645</td>\n",
              "    </tr>\n",
              "  </tbody>\n",
              "</table>\n",
              "<p>2910 rows × 16 columns</p>\n",
              "</div>\n",
              "      <button class=\"colab-df-convert\" onclick=\"convertToInteractive('df-10fc106e-3068-44c3-b609-81a8f4c0b206')\"\n",
              "              title=\"Convert this dataframe to an interactive table.\"\n",
              "              style=\"display:none;\">\n",
              "        \n",
              "  <svg xmlns=\"http://www.w3.org/2000/svg\" height=\"24px\"viewBox=\"0 0 24 24\"\n",
              "       width=\"24px\">\n",
              "    <path d=\"M0 0h24v24H0V0z\" fill=\"none\"/>\n",
              "    <path d=\"M18.56 5.44l.94 2.06.94-2.06 2.06-.94-2.06-.94-.94-2.06-.94 2.06-2.06.94zm-11 1L8.5 8.5l.94-2.06 2.06-.94-2.06-.94L8.5 2.5l-.94 2.06-2.06.94zm10 10l.94 2.06.94-2.06 2.06-.94-2.06-.94-.94-2.06-.94 2.06-2.06.94z\"/><path d=\"M17.41 7.96l-1.37-1.37c-.4-.4-.92-.59-1.43-.59-.52 0-1.04.2-1.43.59L10.3 9.45l-7.72 7.72c-.78.78-.78 2.05 0 2.83L4 21.41c.39.39.9.59 1.41.59.51 0 1.02-.2 1.41-.59l7.78-7.78 2.81-2.81c.8-.78.8-2.07 0-2.86zM5.41 20L4 18.59l7.72-7.72 1.47 1.35L5.41 20z\"/>\n",
              "  </svg>\n",
              "      </button>\n",
              "      \n",
              "  <style>\n",
              "    .colab-df-container {\n",
              "      display:flex;\n",
              "      flex-wrap:wrap;\n",
              "      gap: 12px;\n",
              "    }\n",
              "\n",
              "    .colab-df-convert {\n",
              "      background-color: #E8F0FE;\n",
              "      border: none;\n",
              "      border-radius: 50%;\n",
              "      cursor: pointer;\n",
              "      display: none;\n",
              "      fill: #1967D2;\n",
              "      height: 32px;\n",
              "      padding: 0 0 0 0;\n",
              "      width: 32px;\n",
              "    }\n",
              "\n",
              "    .colab-df-convert:hover {\n",
              "      background-color: #E2EBFA;\n",
              "      box-shadow: 0px 1px 2px rgba(60, 64, 67, 0.3), 0px 1px 3px 1px rgba(60, 64, 67, 0.15);\n",
              "      fill: #174EA6;\n",
              "    }\n",
              "\n",
              "    [theme=dark] .colab-df-convert {\n",
              "      background-color: #3B4455;\n",
              "      fill: #D2E3FC;\n",
              "    }\n",
              "\n",
              "    [theme=dark] .colab-df-convert:hover {\n",
              "      background-color: #434B5C;\n",
              "      box-shadow: 0px 1px 3px 1px rgba(0, 0, 0, 0.15);\n",
              "      filter: drop-shadow(0px 1px 2px rgba(0, 0, 0, 0.3));\n",
              "      fill: #FFFFFF;\n",
              "    }\n",
              "  </style>\n",
              "\n",
              "      <script>\n",
              "        const buttonEl =\n",
              "          document.querySelector('#df-10fc106e-3068-44c3-b609-81a8f4c0b206 button.colab-df-convert');\n",
              "        buttonEl.style.display =\n",
              "          google.colab.kernel.accessAllowed ? 'block' : 'none';\n",
              "\n",
              "        async function convertToInteractive(key) {\n",
              "          const element = document.querySelector('#df-10fc106e-3068-44c3-b609-81a8f4c0b206');\n",
              "          const dataTable =\n",
              "            await google.colab.kernel.invokeFunction('convertToInteractive',\n",
              "                                                     [key], {});\n",
              "          if (!dataTable) return;\n",
              "\n",
              "          const docLinkHtml = 'Like what you see? Visit the ' +\n",
              "            '<a target=\"_blank\" href=https://colab.research.google.com/notebooks/data_table.ipynb>data table notebook</a>'\n",
              "            + ' to learn more about interactive tables.';\n",
              "          element.innerHTML = '';\n",
              "          dataTable['output_type'] = 'display_data';\n",
              "          await google.colab.output.renderOutput(dataTable, element);\n",
              "          const docLink = document.createElement('div');\n",
              "          docLink.innerHTML = docLinkHtml;\n",
              "          element.appendChild(docLink);\n",
              "        }\n",
              "      </script>\n",
              "    </div>\n",
              "  </div>\n",
              "  "
            ]
          },
          "metadata": {},
          "execution_count": 88
        }
      ]
    },
    {
      "cell_type": "markdown",
      "source": [
        "# Main predictor standardised only"
      ],
      "metadata": {
        "id": "9z-Mj0CRxMCi"
      }
    },
    {
      "cell_type": "markdown",
      "source": [
        "This dataset has only the number of collisions standardised, im unsure of how much of an afffect this will have on accuracy (if any). The different range of numbers between standardised and normalised versions also makes it difficult to tell how much of an increase or decrease the difference in mean standard error is to performance. \n",
        "\n",
        "Day linear regressor mean error: 0.785354733467102\n",
        "\n",
        "max, Temp, min, Windspeed, prpc linear regressor mean error: 0.7933220863342285\n",
        "\n",
        "All weather variables linear regressor main error: 0.8252803683280945\n",
        "\n",
        "day, month, max, temp, min, wdsp, prcp linear regressor main error: 0.8415966033935547\n",
        "\n",
        "max, Temp, Windspeed, prpc DNN mean error: 0.8093813061714172\n",
        "\n",
        "day, mo, max, temp, min, wdsp, prcp DNN mean error : 0.6556625962257385\n",
        "\n",
        "DNN all weather variables mean error: 0.8211637735366821\n"
      ],
      "metadata": {
        "id": "Ihr3UnEgvehR"
      }
    },
    {
      "cell_type": "code",
      "source": [
        "df = pd.read_csv('https://raw.githubusercontent.com/agronemic/19004547DAOTW/main/New_york_collisions_version4StandardisedNCONLY.csv', index_col=4, )\n",
        "df"
      ],
      "metadata": {
        "colab": {
          "base_uri": "https://localhost:8080/",
          "height": 455
        },
        "id": "WoxHWlQdtTcT",
        "outputId": "bbffc6cc-19a7-40c4-f09d-f7abd5d16cfe"
      },
      "execution_count": null,
      "outputs": [
        {
          "output_type": "execute_result",
          "data": {
            "text/plain": [
              "                day  year  mo  da  temp  dewp     slp  visib  wdsp  mxpsd  \\\n",
              "collision_date                                                              \n",
              "2018-09-23        7  2018   9  23  59.8  50.2  1023.4   10.0   3.0    5.1   \n",
              "2018-12-20        4  2018  12  20  38.6  34.4  1020.2    9.6   5.0    7.0   \n",
              "2013-11-05        2  2013  11   5  43.5  30.4  1037.8   10.0   3.9    7.0   \n",
              "2012-07-11        3  2012   7  11  77.1  62.0  1019.9   10.0   1.9    7.0   \n",
              "2012-07-12        4  2012   7  12  77.4  60.2  1021.7   10.0   2.3    7.0   \n",
              "...             ...   ...  ..  ..   ...   ...     ...    ...   ...    ...   \n",
              "2017-12-25        1  2017  12  25  41.1  35.3  1009.1    7.9  16.7   42.0   \n",
              "2012-11-07        3  2012  11   7  37.1  27.1  1014.6    7.3  10.1   42.0   \n",
              "2014-11-13        4  2014  11  13  49.8  41.1  1015.5    8.6   8.4    0.0   \n",
              "2015-09-03        4  2015   9   3  74.5  70.0  1011.5    7.5   6.0    0.0   \n",
              "2015-09-02        3  2015   9   2  66.0  62.6  1017.1    9.7   5.3    0.0   \n",
              "\n",
              "                gust   max   min  prcp  fog  NUM_COLLISIONS  \n",
              "collision_date                                               \n",
              "2018-09-23       0.0  78.1  53.1   0.0    0       -0.876381  \n",
              "2018-12-20       0.0  48.0  21.0   0.0    0        2.019455  \n",
              "2013-11-05       0.0  50.0  37.9   0.0    0       -0.570175  \n",
              "2012-07-11       0.0  84.0  64.9   0.0    0       -0.088994  \n",
              "2012-07-12       0.0  88.0  57.0   0.0    0        0.015991  \n",
              "...              ...   ...   ...   ...  ...             ...  \n",
              "2017-12-25      56.9  50.0  35.1   0.2    0       -2.118704  \n",
              "2012-11-07      55.9  48.2  30.9   0.0    1        1.249565  \n",
              "2014-11-13       0.0  68.0  45.0   0.0    1        1.057093  \n",
              "2015-09-03       0.0  81.0  69.1   0.0    0        0.785881  \n",
              "2015-09-02       0.0  81.0  61.0   0.0    1        0.689645  \n",
              "\n",
              "[2910 rows x 16 columns]"
            ],
            "text/html": [
              "\n",
              "  <div id=\"df-72884067-ae02-469a-ab3f-d46a98ad802c\">\n",
              "    <div class=\"colab-df-container\">\n",
              "      <div>\n",
              "<style scoped>\n",
              "    .dataframe tbody tr th:only-of-type {\n",
              "        vertical-align: middle;\n",
              "    }\n",
              "\n",
              "    .dataframe tbody tr th {\n",
              "        vertical-align: top;\n",
              "    }\n",
              "\n",
              "    .dataframe thead th {\n",
              "        text-align: right;\n",
              "    }\n",
              "</style>\n",
              "<table border=\"1\" class=\"dataframe\">\n",
              "  <thead>\n",
              "    <tr style=\"text-align: right;\">\n",
              "      <th></th>\n",
              "      <th>day</th>\n",
              "      <th>year</th>\n",
              "      <th>mo</th>\n",
              "      <th>da</th>\n",
              "      <th>temp</th>\n",
              "      <th>dewp</th>\n",
              "      <th>slp</th>\n",
              "      <th>visib</th>\n",
              "      <th>wdsp</th>\n",
              "      <th>mxpsd</th>\n",
              "      <th>gust</th>\n",
              "      <th>max</th>\n",
              "      <th>min</th>\n",
              "      <th>prcp</th>\n",
              "      <th>fog</th>\n",
              "      <th>NUM_COLLISIONS</th>\n",
              "    </tr>\n",
              "    <tr>\n",
              "      <th>collision_date</th>\n",
              "      <th></th>\n",
              "      <th></th>\n",
              "      <th></th>\n",
              "      <th></th>\n",
              "      <th></th>\n",
              "      <th></th>\n",
              "      <th></th>\n",
              "      <th></th>\n",
              "      <th></th>\n",
              "      <th></th>\n",
              "      <th></th>\n",
              "      <th></th>\n",
              "      <th></th>\n",
              "      <th></th>\n",
              "      <th></th>\n",
              "      <th></th>\n",
              "    </tr>\n",
              "  </thead>\n",
              "  <tbody>\n",
              "    <tr>\n",
              "      <th>2018-09-23</th>\n",
              "      <td>7</td>\n",
              "      <td>2018</td>\n",
              "      <td>9</td>\n",
              "      <td>23</td>\n",
              "      <td>59.8</td>\n",
              "      <td>50.2</td>\n",
              "      <td>1023.4</td>\n",
              "      <td>10.0</td>\n",
              "      <td>3.0</td>\n",
              "      <td>5.1</td>\n",
              "      <td>0.0</td>\n",
              "      <td>78.1</td>\n",
              "      <td>53.1</td>\n",
              "      <td>0.0</td>\n",
              "      <td>0</td>\n",
              "      <td>-0.876381</td>\n",
              "    </tr>\n",
              "    <tr>\n",
              "      <th>2018-12-20</th>\n",
              "      <td>4</td>\n",
              "      <td>2018</td>\n",
              "      <td>12</td>\n",
              "      <td>20</td>\n",
              "      <td>38.6</td>\n",
              "      <td>34.4</td>\n",
              "      <td>1020.2</td>\n",
              "      <td>9.6</td>\n",
              "      <td>5.0</td>\n",
              "      <td>7.0</td>\n",
              "      <td>0.0</td>\n",
              "      <td>48.0</td>\n",
              "      <td>21.0</td>\n",
              "      <td>0.0</td>\n",
              "      <td>0</td>\n",
              "      <td>2.019455</td>\n",
              "    </tr>\n",
              "    <tr>\n",
              "      <th>2013-11-05</th>\n",
              "      <td>2</td>\n",
              "      <td>2013</td>\n",
              "      <td>11</td>\n",
              "      <td>5</td>\n",
              "      <td>43.5</td>\n",
              "      <td>30.4</td>\n",
              "      <td>1037.8</td>\n",
              "      <td>10.0</td>\n",
              "      <td>3.9</td>\n",
              "      <td>7.0</td>\n",
              "      <td>0.0</td>\n",
              "      <td>50.0</td>\n",
              "      <td>37.9</td>\n",
              "      <td>0.0</td>\n",
              "      <td>0</td>\n",
              "      <td>-0.570175</td>\n",
              "    </tr>\n",
              "    <tr>\n",
              "      <th>2012-07-11</th>\n",
              "      <td>3</td>\n",
              "      <td>2012</td>\n",
              "      <td>7</td>\n",
              "      <td>11</td>\n",
              "      <td>77.1</td>\n",
              "      <td>62.0</td>\n",
              "      <td>1019.9</td>\n",
              "      <td>10.0</td>\n",
              "      <td>1.9</td>\n",
              "      <td>7.0</td>\n",
              "      <td>0.0</td>\n",
              "      <td>84.0</td>\n",
              "      <td>64.9</td>\n",
              "      <td>0.0</td>\n",
              "      <td>0</td>\n",
              "      <td>-0.088994</td>\n",
              "    </tr>\n",
              "    <tr>\n",
              "      <th>2012-07-12</th>\n",
              "      <td>4</td>\n",
              "      <td>2012</td>\n",
              "      <td>7</td>\n",
              "      <td>12</td>\n",
              "      <td>77.4</td>\n",
              "      <td>60.2</td>\n",
              "      <td>1021.7</td>\n",
              "      <td>10.0</td>\n",
              "      <td>2.3</td>\n",
              "      <td>7.0</td>\n",
              "      <td>0.0</td>\n",
              "      <td>88.0</td>\n",
              "      <td>57.0</td>\n",
              "      <td>0.0</td>\n",
              "      <td>0</td>\n",
              "      <td>0.015991</td>\n",
              "    </tr>\n",
              "    <tr>\n",
              "      <th>...</th>\n",
              "      <td>...</td>\n",
              "      <td>...</td>\n",
              "      <td>...</td>\n",
              "      <td>...</td>\n",
              "      <td>...</td>\n",
              "      <td>...</td>\n",
              "      <td>...</td>\n",
              "      <td>...</td>\n",
              "      <td>...</td>\n",
              "      <td>...</td>\n",
              "      <td>...</td>\n",
              "      <td>...</td>\n",
              "      <td>...</td>\n",
              "      <td>...</td>\n",
              "      <td>...</td>\n",
              "      <td>...</td>\n",
              "    </tr>\n",
              "    <tr>\n",
              "      <th>2017-12-25</th>\n",
              "      <td>1</td>\n",
              "      <td>2017</td>\n",
              "      <td>12</td>\n",
              "      <td>25</td>\n",
              "      <td>41.1</td>\n",
              "      <td>35.3</td>\n",
              "      <td>1009.1</td>\n",
              "      <td>7.9</td>\n",
              "      <td>16.7</td>\n",
              "      <td>42.0</td>\n",
              "      <td>56.9</td>\n",
              "      <td>50.0</td>\n",
              "      <td>35.1</td>\n",
              "      <td>0.2</td>\n",
              "      <td>0</td>\n",
              "      <td>-2.118704</td>\n",
              "    </tr>\n",
              "    <tr>\n",
              "      <th>2012-11-07</th>\n",
              "      <td>3</td>\n",
              "      <td>2012</td>\n",
              "      <td>11</td>\n",
              "      <td>7</td>\n",
              "      <td>37.1</td>\n",
              "      <td>27.1</td>\n",
              "      <td>1014.6</td>\n",
              "      <td>7.3</td>\n",
              "      <td>10.1</td>\n",
              "      <td>42.0</td>\n",
              "      <td>55.9</td>\n",
              "      <td>48.2</td>\n",
              "      <td>30.9</td>\n",
              "      <td>0.0</td>\n",
              "      <td>1</td>\n",
              "      <td>1.249565</td>\n",
              "    </tr>\n",
              "    <tr>\n",
              "      <th>2014-11-13</th>\n",
              "      <td>4</td>\n",
              "      <td>2014</td>\n",
              "      <td>11</td>\n",
              "      <td>13</td>\n",
              "      <td>49.8</td>\n",
              "      <td>41.1</td>\n",
              "      <td>1015.5</td>\n",
              "      <td>8.6</td>\n",
              "      <td>8.4</td>\n",
              "      <td>0.0</td>\n",
              "      <td>0.0</td>\n",
              "      <td>68.0</td>\n",
              "      <td>45.0</td>\n",
              "      <td>0.0</td>\n",
              "      <td>1</td>\n",
              "      <td>1.057093</td>\n",
              "    </tr>\n",
              "    <tr>\n",
              "      <th>2015-09-03</th>\n",
              "      <td>4</td>\n",
              "      <td>2015</td>\n",
              "      <td>9</td>\n",
              "      <td>3</td>\n",
              "      <td>74.5</td>\n",
              "      <td>70.0</td>\n",
              "      <td>1011.5</td>\n",
              "      <td>7.5</td>\n",
              "      <td>6.0</td>\n",
              "      <td>0.0</td>\n",
              "      <td>0.0</td>\n",
              "      <td>81.0</td>\n",
              "      <td>69.1</td>\n",
              "      <td>0.0</td>\n",
              "      <td>0</td>\n",
              "      <td>0.785881</td>\n",
              "    </tr>\n",
              "    <tr>\n",
              "      <th>2015-09-02</th>\n",
              "      <td>3</td>\n",
              "      <td>2015</td>\n",
              "      <td>9</td>\n",
              "      <td>2</td>\n",
              "      <td>66.0</td>\n",
              "      <td>62.6</td>\n",
              "      <td>1017.1</td>\n",
              "      <td>9.7</td>\n",
              "      <td>5.3</td>\n",
              "      <td>0.0</td>\n",
              "      <td>0.0</td>\n",
              "      <td>81.0</td>\n",
              "      <td>61.0</td>\n",
              "      <td>0.0</td>\n",
              "      <td>1</td>\n",
              "      <td>0.689645</td>\n",
              "    </tr>\n",
              "  </tbody>\n",
              "</table>\n",
              "<p>2910 rows × 16 columns</p>\n",
              "</div>\n",
              "      <button class=\"colab-df-convert\" onclick=\"convertToInteractive('df-72884067-ae02-469a-ab3f-d46a98ad802c')\"\n",
              "              title=\"Convert this dataframe to an interactive table.\"\n",
              "              style=\"display:none;\">\n",
              "        \n",
              "  <svg xmlns=\"http://www.w3.org/2000/svg\" height=\"24px\"viewBox=\"0 0 24 24\"\n",
              "       width=\"24px\">\n",
              "    <path d=\"M0 0h24v24H0V0z\" fill=\"none\"/>\n",
              "    <path d=\"M18.56 5.44l.94 2.06.94-2.06 2.06-.94-2.06-.94-.94-2.06-.94 2.06-2.06.94zm-11 1L8.5 8.5l.94-2.06 2.06-.94-2.06-.94L8.5 2.5l-.94 2.06-2.06.94zm10 10l.94 2.06.94-2.06 2.06-.94-2.06-.94-.94-2.06-.94 2.06-2.06.94z\"/><path d=\"M17.41 7.96l-1.37-1.37c-.4-.4-.92-.59-1.43-.59-.52 0-1.04.2-1.43.59L10.3 9.45l-7.72 7.72c-.78.78-.78 2.05 0 2.83L4 21.41c.39.39.9.59 1.41.59.51 0 1.02-.2 1.41-.59l7.78-7.78 2.81-2.81c.8-.78.8-2.07 0-2.86zM5.41 20L4 18.59l7.72-7.72 1.47 1.35L5.41 20z\"/>\n",
              "  </svg>\n",
              "      </button>\n",
              "      \n",
              "  <style>\n",
              "    .colab-df-container {\n",
              "      display:flex;\n",
              "      flex-wrap:wrap;\n",
              "      gap: 12px;\n",
              "    }\n",
              "\n",
              "    .colab-df-convert {\n",
              "      background-color: #E8F0FE;\n",
              "      border: none;\n",
              "      border-radius: 50%;\n",
              "      cursor: pointer;\n",
              "      display: none;\n",
              "      fill: #1967D2;\n",
              "      height: 32px;\n",
              "      padding: 0 0 0 0;\n",
              "      width: 32px;\n",
              "    }\n",
              "\n",
              "    .colab-df-convert:hover {\n",
              "      background-color: #E2EBFA;\n",
              "      box-shadow: 0px 1px 2px rgba(60, 64, 67, 0.3), 0px 1px 3px 1px rgba(60, 64, 67, 0.15);\n",
              "      fill: #174EA6;\n",
              "    }\n",
              "\n",
              "    [theme=dark] .colab-df-convert {\n",
              "      background-color: #3B4455;\n",
              "      fill: #D2E3FC;\n",
              "    }\n",
              "\n",
              "    [theme=dark] .colab-df-convert:hover {\n",
              "      background-color: #434B5C;\n",
              "      box-shadow: 0px 1px 3px 1px rgba(0, 0, 0, 0.15);\n",
              "      filter: drop-shadow(0px 1px 2px rgba(0, 0, 0, 0.3));\n",
              "      fill: #FFFFFF;\n",
              "    }\n",
              "  </style>\n",
              "\n",
              "      <script>\n",
              "        const buttonEl =\n",
              "          document.querySelector('#df-72884067-ae02-469a-ab3f-d46a98ad802c button.colab-df-convert');\n",
              "        buttonEl.style.display =\n",
              "          google.colab.kernel.accessAllowed ? 'block' : 'none';\n",
              "\n",
              "        async function convertToInteractive(key) {\n",
              "          const element = document.querySelector('#df-72884067-ae02-469a-ab3f-d46a98ad802c');\n",
              "          const dataTable =\n",
              "            await google.colab.kernel.invokeFunction('convertToInteractive',\n",
              "                                                     [key], {});\n",
              "          if (!dataTable) return;\n",
              "\n",
              "          const docLinkHtml = 'Like what you see? Visit the ' +\n",
              "            '<a target=\"_blank\" href=https://colab.research.google.com/notebooks/data_table.ipynb>data table notebook</a>'\n",
              "            + ' to learn more about interactive tables.';\n",
              "          element.innerHTML = '';\n",
              "          dataTable['output_type'] = 'display_data';\n",
              "          await google.colab.output.renderOutput(dataTable, element);\n",
              "          const docLink = document.createElement('div');\n",
              "          docLink.innerHTML = docLinkHtml;\n",
              "          element.appendChild(docLink);\n",
              "        }\n",
              "      </script>\n",
              "    </div>\n",
              "  </div>\n",
              "  "
            ]
          },
          "metadata": {},
          "execution_count": 89
        }
      ]
    },
    {
      "cell_type": "code",
      "source": [
        "df.describe()"
      ],
      "metadata": {
        "colab": {
          "base_uri": "https://localhost:8080/",
          "height": 300
        },
        "id": "3-jLeHNoxpPx",
        "outputId": "03a07402-028b-475a-ba56-d8faa0f42caa"
      },
      "execution_count": null,
      "outputs": [
        {
          "output_type": "execute_result",
          "data": {
            "text/plain": [
              "               day         year           mo           da         temp  \\\n",
              "count  2910.000000  2910.000000  2910.000000  2910.000000  2910.000000   \n",
              "mean      3.993471  2016.015464     6.727148    15.676976    52.667663   \n",
              "std       1.998528     2.395445     3.412782     8.824603    14.344163   \n",
              "min       1.000000  2012.000000     1.000000     1.000000     5.800000   \n",
              "25%       2.000000  2014.000000     4.000000     8.000000    41.425000   \n",
              "50%       4.000000  2016.000000     7.000000    16.000000    53.300000   \n",
              "75%       6.000000  2018.000000    10.000000    23.000000    65.300000   \n",
              "max       7.000000  2020.000000    12.000000    31.000000    86.700000   \n",
              "\n",
              "              dewp          slp        visib         wdsp        mxpsd  \\\n",
              "count  2910.000000  2910.000000  2910.000000  2910.000000  2910.000000   \n",
              "mean     48.488591  1202.305911     8.365052     9.754467    16.453918   \n",
              "std     185.310055  1276.729268     2.159497     3.628971     5.116627   \n",
              "min      -6.700000   989.000000     0.200000     0.800000     0.000000   \n",
              "25%      32.900000  1012.500000     7.225000     7.000000    13.000000   \n",
              "50%      46.400000  1017.100000     9.400000     9.500000    15.900000   \n",
              "75%      59.500000  1022.300000    10.000000    12.300000    20.000000   \n",
              "max    9999.900000  9999.900000    10.000000    19.000000    42.000000   \n",
              "\n",
              "              gust          max          min         prcp          fog  \\\n",
              "count  2910.000000  2910.000000  2910.000000  2910.000000  2910.000000   \n",
              "mean     16.372440    60.688832    44.925773     1.751320     0.257732   \n",
              "std      13.690509    14.506655    14.815674    12.727618     0.437461   \n",
              "min       0.000000    18.000000    -2.000000     0.000000     0.000000   \n",
              "25%       0.000000    48.900000    33.850000     0.000000     0.000000   \n",
              "50%      21.000000    61.000000    45.000000     0.000000     0.000000   \n",
              "75%      27.000000    73.000000    57.900000     0.050000     1.000000   \n",
              "max      59.100000   100.000000    73.000000    99.990000     1.000000   \n",
              "\n",
              "       NUM_COLLISIONS  \n",
              "count    2.910000e+03  \n",
              "mean    -4.199771e-16  \n",
              "std      1.000000e+00  \n",
              "min     -2.678624e+00  \n",
              "25%     -5.701751e-01  \n",
              "50%      8.598128e-02  \n",
              "75%      6.721476e-01  \n",
              "max      2.596873e+00  "
            ],
            "text/html": [
              "\n",
              "  <div id=\"df-d0111f5a-c307-452b-bb81-a68cdc4098b5\">\n",
              "    <div class=\"colab-df-container\">\n",
              "      <div>\n",
              "<style scoped>\n",
              "    .dataframe tbody tr th:only-of-type {\n",
              "        vertical-align: middle;\n",
              "    }\n",
              "\n",
              "    .dataframe tbody tr th {\n",
              "        vertical-align: top;\n",
              "    }\n",
              "\n",
              "    .dataframe thead th {\n",
              "        text-align: right;\n",
              "    }\n",
              "</style>\n",
              "<table border=\"1\" class=\"dataframe\">\n",
              "  <thead>\n",
              "    <tr style=\"text-align: right;\">\n",
              "      <th></th>\n",
              "      <th>day</th>\n",
              "      <th>year</th>\n",
              "      <th>mo</th>\n",
              "      <th>da</th>\n",
              "      <th>temp</th>\n",
              "      <th>dewp</th>\n",
              "      <th>slp</th>\n",
              "      <th>visib</th>\n",
              "      <th>wdsp</th>\n",
              "      <th>mxpsd</th>\n",
              "      <th>gust</th>\n",
              "      <th>max</th>\n",
              "      <th>min</th>\n",
              "      <th>prcp</th>\n",
              "      <th>fog</th>\n",
              "      <th>NUM_COLLISIONS</th>\n",
              "    </tr>\n",
              "  </thead>\n",
              "  <tbody>\n",
              "    <tr>\n",
              "      <th>count</th>\n",
              "      <td>2910.000000</td>\n",
              "      <td>2910.000000</td>\n",
              "      <td>2910.000000</td>\n",
              "      <td>2910.000000</td>\n",
              "      <td>2910.000000</td>\n",
              "      <td>2910.000000</td>\n",
              "      <td>2910.000000</td>\n",
              "      <td>2910.000000</td>\n",
              "      <td>2910.000000</td>\n",
              "      <td>2910.000000</td>\n",
              "      <td>2910.000000</td>\n",
              "      <td>2910.000000</td>\n",
              "      <td>2910.000000</td>\n",
              "      <td>2910.000000</td>\n",
              "      <td>2910.000000</td>\n",
              "      <td>2.910000e+03</td>\n",
              "    </tr>\n",
              "    <tr>\n",
              "      <th>mean</th>\n",
              "      <td>3.993471</td>\n",
              "      <td>2016.015464</td>\n",
              "      <td>6.727148</td>\n",
              "      <td>15.676976</td>\n",
              "      <td>52.667663</td>\n",
              "      <td>48.488591</td>\n",
              "      <td>1202.305911</td>\n",
              "      <td>8.365052</td>\n",
              "      <td>9.754467</td>\n",
              "      <td>16.453918</td>\n",
              "      <td>16.372440</td>\n",
              "      <td>60.688832</td>\n",
              "      <td>44.925773</td>\n",
              "      <td>1.751320</td>\n",
              "      <td>0.257732</td>\n",
              "      <td>-4.199771e-16</td>\n",
              "    </tr>\n",
              "    <tr>\n",
              "      <th>std</th>\n",
              "      <td>1.998528</td>\n",
              "      <td>2.395445</td>\n",
              "      <td>3.412782</td>\n",
              "      <td>8.824603</td>\n",
              "      <td>14.344163</td>\n",
              "      <td>185.310055</td>\n",
              "      <td>1276.729268</td>\n",
              "      <td>2.159497</td>\n",
              "      <td>3.628971</td>\n",
              "      <td>5.116627</td>\n",
              "      <td>13.690509</td>\n",
              "      <td>14.506655</td>\n",
              "      <td>14.815674</td>\n",
              "      <td>12.727618</td>\n",
              "      <td>0.437461</td>\n",
              "      <td>1.000000e+00</td>\n",
              "    </tr>\n",
              "    <tr>\n",
              "      <th>min</th>\n",
              "      <td>1.000000</td>\n",
              "      <td>2012.000000</td>\n",
              "      <td>1.000000</td>\n",
              "      <td>1.000000</td>\n",
              "      <td>5.800000</td>\n",
              "      <td>-6.700000</td>\n",
              "      <td>989.000000</td>\n",
              "      <td>0.200000</td>\n",
              "      <td>0.800000</td>\n",
              "      <td>0.000000</td>\n",
              "      <td>0.000000</td>\n",
              "      <td>18.000000</td>\n",
              "      <td>-2.000000</td>\n",
              "      <td>0.000000</td>\n",
              "      <td>0.000000</td>\n",
              "      <td>-2.678624e+00</td>\n",
              "    </tr>\n",
              "    <tr>\n",
              "      <th>25%</th>\n",
              "      <td>2.000000</td>\n",
              "      <td>2014.000000</td>\n",
              "      <td>4.000000</td>\n",
              "      <td>8.000000</td>\n",
              "      <td>41.425000</td>\n",
              "      <td>32.900000</td>\n",
              "      <td>1012.500000</td>\n",
              "      <td>7.225000</td>\n",
              "      <td>7.000000</td>\n",
              "      <td>13.000000</td>\n",
              "      <td>0.000000</td>\n",
              "      <td>48.900000</td>\n",
              "      <td>33.850000</td>\n",
              "      <td>0.000000</td>\n",
              "      <td>0.000000</td>\n",
              "      <td>-5.701751e-01</td>\n",
              "    </tr>\n",
              "    <tr>\n",
              "      <th>50%</th>\n",
              "      <td>4.000000</td>\n",
              "      <td>2016.000000</td>\n",
              "      <td>7.000000</td>\n",
              "      <td>16.000000</td>\n",
              "      <td>53.300000</td>\n",
              "      <td>46.400000</td>\n",
              "      <td>1017.100000</td>\n",
              "      <td>9.400000</td>\n",
              "      <td>9.500000</td>\n",
              "      <td>15.900000</td>\n",
              "      <td>21.000000</td>\n",
              "      <td>61.000000</td>\n",
              "      <td>45.000000</td>\n",
              "      <td>0.000000</td>\n",
              "      <td>0.000000</td>\n",
              "      <td>8.598128e-02</td>\n",
              "    </tr>\n",
              "    <tr>\n",
              "      <th>75%</th>\n",
              "      <td>6.000000</td>\n",
              "      <td>2018.000000</td>\n",
              "      <td>10.000000</td>\n",
              "      <td>23.000000</td>\n",
              "      <td>65.300000</td>\n",
              "      <td>59.500000</td>\n",
              "      <td>1022.300000</td>\n",
              "      <td>10.000000</td>\n",
              "      <td>12.300000</td>\n",
              "      <td>20.000000</td>\n",
              "      <td>27.000000</td>\n",
              "      <td>73.000000</td>\n",
              "      <td>57.900000</td>\n",
              "      <td>0.050000</td>\n",
              "      <td>1.000000</td>\n",
              "      <td>6.721476e-01</td>\n",
              "    </tr>\n",
              "    <tr>\n",
              "      <th>max</th>\n",
              "      <td>7.000000</td>\n",
              "      <td>2020.000000</td>\n",
              "      <td>12.000000</td>\n",
              "      <td>31.000000</td>\n",
              "      <td>86.700000</td>\n",
              "      <td>9999.900000</td>\n",
              "      <td>9999.900000</td>\n",
              "      <td>10.000000</td>\n",
              "      <td>19.000000</td>\n",
              "      <td>42.000000</td>\n",
              "      <td>59.100000</td>\n",
              "      <td>100.000000</td>\n",
              "      <td>73.000000</td>\n",
              "      <td>99.990000</td>\n",
              "      <td>1.000000</td>\n",
              "      <td>2.596873e+00</td>\n",
              "    </tr>\n",
              "  </tbody>\n",
              "</table>\n",
              "</div>\n",
              "      <button class=\"colab-df-convert\" onclick=\"convertToInteractive('df-d0111f5a-c307-452b-bb81-a68cdc4098b5')\"\n",
              "              title=\"Convert this dataframe to an interactive table.\"\n",
              "              style=\"display:none;\">\n",
              "        \n",
              "  <svg xmlns=\"http://www.w3.org/2000/svg\" height=\"24px\"viewBox=\"0 0 24 24\"\n",
              "       width=\"24px\">\n",
              "    <path d=\"M0 0h24v24H0V0z\" fill=\"none\"/>\n",
              "    <path d=\"M18.56 5.44l.94 2.06.94-2.06 2.06-.94-2.06-.94-.94-2.06-.94 2.06-2.06.94zm-11 1L8.5 8.5l.94-2.06 2.06-.94-2.06-.94L8.5 2.5l-.94 2.06-2.06.94zm10 10l.94 2.06.94-2.06 2.06-.94-2.06-.94-.94-2.06-.94 2.06-2.06.94z\"/><path d=\"M17.41 7.96l-1.37-1.37c-.4-.4-.92-.59-1.43-.59-.52 0-1.04.2-1.43.59L10.3 9.45l-7.72 7.72c-.78.78-.78 2.05 0 2.83L4 21.41c.39.39.9.59 1.41.59.51 0 1.02-.2 1.41-.59l7.78-7.78 2.81-2.81c.8-.78.8-2.07 0-2.86zM5.41 20L4 18.59l7.72-7.72 1.47 1.35L5.41 20z\"/>\n",
              "  </svg>\n",
              "      </button>\n",
              "      \n",
              "  <style>\n",
              "    .colab-df-container {\n",
              "      display:flex;\n",
              "      flex-wrap:wrap;\n",
              "      gap: 12px;\n",
              "    }\n",
              "\n",
              "    .colab-df-convert {\n",
              "      background-color: #E8F0FE;\n",
              "      border: none;\n",
              "      border-radius: 50%;\n",
              "      cursor: pointer;\n",
              "      display: none;\n",
              "      fill: #1967D2;\n",
              "      height: 32px;\n",
              "      padding: 0 0 0 0;\n",
              "      width: 32px;\n",
              "    }\n",
              "\n",
              "    .colab-df-convert:hover {\n",
              "      background-color: #E2EBFA;\n",
              "      box-shadow: 0px 1px 2px rgba(60, 64, 67, 0.3), 0px 1px 3px 1px rgba(60, 64, 67, 0.15);\n",
              "      fill: #174EA6;\n",
              "    }\n",
              "\n",
              "    [theme=dark] .colab-df-convert {\n",
              "      background-color: #3B4455;\n",
              "      fill: #D2E3FC;\n",
              "    }\n",
              "\n",
              "    [theme=dark] .colab-df-convert:hover {\n",
              "      background-color: #434B5C;\n",
              "      box-shadow: 0px 1px 3px 1px rgba(0, 0, 0, 0.15);\n",
              "      filter: drop-shadow(0px 1px 2px rgba(0, 0, 0, 0.3));\n",
              "      fill: #FFFFFF;\n",
              "    }\n",
              "  </style>\n",
              "\n",
              "      <script>\n",
              "        const buttonEl =\n",
              "          document.querySelector('#df-d0111f5a-c307-452b-bb81-a68cdc4098b5 button.colab-df-convert');\n",
              "        buttonEl.style.display =\n",
              "          google.colab.kernel.accessAllowed ? 'block' : 'none';\n",
              "\n",
              "        async function convertToInteractive(key) {\n",
              "          const element = document.querySelector('#df-d0111f5a-c307-452b-bb81-a68cdc4098b5');\n",
              "          const dataTable =\n",
              "            await google.colab.kernel.invokeFunction('convertToInteractive',\n",
              "                                                     [key], {});\n",
              "          if (!dataTable) return;\n",
              "\n",
              "          const docLinkHtml = 'Like what you see? Visit the ' +\n",
              "            '<a target=\"_blank\" href=https://colab.research.google.com/notebooks/data_table.ipynb>data table notebook</a>'\n",
              "            + ' to learn more about interactive tables.';\n",
              "          element.innerHTML = '';\n",
              "          dataTable['output_type'] = 'display_data';\n",
              "          await google.colab.output.renderOutput(dataTable, element);\n",
              "          const docLink = document.createElement('div');\n",
              "          docLink.innerHTML = docLinkHtml;\n",
              "          element.appendChild(docLink);\n",
              "        }\n",
              "      </script>\n",
              "    </div>\n",
              "  </div>\n",
              "  "
            ]
          },
          "metadata": {},
          "execution_count": 204
        }
      ]
    },
    {
      "cell_type": "markdown",
      "source": [
        "**IMPORTANT NOTE**\n",
        "as can be seen the maximum and minimum of this dataset is 2.5 and -2.6 respectively so keep that in mind when seeing the mean error and compare it to the much larger standardised range of numbers. "
      ],
      "metadata": {
        "id": "aRqRUXXgydC9"
      }
    },
    {
      "cell_type": "code",
      "source": [
        "import tensorflow as tf\n",
        "\n",
        "from tensorflow import keras\n",
        "from tensorflow.keras import layers\n",
        "\n",
        "print(tf.__version__)"
      ],
      "metadata": {
        "colab": {
          "base_uri": "https://localhost:8080/"
        },
        "id": "7XnaviuPlPKS",
        "outputId": "39e43c5d-8bde-445c-be1f-8edf8a6940ee"
      },
      "execution_count": null,
      "outputs": [
        {
          "output_type": "stream",
          "name": "stdout",
          "text": [
            "2.11.0\n"
          ]
        }
      ]
    },
    {
      "cell_type": "code",
      "source": [
        "SCALE_NUM_COLLISIONS = 1.0"
      ],
      "metadata": {
        "id": "HOU8-oSsxbmn"
      },
      "execution_count": null,
      "outputs": []
    },
    {
      "cell_type": "markdown",
      "source": [
        "This is the initial setup."
      ],
      "metadata": {
        "id": "E88rCddRv4PE"
      }
    },
    {
      "cell_type": "markdown",
      "source": [
        "# Day and NUM_TRIPS linear regressor"
      ],
      "metadata": {
        "id": "JovHPmArsu9S"
      }
    },
    {
      "cell_type": "markdown",
      "source": [
        "This initial linear regressor is a test run. Although using the day as a predictor might have great accuracy that does not show the effects of the weather on the number of collisions in new york. "
      ],
      "metadata": {
        "id": "PAwwRSAp-6P-"
      }
    },
    {
      "cell_type": "code",
      "source": [
        "# create a dataframe with the inputs and the output at the end using the imported dataframe\n",
        "df_input_data_day = [df[\"day\"], df[\"NUM_COLLISIONS\"]] \n",
        "# create headers for our new dataframe. These should correlate with the above.\n",
        "df_input_headers_day = [\"day\", \"NUM_COLLISIONS\"] \n",
        "# create a final dataframe using our new dataframe and headers. \n",
        "df_input_day = pd.concat(df_input_data_day, axis=1, keys=df_input_headers_day) "
      ],
      "metadata": {
        "id": "FWRaDMLVs3mk"
      },
      "execution_count": null,
      "outputs": []
    },
    {
      "cell_type": "code",
      "source": [
        "# construct a training set for runnign through the model and a test set, we do this by using sample with 0.8 for an 80% training set and 20% for test.\n",
        "training_set_day = df_input_day.sample(frac=0.8, random_state=0)\n",
        "test_set_day = df_input_day.drop(training_set_day.index)"
      ],
      "metadata": {
        "id": "Ty0VniOOvFR0"
      },
      "execution_count": null,
      "outputs": []
    },
    {
      "cell_type": "code",
      "source": [
        "# copy the datasets and remove the output column. We do this using pop.\n",
        "training_features_day = training_set_day.copy()\n",
        "test_features_day = test_set_day.copy()\n",
        "\n",
        "training_labels_day = training_features_day.pop('NUM_COLLISIONS')\n",
        "test_labels_day = test_features_day.pop('NUM_COLLISIONS')"
      ],
      "metadata": {
        "id": "5ojr1YWGvOEj"
      },
      "execution_count": null,
      "outputs": []
    },
    {
      "cell_type": "code",
      "source": [
        "#Here I have put a scale factor and divided by it\n",
        "training_labels_day = training_labels_day/SCALE_NUM_COLLISIONS\n",
        "test_labels_day = test_labels_day/SCALE_NUM_COLLISIONS"
      ],
      "metadata": {
        "id": "rxC88xHsvYTM"
      },
      "execution_count": null,
      "outputs": []
    },
    {
      "cell_type": "code",
      "source": [
        "print(training_features_day)"
      ],
      "metadata": {
        "id": "n_OkqLwdx6X4",
        "outputId": "05668179-e11f-4ff0-bea3-0757dac32b72",
        "colab": {
          "base_uri": "https://localhost:8080/"
        }
      },
      "execution_count": null,
      "outputs": [
        {
          "output_type": "stream",
          "name": "stdout",
          "text": [
            "                day\n",
            "collision_date     \n",
            "2016-05-20        5\n",
            "2017-12-10        7\n",
            "2018-02-23        5\n",
            "2017-07-24        1\n",
            "2014-07-03        4\n",
            "...             ...\n",
            "2016-06-10        5\n",
            "2018-06-30        6\n",
            "2015-06-30        2\n",
            "2014-02-18        2\n",
            "2017-08-22        2\n",
            "\n",
            "[2328 rows x 1 columns]\n"
          ]
        }
      ]
    },
    {
      "cell_type": "code",
      "source": [
        "normaliser_day = tf.keras.layers.Normalization(input_shape=[1,], axis=None) # tf.keras.layers.Normalization(axis=-1) \n",
        "normaliser_day.adapt(np.array(training_features_day))"
      ],
      "metadata": {
        "id": "Qpi6HgPbveSv"
      },
      "execution_count": null,
      "outputs": []
    },
    {
      "cell_type": "code",
      "source": [
        "model_0 = tf.keras.Sequential([\n",
        "    normaliser_day,\n",
        "    layers.Dense(units=1)\n",
        "])"
      ],
      "metadata": {
        "id": "y1-BThwAvhqH"
      },
      "execution_count": null,
      "outputs": []
    },
    {
      "cell_type": "code",
      "source": [
        "model_0.compile(\n",
        "    optimizer=tf.optimizers.Adam(learning_rate=0.1),\n",
        "    loss='mean_absolute_error')"
      ],
      "metadata": {
        "id": "ddgDNLTfvqOx"
      },
      "execution_count": null,
      "outputs": []
    },
    {
      "cell_type": "code",
      "source": [
        "# now we are going to fit the model where we require the training features and labels. We will run it 100 times i.e. epochs and we have applied a further 20% validation split. \n",
        "\n",
        "%%time\n",
        "history = model_0.fit(\n",
        "    training_features_day,\n",
        "    training_labels_day,\n",
        "    epochs=100,\n",
        "    verbose=0,\n",
        "    validation_split = 0.2)"
      ],
      "metadata": {
        "id": "CaJk8EUMvt5s",
        "outputId": "891a26fc-c9cb-47c7-d0d5-37ccf701ea58",
        "colab": {
          "base_uri": "https://localhost:8080/"
        }
      },
      "execution_count": null,
      "outputs": [
        {
          "output_type": "stream",
          "name": "stdout",
          "text": [
            "CPU times: user 15.4 s, sys: 719 ms, total: 16.1 s\n",
            "Wall time: 15 s\n"
          ]
        }
      ]
    },
    {
      "cell_type": "code",
      "source": [
        "# Evaluation\n",
        "mean_absolute_error_model_0 = model_0.evaluate(\n",
        "    test_features_day,\n",
        "    test_labels_day, verbose=0)"
      ],
      "metadata": {
        "id": "g_r2YIo8vzjS"
      },
      "execution_count": null,
      "outputs": []
    },
    {
      "cell_type": "code",
      "source": [
        "print(mean_absolute_error_model_0)"
      ],
      "metadata": {
        "id": "ENe5nS8Qv5vq",
        "outputId": "87fc4754-4fc6-40b8-e5ac-5c06057ea09b",
        "colab": {
          "base_uri": "https://localhost:8080/"
        }
      },
      "execution_count": null,
      "outputs": [
        {
          "output_type": "stream",
          "name": "stdout",
          "text": [
            "0.7599870562553406\n"
          ]
        }
      ]
    },
    {
      "cell_type": "code",
      "source": [
        "plot_loss(history)"
      ],
      "metadata": {
        "colab": {
          "base_uri": "https://localhost:8080/",
          "height": 283
        },
        "outputId": "75b9539f-269a-4c68-f8d8-9a138aa53002",
        "id": "74DWLULKMYym"
      },
      "execution_count": null,
      "outputs": [
        {
          "output_type": "display_data",
          "data": {
            "text/plain": [
              "<Figure size 432x288 with 1 Axes>"
            ],
            "image/png": "[encoded data removed]"
          },
          "metadata": {
            "needs_background": "light"
          }
        }
      ]
    },
    {
      "cell_type": "code",
      "source": [
        "test_predictions = model_0.predict(test_features_day).flatten()\n",
        "\n",
        "a = plt.axes(aspect='equal')\n",
        "plt.scatter(test_labels, test_predictions)\n",
        "plt.xlabel('True Values [NC]')\n",
        "plt.ylabel('Predictions [NC]')\n",
        "lims = [-2, 2]\n",
        "plt.xlim(lims)\n",
        "plt.ylim(lims)\n",
        "_ = plt.plot(lims, lims)"
      ],
      "metadata": {
        "colab": {
          "base_uri": "https://localhost:8080/",
          "height": 301
        },
        "outputId": "96b504c3-ea0e-455f-e173-77ee5aaee187",
        "id": "3HQS1o6aK6G-"
      },
      "execution_count": null,
      "outputs": [
        {
          "output_type": "stream",
          "name": "stdout",
          "text": [
            "18/18 [==============================] - 0s 2ms/step\n"
          ]
        },
        {
          "output_type": "display_data",
          "data": {
            "text/plain": [
              "<Figure size 432x288 with 1 Axes>"
            ],
            "image/png": "[encoded data removed]"
          },
          "metadata": {
            "needs_background": "light"
          }
        }
      ]
    },
    {
      "cell_type": "markdown",
      "source": [
        "This fit is seemingly very poor. Which is understandable. "
      ],
      "metadata": {
        "id": "O9kKtbT9zTS5"
      }
    },
    {
      "cell_type": "markdown",
      "source": [
        "# max, Temp, Windspeed, prpc, NUM_TRIPS\n"
      ],
      "metadata": {
        "id": "TS_y_-9uspzs"
      }
    },
    {
      "cell_type": "code",
      "source": [
        "df_input_data = [df[\"max\"], df[\"temp\"], df[\"min\"], df[\"wdsp\"],df[\"prcp\"], df[\"NUM_COLLISIONS\"]] \n",
        "# create headers for our new dataframe. These should correlate with the above.\n",
        "df_input_headers = [\"max\", \"temp\", \"min\", \"wdsp\", \"prcp\", \"NUM_COLLISIONS\"] \n",
        "# create a final dataframe using our new dataframe and headers. \n",
        "df_input = pd.concat(df_input_data, axis=1, keys=df_input_headers) "
      ],
      "metadata": {
        "id": "WHuSnr6LdC3J"
      },
      "execution_count": null,
      "outputs": []
    },
    {
      "cell_type": "code",
      "source": [
        "training_set = df_input.sample(frac=0.8, random_state=0)\n",
        "test_set = df_input.drop(training_set.index)"
      ],
      "metadata": {
        "id": "d5JtvdLBcruq"
      },
      "execution_count": null,
      "outputs": []
    },
    {
      "cell_type": "code",
      "source": [
        "# copy the datasets and remove the output column. We do this using pop.\n",
        "training_features = training_set.copy()\n",
        "test_features = test_set.copy()\n",
        "\n",
        "training_labels = training_features.pop('NUM_COLLISIONS')\n",
        "test_labels = test_features.pop('NUM_COLLISIONS')"
      ],
      "metadata": {
        "id": "EILvYoDid0wI"
      },
      "execution_count": null,
      "outputs": []
    },
    {
      "cell_type": "code",
      "source": [
        "training_labels = training_labels/SCALE_NUM_COLLISIONS\n",
        "test_labels = test_labels/SCALE_NUM_COLLISIONS"
      ],
      "metadata": {
        "id": "3NBSa-Wyf2r6"
      },
      "execution_count": null,
      "outputs": []
    },
    {
      "cell_type": "code",
      "source": [
        "normaliser = tf.keras.layers.Normalization(axis=-1)\n",
        "normaliser.adapt(np.array(training_features))"
      ],
      "metadata": {
        "id": "VQuNfPpdf9al"
      },
      "execution_count": null,
      "outputs": []
    },
    {
      "cell_type": "code",
      "source": [
        "model_1 = tf.keras.Sequential([\n",
        "    normaliser,\n",
        "    layers.Dense(units=1)\n",
        "])"
      ],
      "metadata": {
        "id": "JKiP5GIrgIJH"
      },
      "execution_count": null,
      "outputs": []
    },
    {
      "cell_type": "code",
      "source": [
        "# more boiler plate for creating a sequential model, we need an optimiser and loss parameter. Here we are going to be using the mean absolute error MAE\n",
        "model_1.compile(\n",
        "    optimizer=tf.optimizers.Adam(learning_rate=0.1),\n",
        "    loss='mean_absolute_error')"
      ],
      "metadata": {
        "id": "4odNLaUHgNb7"
      },
      "execution_count": null,
      "outputs": []
    },
    {
      "cell_type": "markdown",
      "source": [
        "Here i tried two different epoch values, 100 which gave a mean absolute error of 0.1545267254114151, and 1000, which gave a mean absolute error of 0.20800668001174927, oddly enough reducing the accuracy by quite a bit."
      ],
      "metadata": {
        "id": "JMXNOUBXTufO"
      }
    },
    {
      "cell_type": "code",
      "source": [
        "# now we are going to fit the model where we require the training features and labels. We will run it 100 times i.e. epochs and we have applied a further 20% validation split. \n",
        "\n",
        "%%time\n",
        "history = model_1.fit(\n",
        "    training_features,\n",
        "    training_labels,\n",
        "    epochs=100,\n",
        "    verbose=0,\n",
        "    validation_split = 0.2)"
      ],
      "metadata": {
        "id": "rW1K3GxUgQyC",
        "outputId": "69aa724b-385c-4c0c-f0f9-c461311db3a4",
        "colab": {
          "base_uri": "https://localhost:8080/"
        }
      },
      "execution_count": null,
      "outputs": [
        {
          "output_type": "stream",
          "name": "stdout",
          "text": [
            "CPU times: user 17.4 s, sys: 690 ms, total: 18.1 s\n",
            "Wall time: 20.4 s\n"
          ]
        }
      ]
    },
    {
      "cell_type": "code",
      "source": [
        "hist = pd.DataFrame(history.history)\n",
        "hist['epoch'] = history.epoch\n",
        "hist.tail()"
      ],
      "metadata": {
        "colab": {
          "base_uri": "https://localhost:8080/",
          "height": 206
        },
        "id": "M8NLpZ2em2kY",
        "outputId": "ac102ac3-623e-4959-9763-a116ed5f2499"
      },
      "execution_count": null,
      "outputs": [
        {
          "output_type": "execute_result",
          "data": {
            "text/plain": [
              "        loss  val_loss  epoch\n",
              "95  0.803154  0.730125     95\n",
              "96  0.797792  0.744370     96\n",
              "97  0.790797  0.727815     97\n",
              "98  0.788263  0.764618     98\n",
              "99  0.786641  0.754085     99"
            ],
            "text/html": [
              "\n",
              "  <div id=\"df-09f3dff2-c781-42a4-af23-da99422cb3c9\">\n",
              "    <div class=\"colab-df-container\">\n",
              "      <div>\n",
              "<style scoped>\n",
              "    .dataframe tbody tr th:only-of-type {\n",
              "        vertical-align: middle;\n",
              "    }\n",
              "\n",
              "    .dataframe tbody tr th {\n",
              "        vertical-align: top;\n",
              "    }\n",
              "\n",
              "    .dataframe thead th {\n",
              "        text-align: right;\n",
              "    }\n",
              "</style>\n",
              "<table border=\"1\" class=\"dataframe\">\n",
              "  <thead>\n",
              "    <tr style=\"text-align: right;\">\n",
              "      <th></th>\n",
              "      <th>loss</th>\n",
              "      <th>val_loss</th>\n",
              "      <th>epoch</th>\n",
              "    </tr>\n",
              "  </thead>\n",
              "  <tbody>\n",
              "    <tr>\n",
              "      <th>95</th>\n",
              "      <td>0.803154</td>\n",
              "      <td>0.730125</td>\n",
              "      <td>95</td>\n",
              "    </tr>\n",
              "    <tr>\n",
              "      <th>96</th>\n",
              "      <td>0.797792</td>\n",
              "      <td>0.744370</td>\n",
              "      <td>96</td>\n",
              "    </tr>\n",
              "    <tr>\n",
              "      <th>97</th>\n",
              "      <td>0.790797</td>\n",
              "      <td>0.727815</td>\n",
              "      <td>97</td>\n",
              "    </tr>\n",
              "    <tr>\n",
              "      <th>98</th>\n",
              "      <td>0.788263</td>\n",
              "      <td>0.764618</td>\n",
              "      <td>98</td>\n",
              "    </tr>\n",
              "    <tr>\n",
              "      <th>99</th>\n",
              "      <td>0.786641</td>\n",
              "      <td>0.754085</td>\n",
              "      <td>99</td>\n",
              "    </tr>\n",
              "  </tbody>\n",
              "</table>\n",
              "</div>\n",
              "      <button class=\"colab-df-convert\" onclick=\"convertToInteractive('df-09f3dff2-c781-42a4-af23-da99422cb3c9')\"\n",
              "              title=\"Convert this dataframe to an interactive table.\"\n",
              "              style=\"display:none;\">\n",
              "        \n",
              "  <svg xmlns=\"http://www.w3.org/2000/svg\" height=\"24px\"viewBox=\"0 0 24 24\"\n",
              "       width=\"24px\">\n",
              "    <path d=\"M0 0h24v24H0V0z\" fill=\"none\"/>\n",
              "    <path d=\"M18.56 5.44l.94 2.06.94-2.06 2.06-.94-2.06-.94-.94-2.06-.94 2.06-2.06.94zm-11 1L8.5 8.5l.94-2.06 2.06-.94-2.06-.94L8.5 2.5l-.94 2.06-2.06.94zm10 10l.94 2.06.94-2.06 2.06-.94-2.06-.94-.94-2.06-.94 2.06-2.06.94z\"/><path d=\"M17.41 7.96l-1.37-1.37c-.4-.4-.92-.59-1.43-.59-.52 0-1.04.2-1.43.59L10.3 9.45l-7.72 7.72c-.78.78-.78 2.05 0 2.83L4 21.41c.39.39.9.59 1.41.59.51 0 1.02-.2 1.41-.59l7.78-7.78 2.81-2.81c.8-.78.8-2.07 0-2.86zM5.41 20L4 18.59l7.72-7.72 1.47 1.35L5.41 20z\"/>\n",
              "  </svg>\n",
              "      </button>\n",
              "      \n",
              "  <style>\n",
              "    .colab-df-container {\n",
              "      display:flex;\n",
              "      flex-wrap:wrap;\n",
              "      gap: 12px;\n",
              "    }\n",
              "\n",
              "    .colab-df-convert {\n",
              "      background-color: #E8F0FE;\n",
              "      border: none;\n",
              "      border-radius: 50%;\n",
              "      cursor: pointer;\n",
              "      display: none;\n",
              "      fill: #1967D2;\n",
              "      height: 32px;\n",
              "      padding: 0 0 0 0;\n",
              "      width: 32px;\n",
              "    }\n",
              "\n",
              "    .colab-df-convert:hover {\n",
              "      background-color: #E2EBFA;\n",
              "      box-shadow: 0px 1px 2px rgba(60, 64, 67, 0.3), 0px 1px 3px 1px rgba(60, 64, 67, 0.15);\n",
              "      fill: #174EA6;\n",
              "    }\n",
              "\n",
              "    [theme=dark] .colab-df-convert {\n",
              "      background-color: #3B4455;\n",
              "      fill: #D2E3FC;\n",
              "    }\n",
              "\n",
              "    [theme=dark] .colab-df-convert:hover {\n",
              "      background-color: #434B5C;\n",
              "      box-shadow: 0px 1px 3px 1px rgba(0, 0, 0, 0.15);\n",
              "      filter: drop-shadow(0px 1px 2px rgba(0, 0, 0, 0.3));\n",
              "      fill: #FFFFFF;\n",
              "    }\n",
              "  </style>\n",
              "\n",
              "      <script>\n",
              "        const buttonEl =\n",
              "          document.querySelector('#df-09f3dff2-c781-42a4-af23-da99422cb3c9 button.colab-df-convert');\n",
              "        buttonEl.style.display =\n",
              "          google.colab.kernel.accessAllowed ? 'block' : 'none';\n",
              "\n",
              "        async function convertToInteractive(key) {\n",
              "          const element = document.querySelector('#df-09f3dff2-c781-42a4-af23-da99422cb3c9');\n",
              "          const dataTable =\n",
              "            await google.colab.kernel.invokeFunction('convertToInteractive',\n",
              "                                                     [key], {});\n",
              "          if (!dataTable) return;\n",
              "\n",
              "          const docLinkHtml = 'Like what you see? Visit the ' +\n",
              "            '<a target=\"_blank\" href=https://colab.research.google.com/notebooks/data_table.ipynb>data table notebook</a>'\n",
              "            + ' to learn more about interactive tables.';\n",
              "          element.innerHTML = '';\n",
              "          dataTable['output_type'] = 'display_data';\n",
              "          await google.colab.output.renderOutput(dataTable, element);\n",
              "          const docLink = document.createElement('div');\n",
              "          docLink.innerHTML = docLinkHtml;\n",
              "          element.appendChild(docLink);\n",
              "        }\n",
              "      </script>\n",
              "    </div>\n",
              "  </div>\n",
              "  "
            ]
          },
          "metadata": {},
          "execution_count": 113
        }
      ]
    },
    {
      "cell_type": "code",
      "source": [
        "plot_loss(history)"
      ],
      "metadata": {
        "colab": {
          "base_uri": "https://localhost:8080/",
          "height": 283
        },
        "id": "7dA72El2q4uM",
        "outputId": "2f54c989-f9a7-4566-c593-b8e142c25757"
      },
      "execution_count": null,
      "outputs": [
        {
          "output_type": "display_data",
          "data": {
            "text/plain": [
              "<Figure size 432x288 with 1 Axes>"
            ],
            "image/png": "[encoded data removed]"
          },
          "metadata": {
            "needs_background": "light"
          }
        }
      ]
    },
    {
      "cell_type": "markdown",
      "source": [
        "the loss graph shows no significant progress across epochs."
      ],
      "metadata": {
        "id": "2FQm1cL9rtux"
      }
    },
    {
      "cell_type": "code",
      "source": [
        "def plot_NUM_COLLISIONS(x, y):\n",
        "  plt.scatter(train_features['NUM_COLLISIONS'], train_labels, label='Data')\n",
        "  plt.plot(x, y, color='k', label='Predictions')\n",
        "  plt.xlabel('Horsepower')\n",
        "  plt.ylabel('NUM_COLLISIONS')\n",
        "  plt.legend()"
      ],
      "metadata": {
        "id": "-RkNVY8QkvRU"
      },
      "execution_count": null,
      "outputs": []
    },
    {
      "cell_type": "code",
      "source": [
        "#evaluate our model using the test features and labels. \n",
        "mean_absolute_error_model_1 = model_1.evaluate(\n",
        "    test_features,\n",
        "    test_labels, verbose=0)"
      ],
      "metadata": {
        "id": "ALdhLDb_gSjq"
      },
      "execution_count": null,
      "outputs": []
    },
    {
      "cell_type": "code",
      "source": [
        "# The mean absolute error of the model can be printed out. It will also vary on each training run due to randomisation.\n",
        "print(mean_absolute_error_model_1)"
      ],
      "metadata": {
        "id": "NVLVxc_aghcD",
        "outputId": "481edd93-2062-4d22-e787-c5e7096297f7",
        "colab": {
          "base_uri": "https://localhost:8080/"
        }
      },
      "execution_count": null,
      "outputs": [
        {
          "output_type": "stream",
          "name": "stdout",
          "text": [
            "0.8160154819488525\n"
          ]
        }
      ]
    },
    {
      "cell_type": "code",
      "source": [
        "test_results['LM_model_main'] = model_1.evaluate(test_features, test_labels, verbose=0)\n"
      ],
      "metadata": {
        "id": "gJ8OdvI_zYNn"
      },
      "execution_count": null,
      "outputs": []
    },
    {
      "cell_type": "code",
      "source": [
        "# we create a custom dataframe with 3 values per feature. \n",
        "input_1 = pd.DataFrame.from_dict(data = \n",
        "\t\t\t\t{\n",
        "            'max' : [0.732927,0.365854,0.390244],\n",
        "            'temp' : [0.667491, 0.405439, 0.466007],\n",
        "            'min' : [0.734667,0.306667,0.532000],\n",
        "            'wdsp' : [0.120879, 0.230769,0.170330],\n",
        "            'prcp' : [\t0,0,0]\n",
        "        })"
      ],
      "metadata": {
        "id": "hdG-BTFwhNT1"
      },
      "execution_count": null,
      "outputs": []
    },
    {
      "cell_type": "code",
      "source": [
        "input_1.head()"
      ],
      "metadata": {
        "id": "g91lv_a0uoSh",
        "outputId": "5a42df32-b22f-48f5-bcaa-a88ac4d0bc5f",
        "colab": {
          "base_uri": "https://localhost:8080/",
          "height": 143
        }
      },
      "execution_count": null,
      "outputs": [
        {
          "output_type": "execute_result",
          "data": {
            "text/plain": [
              "        max      temp       min      wdsp  prcp\n",
              "0  0.732927  0.667491  0.734667  0.120879     0\n",
              "1  0.365854  0.405439  0.306667  0.230769     0\n",
              "2  0.390244  0.466007  0.532000  0.170330     0"
            ],
            "text/html": [
              "\n",
              "  <div id=\"df-3ef2fff2-f47a-481c-9fa1-9bd9c9108142\">\n",
              "    <div class=\"colab-df-container\">\n",
              "      <div>\n",
              "<style scoped>\n",
              "    .dataframe tbody tr th:only-of-type {\n",
              "        vertical-align: middle;\n",
              "    }\n",
              "\n",
              "    .dataframe tbody tr th {\n",
              "        vertical-align: top;\n",
              "    }\n",
              "\n",
              "    .dataframe thead th {\n",
              "        text-align: right;\n",
              "    }\n",
              "</style>\n",
              "<table border=\"1\" class=\"dataframe\">\n",
              "  <thead>\n",
              "    <tr style=\"text-align: right;\">\n",
              "      <th></th>\n",
              "      <th>max</th>\n",
              "      <th>temp</th>\n",
              "      <th>min</th>\n",
              "      <th>wdsp</th>\n",
              "      <th>prcp</th>\n",
              "    </tr>\n",
              "  </thead>\n",
              "  <tbody>\n",
              "    <tr>\n",
              "      <th>0</th>\n",
              "      <td>0.732927</td>\n",
              "      <td>0.667491</td>\n",
              "      <td>0.734667</td>\n",
              "      <td>0.120879</td>\n",
              "      <td>0</td>\n",
              "    </tr>\n",
              "    <tr>\n",
              "      <th>1</th>\n",
              "      <td>0.365854</td>\n",
              "      <td>0.405439</td>\n",
              "      <td>0.306667</td>\n",
              "      <td>0.230769</td>\n",
              "      <td>0</td>\n",
              "    </tr>\n",
              "    <tr>\n",
              "      <th>2</th>\n",
              "      <td>0.390244</td>\n",
              "      <td>0.466007</td>\n",
              "      <td>0.532000</td>\n",
              "      <td>0.170330</td>\n",
              "      <td>0</td>\n",
              "    </tr>\n",
              "  </tbody>\n",
              "</table>\n",
              "</div>\n",
              "      <button class=\"colab-df-convert\" onclick=\"convertToInteractive('df-3ef2fff2-f47a-481c-9fa1-9bd9c9108142')\"\n",
              "              title=\"Convert this dataframe to an interactive table.\"\n",
              "              style=\"display:none;\">\n",
              "        \n",
              "  <svg xmlns=\"http://www.w3.org/2000/svg\" height=\"24px\"viewBox=\"0 0 24 24\"\n",
              "       width=\"24px\">\n",
              "    <path d=\"M0 0h24v24H0V0z\" fill=\"none\"/>\n",
              "    <path d=\"M18.56 5.44l.94 2.06.94-2.06 2.06-.94-2.06-.94-.94-2.06-.94 2.06-2.06.94zm-11 1L8.5 8.5l.94-2.06 2.06-.94-2.06-.94L8.5 2.5l-.94 2.06-2.06.94zm10 10l.94 2.06.94-2.06 2.06-.94-2.06-.94-.94-2.06-.94 2.06-2.06.94z\"/><path d=\"M17.41 7.96l-1.37-1.37c-.4-.4-.92-.59-1.43-.59-.52 0-1.04.2-1.43.59L10.3 9.45l-7.72 7.72c-.78.78-.78 2.05 0 2.83L4 21.41c.39.39.9.59 1.41.59.51 0 1.02-.2 1.41-.59l7.78-7.78 2.81-2.81c.8-.78.8-2.07 0-2.86zM5.41 20L4 18.59l7.72-7.72 1.47 1.35L5.41 20z\"/>\n",
              "  </svg>\n",
              "      </button>\n",
              "      \n",
              "  <style>\n",
              "    .colab-df-container {\n",
              "      display:flex;\n",
              "      flex-wrap:wrap;\n",
              "      gap: 12px;\n",
              "    }\n",
              "\n",
              "    .colab-df-convert {\n",
              "      background-color: #E8F0FE;\n",
              "      border: none;\n",
              "      border-radius: 50%;\n",
              "      cursor: pointer;\n",
              "      display: none;\n",
              "      fill: #1967D2;\n",
              "      height: 32px;\n",
              "      padding: 0 0 0 0;\n",
              "      width: 32px;\n",
              "    }\n",
              "\n",
              "    .colab-df-convert:hover {\n",
              "      background-color: #E2EBFA;\n",
              "      box-shadow: 0px 1px 2px rgba(60, 64, 67, 0.3), 0px 1px 3px 1px rgba(60, 64, 67, 0.15);\n",
              "      fill: #174EA6;\n",
              "    }\n",
              "\n",
              "    [theme=dark] .colab-df-convert {\n",
              "      background-color: #3B4455;\n",
              "      fill: #D2E3FC;\n",
              "    }\n",
              "\n",
              "    [theme=dark] .colab-df-convert:hover {\n",
              "      background-color: #434B5C;\n",
              "      box-shadow: 0px 1px 3px 1px rgba(0, 0, 0, 0.15);\n",
              "      filter: drop-shadow(0px 1px 2px rgba(0, 0, 0, 0.3));\n",
              "      fill: #FFFFFF;\n",
              "    }\n",
              "  </style>\n",
              "\n",
              "      <script>\n",
              "        const buttonEl =\n",
              "          document.querySelector('#df-3ef2fff2-f47a-481c-9fa1-9bd9c9108142 button.colab-df-convert');\n",
              "        buttonEl.style.display =\n",
              "          google.colab.kernel.accessAllowed ? 'block' : 'none';\n",
              "\n",
              "        async function convertToInteractive(key) {\n",
              "          const element = document.querySelector('#df-3ef2fff2-f47a-481c-9fa1-9bd9c9108142');\n",
              "          const dataTable =\n",
              "            await google.colab.kernel.invokeFunction('convertToInteractive',\n",
              "                                                     [key], {});\n",
              "          if (!dataTable) return;\n",
              "\n",
              "          const docLinkHtml = 'Like what you see? Visit the ' +\n",
              "            '<a target=\"_blank\" href=https://colab.research.google.com/notebooks/data_table.ipynb>data table notebook</a>'\n",
              "            + ' to learn more about interactive tables.';\n",
              "          element.innerHTML = '';\n",
              "          dataTable['output_type'] = 'display_data';\n",
              "          await google.colab.output.renderOutput(dataTable, element);\n",
              "          const docLink = document.createElement('div');\n",
              "          docLink.innerHTML = docLinkHtml;\n",
              "          element.appendChild(docLink);\n",
              "        }\n",
              "      </script>\n",
              "    </div>\n",
              "  </div>\n",
              "  "
            ]
          },
          "metadata": {},
          "execution_count": 120
        }
      ]
    },
    {
      "cell_type": "code",
      "source": [
        "linear_day_predictions_1 = model_1.predict(input_1[:3])*SCALE_NUM_COLLISIONS # essentially 600000 in this instance would give back realistic numbers based on the TAXI_TRIPS data\n",
        "print(linear_day_predictions_1)"
      ],
      "metadata": {
        "id": "bk96l6IfjA_1",
        "outputId": "0477c949-a177-47e3-9fd9-db332ca13754",
        "colab": {
          "base_uri": "https://localhost:8080/"
        }
      },
      "execution_count": null,
      "outputs": [
        {
          "output_type": "stream",
          "name": "stdout",
          "text": [
            "1/1 [==============================] - 0s 58ms/step\n",
            "[[-1.2290215]\n",
            " [-1.2273537]\n",
            " [-1.2320975]]\n"
          ]
        }
      ]
    },
    {
      "cell_type": "markdown",
      "source": [
        "We have used the first 3 elements in the array to see if it gives an accurate result\n",
        "\n",
        "The first prediction is off, at 0.341625 when it predicted 0.53431046\n",
        "\n",
        "the second prediction is massively off, as 0.890547 was the closest possible answer and it gave 0.39628223 \n",
        "\n",
        "and the third prediction is the closest at 0.399668 when it predicted  0.39625937, which is incredibly close. \n",
        "\n",
        "The last prediction with the higher temperature seems to punish the values more."
      ],
      "metadata": {
        "id": "MZNN3Pdbj1I8"
      }
    },
    {
      "cell_type": "code",
      "source": [
        "input_2 = pd.DataFrame.from_dict(data = \n",
        "\t\t\t\t{\n",
        "            'day' : [6,6,6],\n",
        "            'temp' : [61.8, 31.2, 77.0],\n",
        "            'wdsp' : [5.0, 3.0, 8.0]\n",
        "        })"
      ],
      "metadata": {
        "id": "1JBbhB3_kAZ0"
      },
      "execution_count": null,
      "outputs": []
    },
    {
      "cell_type": "code",
      "source": [
        "test_predictions = model_1.predict(test_features).flatten()\n",
        "\n",
        "a = plt.axes(aspect='equal')\n",
        "plt.scatter(test_labels, test_predictions)\n",
        "plt.xlabel('True Values [NC]')\n",
        "plt.ylabel('Predictions [NC]')\n",
        "lims = [-2, 2]\n",
        "plt.xlim(lims)\n",
        "plt.ylim(lims)\n",
        "_ = plt.plot(lims, lims)"
      ],
      "metadata": {
        "colab": {
          "base_uri": "https://localhost:8080/",
          "height": 301
        },
        "outputId": "1520e3db-d254-4ae3-a79c-197c7d09b297",
        "id": "mQiVW4O8H7pi"
      },
      "execution_count": null,
      "outputs": [
        {
          "output_type": "stream",
          "name": "stdout",
          "text": [
            "18/18 [==============================] - 0s 1ms/step\n"
          ]
        },
        {
          "output_type": "display_data",
          "data": {
            "text/plain": [
              "<Figure size 432x288 with 1 Axes>"
            ],
            "image/png": "[encoded data removed]"
          },
          "metadata": {
            "needs_background": "light"
          }
        }
      ]
    },
    {
      "cell_type": "code",
      "source": [],
      "metadata": {
        "id": "eYuc-PwTMhQo"
      },
      "execution_count": null,
      "outputs": []
    },
    {
      "cell_type": "code",
      "source": [
        "plot_loss(history)"
      ],
      "metadata": {
        "colab": {
          "base_uri": "https://localhost:8080/",
          "height": 283
        },
        "outputId": "fe9a2698-dea3-428f-85b2-a3dc7f0f8ab8",
        "id": "xbIXHba-MhZ1"
      },
      "execution_count": null,
      "outputs": [
        {
          "output_type": "display_data",
          "data": {
            "text/plain": [
              "<Figure size 432x288 with 1 Axes>"
            ],
            "image/png": "[encoded data removed]"
          },
          "metadata": {
            "needs_background": "light"
          }
        }
      ]
    },
    {
      "cell_type": "markdown",
      "source": [],
      "metadata": {
        "id": "4PSNABLtIBvW"
      }
    },
    {
      "cell_type": "markdown",
      "source": [
        "# max, Temp,min, Windspeed, prpc, day, month, and NUM_TRIPS\n"
      ],
      "metadata": {
        "id": "hO_DCBk0IB-6"
      }
    },
    {
      "cell_type": "markdown",
      "source": [
        "Although this linear shouldnt be a part of the assignment as its studying the effects of weather, it is important to see how much the day and month can impact the accuracy of the linear regressor and if the new york emergency services might be better off being on high alert on certain days and months instead of the weather. "
      ],
      "metadata": {
        "id": "PHLHHnCyIJ6j"
      }
    },
    {
      "cell_type": "code",
      "source": [
        "# create a dataframe with the inputs and the output at the end using the imported dataframe\n",
        "df_input_data = [df[\"mo\"],df[\"da\"],df[\"max\"], df[\"temp\"], df[\"min\"], df[\"wdsp\"],df[\"prcp\"], df[\"NUM_COLLISIONS\"]] \n",
        "# create headers for our new dataframe. These should correlate with the above.\n",
        "df_input_headers = [\"mo\", \"da\", \"max\", \"temp\", \"min\", \"wdsp\", \"prcp\", \"NUM_COLLISIONS\"] \n",
        "# create a final dataframe using our new dataframe and headers. \n",
        "df_input = pd.concat(df_input_data, axis=1, keys=df_input_headers) "
      ],
      "metadata": {
        "id": "OS3tA3jAIB-6"
      },
      "execution_count": null,
      "outputs": []
    },
    {
      "cell_type": "code",
      "source": [
        "# construct a training set for runnign through the model and a test set, we do this by using sample with 0.8 for an 80% training set and 20% for test.\n",
        "training_set = df_input.sample(frac=0.8, random_state=0)\n",
        "test_set = df_input.drop(training_set.index)"
      ],
      "metadata": {
        "id": "DpuRzEWIIB-6"
      },
      "execution_count": null,
      "outputs": []
    },
    {
      "cell_type": "code",
      "source": [
        "# copy the datasets and remove the output column. We do this using pop.\n",
        "training_features = training_set.copy()\n",
        "test_features = test_set.copy()\n",
        "\n",
        "training_labels = training_features.pop('NUM_COLLISIONS')\n",
        "test_labels = test_features.pop('NUM_COLLISIONS')"
      ],
      "metadata": {
        "id": "VM-YQVWrIB-7"
      },
      "execution_count": null,
      "outputs": []
    },
    {
      "cell_type": "code",
      "source": [
        "# Here I have put in a scale factor and divided by it \n",
        "training_labels = training_labels/SCALE_NUM_COLLISIONS\n",
        "test_labels = test_labels/SCALE_NUM_COLLISIONS"
      ],
      "metadata": {
        "id": "GUBN-mH_IB-7"
      },
      "execution_count": null,
      "outputs": []
    },
    {
      "cell_type": "code",
      "source": [
        "# boiler plate for this model. You can see that we have used the training_features here for our normalisation layer that we try and fit to the outputs.\n",
        "normaliser = tf.keras.layers.Normalization(axis=-1)\n",
        "normaliser.adapt(np.array(training_features))"
      ],
      "metadata": {
        "id": "L-dhxex1IB-7"
      },
      "execution_count": null,
      "outputs": []
    },
    {
      "cell_type": "code",
      "source": [
        "model_1 = tf.keras.Sequential([\n",
        "    normaliser,\n",
        "    layers.Dense(units=1)\n",
        "])"
      ],
      "metadata": {
        "id": "ioFnqr41IB-7"
      },
      "execution_count": null,
      "outputs": []
    },
    {
      "cell_type": "code",
      "source": [
        "model_1.compile(\n",
        "    optimizer=tf.optimizers.Adam(learning_rate=0.1),\n",
        "    loss='mean_absolute_error')"
      ],
      "metadata": {
        "id": "AYCZopb7IB-7"
      },
      "execution_count": null,
      "outputs": []
    },
    {
      "cell_type": "markdown",
      "source": [
        "Here i tried two different epoch values, 100 which gave a mean absolute error of 0.1545267254114151, and 1000, which gave a mean absolute error of 0.20800668001174927, oddly enough reducing the accuracy by quite a bit."
      ],
      "metadata": {
        "id": "PcCAExgXIB-7"
      }
    },
    {
      "cell_type": "code",
      "source": [
        "# now we are going to fit the model where we require the training features and labels. We will run it 100 times i.e. epochs and we have applied a further 20% validation split. \n",
        "\n",
        "%%time\n",
        "history = model_1.fit(\n",
        "    training_features,\n",
        "    training_labels,\n",
        "    epochs=100,\n",
        "    verbose=0,\n",
        "    validation_split = 0.2)"
      ],
      "metadata": {
        "outputId": "fcaecc40-50be-4e81-b2cb-54e5e4a681e1",
        "colab": {
          "base_uri": "https://localhost:8080/"
        },
        "id": "USGUYw-IIB-7"
      },
      "execution_count": null,
      "outputs": [
        {
          "output_type": "stream",
          "name": "stdout",
          "text": [
            "CPU times: user 18.5 s, sys: 727 ms, total: 19.2 s\n",
            "Wall time: 41.7 s\n"
          ]
        }
      ]
    },
    {
      "cell_type": "code",
      "source": [
        "hist = pd.DataFrame(history.history)\n",
        "hist['epoch'] = history.epoch\n",
        "hist.tail()"
      ],
      "metadata": {
        "colab": {
          "base_uri": "https://localhost:8080/",
          "height": 206
        },
        "id": "d-Wb8H8qnUw_",
        "outputId": "4b8b9a87-6859-4963-f5ec-71504b11d44e"
      },
      "execution_count": null,
      "outputs": [
        {
          "output_type": "execute_result",
          "data": {
            "text/plain": [
              "        loss  val_loss  epoch\n",
              "95  0.795138  0.786916     95\n",
              "96  0.797694  0.721787     96\n",
              "97  0.813056  0.749917     97\n",
              "98  0.789455  0.728388     98\n",
              "99  0.792639  0.829386     99"
            ],
            "text/html": [
              "\n",
              "  <div id=\"df-27380f62-ad37-4cf8-bdb0-4e91607b8dce\">\n",
              "    <div class=\"colab-df-container\">\n",
              "      <div>\n",
              "<style scoped>\n",
              "    .dataframe tbody tr th:only-of-type {\n",
              "        vertical-align: middle;\n",
              "    }\n",
              "\n",
              "    .dataframe tbody tr th {\n",
              "        vertical-align: top;\n",
              "    }\n",
              "\n",
              "    .dataframe thead th {\n",
              "        text-align: right;\n",
              "    }\n",
              "</style>\n",
              "<table border=\"1\" class=\"dataframe\">\n",
              "  <thead>\n",
              "    <tr style=\"text-align: right;\">\n",
              "      <th></th>\n",
              "      <th>loss</th>\n",
              "      <th>val_loss</th>\n",
              "      <th>epoch</th>\n",
              "    </tr>\n",
              "  </thead>\n",
              "  <tbody>\n",
              "    <tr>\n",
              "      <th>95</th>\n",
              "      <td>0.795138</td>\n",
              "      <td>0.786916</td>\n",
              "      <td>95</td>\n",
              "    </tr>\n",
              "    <tr>\n",
              "      <th>96</th>\n",
              "      <td>0.797694</td>\n",
              "      <td>0.721787</td>\n",
              "      <td>96</td>\n",
              "    </tr>\n",
              "    <tr>\n",
              "      <th>97</th>\n",
              "      <td>0.813056</td>\n",
              "      <td>0.749917</td>\n",
              "      <td>97</td>\n",
              "    </tr>\n",
              "    <tr>\n",
              "      <th>98</th>\n",
              "      <td>0.789455</td>\n",
              "      <td>0.728388</td>\n",
              "      <td>98</td>\n",
              "    </tr>\n",
              "    <tr>\n",
              "      <th>99</th>\n",
              "      <td>0.792639</td>\n",
              "      <td>0.829386</td>\n",
              "      <td>99</td>\n",
              "    </tr>\n",
              "  </tbody>\n",
              "</table>\n",
              "</div>\n",
              "      <button class=\"colab-df-convert\" onclick=\"convertToInteractive('df-27380f62-ad37-4cf8-bdb0-4e91607b8dce')\"\n",
              "              title=\"Convert this dataframe to an interactive table.\"\n",
              "              style=\"display:none;\">\n",
              "        \n",
              "  <svg xmlns=\"http://www.w3.org/2000/svg\" height=\"24px\"viewBox=\"0 0 24 24\"\n",
              "       width=\"24px\">\n",
              "    <path d=\"M0 0h24v24H0V0z\" fill=\"none\"/>\n",
              "    <path d=\"M18.56 5.44l.94 2.06.94-2.06 2.06-.94-2.06-.94-.94-2.06-.94 2.06-2.06.94zm-11 1L8.5 8.5l.94-2.06 2.06-.94-2.06-.94L8.5 2.5l-.94 2.06-2.06.94zm10 10l.94 2.06.94-2.06 2.06-.94-2.06-.94-.94-2.06-.94 2.06-2.06.94z\"/><path d=\"M17.41 7.96l-1.37-1.37c-.4-.4-.92-.59-1.43-.59-.52 0-1.04.2-1.43.59L10.3 9.45l-7.72 7.72c-.78.78-.78 2.05 0 2.83L4 21.41c.39.39.9.59 1.41.59.51 0 1.02-.2 1.41-.59l7.78-7.78 2.81-2.81c.8-.78.8-2.07 0-2.86zM5.41 20L4 18.59l7.72-7.72 1.47 1.35L5.41 20z\"/>\n",
              "  </svg>\n",
              "      </button>\n",
              "      \n",
              "  <style>\n",
              "    .colab-df-container {\n",
              "      display:flex;\n",
              "      flex-wrap:wrap;\n",
              "      gap: 12px;\n",
              "    }\n",
              "\n",
              "    .colab-df-convert {\n",
              "      background-color: #E8F0FE;\n",
              "      border: none;\n",
              "      border-radius: 50%;\n",
              "      cursor: pointer;\n",
              "      display: none;\n",
              "      fill: #1967D2;\n",
              "      height: 32px;\n",
              "      padding: 0 0 0 0;\n",
              "      width: 32px;\n",
              "    }\n",
              "\n",
              "    .colab-df-convert:hover {\n",
              "      background-color: #E2EBFA;\n",
              "      box-shadow: 0px 1px 2px rgba(60, 64, 67, 0.3), 0px 1px 3px 1px rgba(60, 64, 67, 0.15);\n",
              "      fill: #174EA6;\n",
              "    }\n",
              "\n",
              "    [theme=dark] .colab-df-convert {\n",
              "      background-color: #3B4455;\n",
              "      fill: #D2E3FC;\n",
              "    }\n",
              "\n",
              "    [theme=dark] .colab-df-convert:hover {\n",
              "      background-color: #434B5C;\n",
              "      box-shadow: 0px 1px 3px 1px rgba(0, 0, 0, 0.15);\n",
              "      filter: drop-shadow(0px 1px 2px rgba(0, 0, 0, 0.3));\n",
              "      fill: #FFFFFF;\n",
              "    }\n",
              "  </style>\n",
              "\n",
              "      <script>\n",
              "        const buttonEl =\n",
              "          document.querySelector('#df-27380f62-ad37-4cf8-bdb0-4e91607b8dce button.colab-df-convert');\n",
              "        buttonEl.style.display =\n",
              "          google.colab.kernel.accessAllowed ? 'block' : 'none';\n",
              "\n",
              "        async function convertToInteractive(key) {\n",
              "          const element = document.querySelector('#df-27380f62-ad37-4cf8-bdb0-4e91607b8dce');\n",
              "          const dataTable =\n",
              "            await google.colab.kernel.invokeFunction('convertToInteractive',\n",
              "                                                     [key], {});\n",
              "          if (!dataTable) return;\n",
              "\n",
              "          const docLinkHtml = 'Like what you see? Visit the ' +\n",
              "            '<a target=\"_blank\" href=https://colab.research.google.com/notebooks/data_table.ipynb>data table notebook</a>'\n",
              "            + ' to learn more about interactive tables.';\n",
              "          element.innerHTML = '';\n",
              "          dataTable['output_type'] = 'display_data';\n",
              "          await google.colab.output.renderOutput(dataTable, element);\n",
              "          const docLink = document.createElement('div');\n",
              "          docLink.innerHTML = docLinkHtml;\n",
              "          element.appendChild(docLink);\n",
              "        }\n",
              "      </script>\n",
              "    </div>\n",
              "  </div>\n",
              "  "
            ]
          },
          "metadata": {},
          "execution_count": 133
        }
      ]
    },
    {
      "cell_type": "code",
      "source": [
        "# Now, we will evaluate our model using the test features and labels. \n",
        "mean_absolute_error_model_1 = model_1.evaluate(\n",
        "    test_features,\n",
        "    test_labels, verbose=0)"
      ],
      "metadata": {
        "id": "m-icvgEdIB-8"
      },
      "execution_count": null,
      "outputs": []
    },
    {
      "cell_type": "code",
      "source": [
        "print(mean_absolute_error_model_1)"
      ],
      "metadata": {
        "outputId": "61b2e849-d7f4-439c-8fd3-c7f061aa5243",
        "colab": {
          "base_uri": "https://localhost:8080/"
        },
        "id": "zJm_wtYQIB-8"
      },
      "execution_count": null,
      "outputs": [
        {
          "output_type": "stream",
          "name": "stdout",
          "text": [
            "0.836503267288208\n"
          ]
        }
      ]
    },
    {
      "cell_type": "code",
      "source": [
        "test_predictions = model_1.predict(test_features).flatten()\n",
        "\n",
        "a = plt.axes(aspect='equal')\n",
        "plt.scatter(test_labels, test_predictions)\n",
        "plt.xlabel('True Values [NC]')\n",
        "plt.ylabel('Predictions [NC]')\n",
        "lims = [-2, 2]\n",
        "plt.xlim(lims)\n",
        "plt.ylim(lims)\n",
        "_ = plt.plot(lims, lims)"
      ],
      "metadata": {
        "colab": {
          "base_uri": "https://localhost:8080/",
          "height": 301
        },
        "outputId": "847c9a4b-847d-450e-fb03-e2baa8ef7836",
        "id": "iVGyVw8EHtNY"
      },
      "execution_count": null,
      "outputs": [
        {
          "output_type": "stream",
          "name": "stdout",
          "text": [
            "18/18 [==============================] - 0s 3ms/step\n"
          ]
        },
        {
          "output_type": "display_data",
          "data": {
            "text/plain": [
              "<Figure size 432x288 with 1 Axes>"
            ],
            "image/png": "[encoded data removed]"
          },
          "metadata": {
            "needs_background": "light"
          }
        }
      ]
    },
    {
      "cell_type": "code",
      "source": [
        "test_results['LM_model_moday'] = model_1.evaluate(test_features, test_labels, verbose=0)\n"
      ],
      "metadata": {
        "id": "EfW9QKeNzR3A"
      },
      "execution_count": null,
      "outputs": []
    },
    {
      "cell_type": "code",
      "source": [
        "plot_loss(history)"
      ],
      "metadata": {
        "colab": {
          "base_uri": "https://localhost:8080/",
          "height": 283
        },
        "outputId": "3494123d-8491-4464-c866-c21e360cb624",
        "id": "CWSqN_koMjcv"
      },
      "execution_count": null,
      "outputs": [
        {
          "output_type": "display_data",
          "data": {
            "text/plain": [
              "<Figure size 432x288 with 1 Axes>"
            ],
            "image/png": "[encoded data removed]"
          },
          "metadata": {
            "needs_background": "light"
          }
        }
      ]
    },
    {
      "cell_type": "markdown",
      "source": [
        "# All weather related feature variables linear regressor\n",
        "\n",
        "This is to see how much of an effect on preformance the other variables might have for linear regression. "
      ],
      "metadata": {
        "id": "btamDoQZzxDj"
      }
    },
    {
      "cell_type": "code",
      "source": [
        "df_input_data = [df[\"max\"], df[\"temp\"], df[\"min\"], df[\"wdsp\"],df[\"prcp\"],df[\"slp\"], df[\"visib\"], df[\"gust\"],df[\"fog\"], df[\"mxpsd\"],  df[\"NUM_COLLISIONS\"]] \n",
        "# create headers for our new dataframe. These should correlate with the above.\n",
        "df_input_headers = [\"max\", \"temp\", \"min\", \"wdsp\",\"prcp\",\"slp\", \"visib\", \"gust\", \"fog\", \"mxpsd\", \"NUM_COLLISIONS\"]\n",
        "# create a final dataframe using our new dataframe and headers. \n",
        "df_input = pd.concat(df_input_data, axis=1, keys=df_input_headers) "
      ],
      "metadata": {
        "id": "66defEZ50J5-"
      },
      "execution_count": null,
      "outputs": []
    },
    {
      "cell_type": "code",
      "source": [
        "# construct a training set for runnign through the model and a test set, we do this by using sample with 0.8 for an 80% training set and 20% for test.\n",
        "training_set = df_input.sample(frac=0.8, random_state=0)\n",
        "test_set = df_input.drop(training_set.index)"
      ],
      "metadata": {
        "id": "pzuPdt150J5_"
      },
      "execution_count": null,
      "outputs": []
    },
    {
      "cell_type": "code",
      "source": [
        "# copy the datasets and remove the output column. We do this using pop.\n",
        "training_features = training_set.copy()\n",
        "test_features = test_set.copy()\n",
        "\n",
        "training_labels = training_features.pop('NUM_COLLISIONS')\n",
        "test_labels = test_features.pop('NUM_COLLISIONS')"
      ],
      "metadata": {
        "id": "sSuRyMeP0J5_"
      },
      "execution_count": null,
      "outputs": []
    },
    {
      "cell_type": "code",
      "source": [
        "training_labels = training_labels/SCALE_NUM_COLLISIONS\n",
        "test_labels = test_labels/SCALE_NUM_COLLISIONS"
      ],
      "metadata": {
        "id": "24bpMEEM0J5_"
      },
      "execution_count": null,
      "outputs": []
    },
    {
      "cell_type": "code",
      "source": [
        "normaliser = tf.keras.layers.Normalization(axis=-1)\n",
        "normaliser.adapt(np.array(training_features))"
      ],
      "metadata": {
        "id": "ARvprrVe0J6A"
      },
      "execution_count": null,
      "outputs": []
    },
    {
      "cell_type": "code",
      "source": [
        "model_1 = tf.keras.Sequential([\n",
        "    normaliser,\n",
        "    layers.Dense(units=1)\n",
        "])"
      ],
      "metadata": {
        "id": "MrJzfGzk0J6A"
      },
      "execution_count": null,
      "outputs": []
    },
    {
      "cell_type": "code",
      "source": [
        "model_1.compile(\n",
        "    optimizer=tf.optimizers.Adam(learning_rate=0.1),\n",
        "    loss='mean_absolute_error')"
      ],
      "metadata": {
        "id": "v67jixgE0J6A"
      },
      "execution_count": null,
      "outputs": []
    },
    {
      "cell_type": "markdown",
      "source": [
        "Here i tried two different epoch values, 100 which gave a mean absolute error of 0.1545267254114151, and 1000, which gave a mean absolute error of 0.20800668001174927, oddly enough reducing the accuracy by quite a bit."
      ],
      "metadata": {
        "id": "MuVrtTYx0J6A"
      }
    },
    {
      "cell_type": "code",
      "source": [
        "\n",
        "%%time\n",
        "history = model_1.fit(\n",
        "    training_features,\n",
        "    training_labels,\n",
        "    epochs=100,\n",
        "    verbose=0,\n",
        "    validation_split = 0.2)"
      ],
      "metadata": {
        "outputId": "d107b3d7-abdc-4acd-cdbc-74e9bfebb418",
        "colab": {
          "base_uri": "https://localhost:8080/"
        },
        "id": "wpkI3H5q0J6A"
      },
      "execution_count": null,
      "outputs": [
        {
          "output_type": "stream",
          "name": "stdout",
          "text": [
            "CPU times: user 15.4 s, sys: 683 ms, total: 16 s\n",
            "Wall time: 14.8 s\n"
          ]
        }
      ]
    },
    {
      "cell_type": "code",
      "source": [
        "hist = pd.DataFrame(history.history)\n",
        "hist['epoch'] = history.epoch\n",
        "hist.tail()"
      ],
      "metadata": {
        "colab": {
          "base_uri": "https://localhost:8080/",
          "height": 206
        },
        "id": "z-CPIawEnWX3",
        "outputId": "d3969867-0534-469e-bb57-eb123732d42c"
      },
      "execution_count": null,
      "outputs": [
        {
          "output_type": "execute_result",
          "data": {
            "text/plain": [
              "        loss  val_loss  epoch\n",
              "95  0.805849  0.755821     95\n",
              "96  0.835019  0.749341     96\n",
              "97  0.807951  0.735484     97\n",
              "98  0.822720  0.743148     98\n",
              "99  0.814438  0.733076     99"
            ],
            "text/html": [
              "\n",
              "  <div id=\"df-2c7fa721-9422-4ac3-a979-b4409529e356\">\n",
              "    <div class=\"colab-df-container\">\n",
              "      <div>\n",
              "<style scoped>\n",
              "    .dataframe tbody tr th:only-of-type {\n",
              "        vertical-align: middle;\n",
              "    }\n",
              "\n",
              "    .dataframe tbody tr th {\n",
              "        vertical-align: top;\n",
              "    }\n",
              "\n",
              "    .dataframe thead th {\n",
              "        text-align: right;\n",
              "    }\n",
              "</style>\n",
              "<table border=\"1\" class=\"dataframe\">\n",
              "  <thead>\n",
              "    <tr style=\"text-align: right;\">\n",
              "      <th></th>\n",
              "      <th>loss</th>\n",
              "      <th>val_loss</th>\n",
              "      <th>epoch</th>\n",
              "    </tr>\n",
              "  </thead>\n",
              "  <tbody>\n",
              "    <tr>\n",
              "      <th>95</th>\n",
              "      <td>0.805849</td>\n",
              "      <td>0.755821</td>\n",
              "      <td>95</td>\n",
              "    </tr>\n",
              "    <tr>\n",
              "      <th>96</th>\n",
              "      <td>0.835019</td>\n",
              "      <td>0.749341</td>\n",
              "      <td>96</td>\n",
              "    </tr>\n",
              "    <tr>\n",
              "      <th>97</th>\n",
              "      <td>0.807951</td>\n",
              "      <td>0.735484</td>\n",
              "      <td>97</td>\n",
              "    </tr>\n",
              "    <tr>\n",
              "      <th>98</th>\n",
              "      <td>0.822720</td>\n",
              "      <td>0.743148</td>\n",
              "      <td>98</td>\n",
              "    </tr>\n",
              "    <tr>\n",
              "      <th>99</th>\n",
              "      <td>0.814438</td>\n",
              "      <td>0.733076</td>\n",
              "      <td>99</td>\n",
              "    </tr>\n",
              "  </tbody>\n",
              "</table>\n",
              "</div>\n",
              "      <button class=\"colab-df-convert\" onclick=\"convertToInteractive('df-2c7fa721-9422-4ac3-a979-b4409529e356')\"\n",
              "              title=\"Convert this dataframe to an interactive table.\"\n",
              "              style=\"display:none;\">\n",
              "        \n",
              "  <svg xmlns=\"http://www.w3.org/2000/svg\" height=\"24px\"viewBox=\"0 0 24 24\"\n",
              "       width=\"24px\">\n",
              "    <path d=\"M0 0h24v24H0V0z\" fill=\"none\"/>\n",
              "    <path d=\"M18.56 5.44l.94 2.06.94-2.06 2.06-.94-2.06-.94-.94-2.06-.94 2.06-2.06.94zm-11 1L8.5 8.5l.94-2.06 2.06-.94-2.06-.94L8.5 2.5l-.94 2.06-2.06.94zm10 10l.94 2.06.94-2.06 2.06-.94-2.06-.94-.94-2.06-.94 2.06-2.06.94z\"/><path d=\"M17.41 7.96l-1.37-1.37c-.4-.4-.92-.59-1.43-.59-.52 0-1.04.2-1.43.59L10.3 9.45l-7.72 7.72c-.78.78-.78 2.05 0 2.83L4 21.41c.39.39.9.59 1.41.59.51 0 1.02-.2 1.41-.59l7.78-7.78 2.81-2.81c.8-.78.8-2.07 0-2.86zM5.41 20L4 18.59l7.72-7.72 1.47 1.35L5.41 20z\"/>\n",
              "  </svg>\n",
              "      </button>\n",
              "      \n",
              "  <style>\n",
              "    .colab-df-container {\n",
              "      display:flex;\n",
              "      flex-wrap:wrap;\n",
              "      gap: 12px;\n",
              "    }\n",
              "\n",
              "    .colab-df-convert {\n",
              "      background-color: #E8F0FE;\n",
              "      border: none;\n",
              "      border-radius: 50%;\n",
              "      cursor: pointer;\n",
              "      display: none;\n",
              "      fill: #1967D2;\n",
              "      height: 32px;\n",
              "      padding: 0 0 0 0;\n",
              "      width: 32px;\n",
              "    }\n",
              "\n",
              "    .colab-df-convert:hover {\n",
              "      background-color: #E2EBFA;\n",
              "      box-shadow: 0px 1px 2px rgba(60, 64, 67, 0.3), 0px 1px 3px 1px rgba(60, 64, 67, 0.15);\n",
              "      fill: #174EA6;\n",
              "    }\n",
              "\n",
              "    [theme=dark] .colab-df-convert {\n",
              "      background-color: #3B4455;\n",
              "      fill: #D2E3FC;\n",
              "    }\n",
              "\n",
              "    [theme=dark] .colab-df-convert:hover {\n",
              "      background-color: #434B5C;\n",
              "      box-shadow: 0px 1px 3px 1px rgba(0, 0, 0, 0.15);\n",
              "      filter: drop-shadow(0px 1px 2px rgba(0, 0, 0, 0.3));\n",
              "      fill: #FFFFFF;\n",
              "    }\n",
              "  </style>\n",
              "\n",
              "      <script>\n",
              "        const buttonEl =\n",
              "          document.querySelector('#df-2c7fa721-9422-4ac3-a979-b4409529e356 button.colab-df-convert');\n",
              "        buttonEl.style.display =\n",
              "          google.colab.kernel.accessAllowed ? 'block' : 'none';\n",
              "\n",
              "        async function convertToInteractive(key) {\n",
              "          const element = document.querySelector('#df-2c7fa721-9422-4ac3-a979-b4409529e356');\n",
              "          const dataTable =\n",
              "            await google.colab.kernel.invokeFunction('convertToInteractive',\n",
              "                                                     [key], {});\n",
              "          if (!dataTable) return;\n",
              "\n",
              "          const docLinkHtml = 'Like what you see? Visit the ' +\n",
              "            '<a target=\"_blank\" href=https://colab.research.google.com/notebooks/data_table.ipynb>data table notebook</a>'\n",
              "            + ' to learn more about interactive tables.';\n",
              "          element.innerHTML = '';\n",
              "          dataTable['output_type'] = 'display_data';\n",
              "          await google.colab.output.renderOutput(dataTable, element);\n",
              "          const docLink = document.createElement('div');\n",
              "          docLink.innerHTML = docLinkHtml;\n",
              "          element.appendChild(docLink);\n",
              "        }\n",
              "      </script>\n",
              "    </div>\n",
              "  </div>\n",
              "  "
            ]
          },
          "metadata": {},
          "execution_count": 147
        }
      ]
    },
    {
      "cell_type": "code",
      "source": [
        "# Now, we will evaluate our model using the test features and labels. \n",
        "mean_absolute_error_model_1 = model_1.evaluate(\n",
        "    test_features,\n",
        "    test_labels, verbose=0)"
      ],
      "metadata": {
        "id": "G77rpgni0J6B"
      },
      "execution_count": null,
      "outputs": []
    },
    {
      "cell_type": "code",
      "source": [
        "print(mean_absolute_error_model_1)"
      ],
      "metadata": {
        "outputId": "7cce2582-f74a-4ec2-bd5c-07231e23a8a7",
        "colab": {
          "base_uri": "https://localhost:8080/"
        },
        "id": "F-pOOlIl0J6B"
      },
      "execution_count": null,
      "outputs": [
        {
          "output_type": "stream",
          "name": "stdout",
          "text": [
            "0.810304582118988\n"
          ]
        }
      ]
    },
    {
      "cell_type": "code",
      "source": [
        "test_results['LM_model_all'] = model_1.evaluate(test_features, test_labels, verbose=0)\n"
      ],
      "metadata": {
        "id": "sKnu-N7gzLss"
      },
      "execution_count": null,
      "outputs": []
    },
    {
      "cell_type": "code",
      "source": [
        "plot_loss(history)"
      ],
      "metadata": {
        "colab": {
          "base_uri": "https://localhost:8080/",
          "height": 283
        },
        "outputId": "57868960-e5cc-4788-83b0-f6759401865a",
        "id": "2yis8BA-MmeK"
      },
      "execution_count": null,
      "outputs": [
        {
          "output_type": "display_data",
          "data": {
            "text/plain": [
              "<Figure size 432x288 with 1 Axes>"
            ],
            "image/png": "[encoded data removed]"
          },
          "metadata": {
            "needs_background": "light"
          }
        }
      ]
    },
    {
      "cell_type": "markdown",
      "source": [
        "Interestingly enough there are no signs of overtraining despite using a large amount of variables. This is most likely due to the low overall amount of variables and the decently high amount of entries. "
      ],
      "metadata": {
        "id": "AQXrsRsDHGO2"
      }
    },
    {
      "cell_type": "code",
      "source": [
        "test_predictions = model_1.predict(test_features).flatten()\n",
        "\n",
        "a = plt.axes(aspect='equal')\n",
        "plt.scatter(test_labels, test_predictions)\n",
        "plt.xlabel('True Values [NC]')\n",
        "plt.ylabel('Predictions [NC]')\n",
        "lims = [-2, 2]\n",
        "plt.xlim(lims)\n",
        "plt.ylim(lims)\n",
        "_ = plt.plot(lims, lims)"
      ],
      "metadata": {
        "colab": {
          "base_uri": "https://localhost:8080/",
          "height": 301
        },
        "id": "Bq7v_-HjGyLY",
        "outputId": "fcf65172-ca69-4335-f463-3e03cebceed3"
      },
      "execution_count": null,
      "outputs": [
        {
          "output_type": "stream",
          "name": "stdout",
          "text": [
            "18/18 [==============================] - 0s 1ms/step\n"
          ]
        },
        {
          "output_type": "display_data",
          "data": {
            "text/plain": [
              "<Figure size 432x288 with 1 Axes>"
            ],
            "image/png": "[encoded data removed]"
          },
          "metadata": {
            "needs_background": "light"
          }
        }
      ]
    },
    {
      "cell_type": "markdown",
      "source": [
        "However the fit is clearly very poor"
      ],
      "metadata": {
        "id": "O4ftaqBBPzRM"
      }
    },
    {
      "cell_type": "markdown",
      "source": [
        "# Tensorflow"
      ],
      "metadata": {
        "id": "BYm5Yskxjlz4"
      }
    },
    {
      "cell_type": "code",
      "metadata": {
        "id": "6saFKcySvM9c",
        "colab": {
          "base_uri": "https://localhost:8080/",
          "height": 237
        },
        "outputId": "a44dc4ae-1732-4e4c-cf54-e0139c8dbae8"
      },
      "source": [
        "df[:5]\n"
      ],
      "execution_count": null,
      "outputs": [
        {
          "output_type": "execute_result",
          "data": {
            "text/plain": [
              "                day  year  mo  da  temp  dewp     slp  visib  wdsp  mxpsd  \\\n",
              "collision_date                                                              \n",
              "2018-09-23        7  2018   9  23  59.8  50.2  1023.4   10.0   3.0    5.1   \n",
              "2018-12-20        4  2018  12  20  38.6  34.4  1020.2    9.6   5.0    7.0   \n",
              "2013-11-05        2  2013  11   5  43.5  30.4  1037.8   10.0   3.9    7.0   \n",
              "2012-07-11        3  2012   7  11  77.1  62.0  1019.9   10.0   1.9    7.0   \n",
              "2012-07-12        4  2012   7  12  77.4  60.2  1021.7   10.0   2.3    7.0   \n",
              "\n",
              "                gust   max   min  prcp  fog  NUM_COLLISIONS  \n",
              "collision_date                                               \n",
              "2018-09-23       0.0  78.1  53.1   0.0    0       -0.876381  \n",
              "2018-12-20       0.0  48.0  21.0   0.0    0        2.019455  \n",
              "2013-11-05       0.0  50.0  37.9   0.0    0       -0.570175  \n",
              "2012-07-11       0.0  84.0  64.9   0.0    0       -0.088994  \n",
              "2012-07-12       0.0  88.0  57.0   0.0    0        0.015991  "
            ],
            "text/html": [
              "\n",
              "  <div id=\"df-2748e188-b112-4058-934a-8c2e372f2933\">\n",
              "    <div class=\"colab-df-container\">\n",
              "      <div>\n",
              "<style scoped>\n",
              "    .dataframe tbody tr th:only-of-type {\n",
              "        vertical-align: middle;\n",
              "    }\n",
              "\n",
              "    .dataframe tbody tr th {\n",
              "        vertical-align: top;\n",
              "    }\n",
              "\n",
              "    .dataframe thead th {\n",
              "        text-align: right;\n",
              "    }\n",
              "</style>\n",
              "<table border=\"1\" class=\"dataframe\">\n",
              "  <thead>\n",
              "    <tr style=\"text-align: right;\">\n",
              "      <th></th>\n",
              "      <th>day</th>\n",
              "      <th>year</th>\n",
              "      <th>mo</th>\n",
              "      <th>da</th>\n",
              "      <th>temp</th>\n",
              "      <th>dewp</th>\n",
              "      <th>slp</th>\n",
              "      <th>visib</th>\n",
              "      <th>wdsp</th>\n",
              "      <th>mxpsd</th>\n",
              "      <th>gust</th>\n",
              "      <th>max</th>\n",
              "      <th>min</th>\n",
              "      <th>prcp</th>\n",
              "      <th>fog</th>\n",
              "      <th>NUM_COLLISIONS</th>\n",
              "    </tr>\n",
              "    <tr>\n",
              "      <th>collision_date</th>\n",
              "      <th></th>\n",
              "      <th></th>\n",
              "      <th></th>\n",
              "      <th></th>\n",
              "      <th></th>\n",
              "      <th></th>\n",
              "      <th></th>\n",
              "      <th></th>\n",
              "      <th></th>\n",
              "      <th></th>\n",
              "      <th></th>\n",
              "      <th></th>\n",
              "      <th></th>\n",
              "      <th></th>\n",
              "      <th></th>\n",
              "      <th></th>\n",
              "    </tr>\n",
              "  </thead>\n",
              "  <tbody>\n",
              "    <tr>\n",
              "      <th>2018-09-23</th>\n",
              "      <td>7</td>\n",
              "      <td>2018</td>\n",
              "      <td>9</td>\n",
              "      <td>23</td>\n",
              "      <td>59.8</td>\n",
              "      <td>50.2</td>\n",
              "      <td>1023.4</td>\n",
              "      <td>10.0</td>\n",
              "      <td>3.0</td>\n",
              "      <td>5.1</td>\n",
              "      <td>0.0</td>\n",
              "      <td>78.1</td>\n",
              "      <td>53.1</td>\n",
              "      <td>0.0</td>\n",
              "      <td>0</td>\n",
              "      <td>-0.876381</td>\n",
              "    </tr>\n",
              "    <tr>\n",
              "      <th>2018-12-20</th>\n",
              "      <td>4</td>\n",
              "      <td>2018</td>\n",
              "      <td>12</td>\n",
              "      <td>20</td>\n",
              "      <td>38.6</td>\n",
              "      <td>34.4</td>\n",
              "      <td>1020.2</td>\n",
              "      <td>9.6</td>\n",
              "      <td>5.0</td>\n",
              "      <td>7.0</td>\n",
              "      <td>0.0</td>\n",
              "      <td>48.0</td>\n",
              "      <td>21.0</td>\n",
              "      <td>0.0</td>\n",
              "      <td>0</td>\n",
              "      <td>2.019455</td>\n",
              "    </tr>\n",
              "    <tr>\n",
              "      <th>2013-11-05</th>\n",
              "      <td>2</td>\n",
              "      <td>2013</td>\n",
              "      <td>11</td>\n",
              "      <td>5</td>\n",
              "      <td>43.5</td>\n",
              "      <td>30.4</td>\n",
              "      <td>1037.8</td>\n",
              "      <td>10.0</td>\n",
              "      <td>3.9</td>\n",
              "      <td>7.0</td>\n",
              "      <td>0.0</td>\n",
              "      <td>50.0</td>\n",
              "      <td>37.9</td>\n",
              "      <td>0.0</td>\n",
              "      <td>0</td>\n",
              "      <td>-0.570175</td>\n",
              "    </tr>\n",
              "    <tr>\n",
              "      <th>2012-07-11</th>\n",
              "      <td>3</td>\n",
              "      <td>2012</td>\n",
              "      <td>7</td>\n",
              "      <td>11</td>\n",
              "      <td>77.1</td>\n",
              "      <td>62.0</td>\n",
              "      <td>1019.9</td>\n",
              "      <td>10.0</td>\n",
              "      <td>1.9</td>\n",
              "      <td>7.0</td>\n",
              "      <td>0.0</td>\n",
              "      <td>84.0</td>\n",
              "      <td>64.9</td>\n",
              "      <td>0.0</td>\n",
              "      <td>0</td>\n",
              "      <td>-0.088994</td>\n",
              "    </tr>\n",
              "    <tr>\n",
              "      <th>2012-07-12</th>\n",
              "      <td>4</td>\n",
              "      <td>2012</td>\n",
              "      <td>7</td>\n",
              "      <td>12</td>\n",
              "      <td>77.4</td>\n",
              "      <td>60.2</td>\n",
              "      <td>1021.7</td>\n",
              "      <td>10.0</td>\n",
              "      <td>2.3</td>\n",
              "      <td>7.0</td>\n",
              "      <td>0.0</td>\n",
              "      <td>88.0</td>\n",
              "      <td>57.0</td>\n",
              "      <td>0.0</td>\n",
              "      <td>0</td>\n",
              "      <td>0.015991</td>\n",
              "    </tr>\n",
              "  </tbody>\n",
              "</table>\n",
              "</div>\n",
              "      <button class=\"colab-df-convert\" onclick=\"convertToInteractive('df-2748e188-b112-4058-934a-8c2e372f2933')\"\n",
              "              title=\"Convert this dataframe to an interactive table.\"\n",
              "              style=\"display:none;\">\n",
              "        \n",
              "  <svg xmlns=\"http://www.w3.org/2000/svg\" height=\"24px\"viewBox=\"0 0 24 24\"\n",
              "       width=\"24px\">\n",
              "    <path d=\"M0 0h24v24H0V0z\" fill=\"none\"/>\n",
              "    <path d=\"M18.56 5.44l.94 2.06.94-2.06 2.06-.94-2.06-.94-.94-2.06-.94 2.06-2.06.94zm-11 1L8.5 8.5l.94-2.06 2.06-.94-2.06-.94L8.5 2.5l-.94 2.06-2.06.94zm10 10l.94 2.06.94-2.06 2.06-.94-2.06-.94-.94-2.06-.94 2.06-2.06.94z\"/><path d=\"M17.41 7.96l-1.37-1.37c-.4-.4-.92-.59-1.43-.59-.52 0-1.04.2-1.43.59L10.3 9.45l-7.72 7.72c-.78.78-.78 2.05 0 2.83L4 21.41c.39.39.9.59 1.41.59.51 0 1.02-.2 1.41-.59l7.78-7.78 2.81-2.81c.8-.78.8-2.07 0-2.86zM5.41 20L4 18.59l7.72-7.72 1.47 1.35L5.41 20z\"/>\n",
              "  </svg>\n",
              "      </button>\n",
              "      \n",
              "  <style>\n",
              "    .colab-df-container {\n",
              "      display:flex;\n",
              "      flex-wrap:wrap;\n",
              "      gap: 12px;\n",
              "    }\n",
              "\n",
              "    .colab-df-convert {\n",
              "      background-color: #E8F0FE;\n",
              "      border: none;\n",
              "      border-radius: 50%;\n",
              "      cursor: pointer;\n",
              "      display: none;\n",
              "      fill: #1967D2;\n",
              "      height: 32px;\n",
              "      padding: 0 0 0 0;\n",
              "      width: 32px;\n",
              "    }\n",
              "\n",
              "    .colab-df-convert:hover {\n",
              "      background-color: #E2EBFA;\n",
              "      box-shadow: 0px 1px 2px rgba(60, 64, 67, 0.3), 0px 1px 3px 1px rgba(60, 64, 67, 0.15);\n",
              "      fill: #174EA6;\n",
              "    }\n",
              "\n",
              "    [theme=dark] .colab-df-convert {\n",
              "      background-color: #3B4455;\n",
              "      fill: #D2E3FC;\n",
              "    }\n",
              "\n",
              "    [theme=dark] .colab-df-convert:hover {\n",
              "      background-color: #434B5C;\n",
              "      box-shadow: 0px 1px 3px 1px rgba(0, 0, 0, 0.15);\n",
              "      filter: drop-shadow(0px 1px 2px rgba(0, 0, 0, 0.3));\n",
              "      fill: #FFFFFF;\n",
              "    }\n",
              "  </style>\n",
              "\n",
              "      <script>\n",
              "        const buttonEl =\n",
              "          document.querySelector('#df-2748e188-b112-4058-934a-8c2e372f2933 button.colab-df-convert');\n",
              "        buttonEl.style.display =\n",
              "          google.colab.kernel.accessAllowed ? 'block' : 'none';\n",
              "\n",
              "        async function convertToInteractive(key) {\n",
              "          const element = document.querySelector('#df-2748e188-b112-4058-934a-8c2e372f2933');\n",
              "          const dataTable =\n",
              "            await google.colab.kernel.invokeFunction('convertToInteractive',\n",
              "                                                     [key], {});\n",
              "          if (!dataTable) return;\n",
              "\n",
              "          const docLinkHtml = 'Like what you see? Visit the ' +\n",
              "            '<a target=\"_blank\" href=https://colab.research.google.com/notebooks/data_table.ipynb>data table notebook</a>'\n",
              "            + ' to learn more about interactive tables.';\n",
              "          element.innerHTML = '';\n",
              "          dataTable['output_type'] = 'display_data';\n",
              "          await google.colab.output.renderOutput(dataTable, element);\n",
              "          const docLink = document.createElement('div');\n",
              "          docLink.innerHTML = docLinkHtml;\n",
              "          element.appendChild(docLink);\n",
              "        }\n",
              "      </script>\n",
              "    </div>\n",
              "  </div>\n",
              "  "
            ]
          },
          "metadata": {},
          "execution_count": 153
        }
      ]
    },
    {
      "cell_type": "code",
      "metadata": {
        "id": "ltGRAo1hvO8I",
        "colab": {
          "base_uri": "https://localhost:8080/",
          "height": 237
        },
        "outputId": "c17bbae0-e369-41ff-e941-18d9db09c516"
      },
      "source": [
        "dnn_input_data = [df[\"max\"], df[\"temp\"],df[\"min\"], df[\"wdsp\"],df[\"prcp\"],df[\"NUM_COLLISIONS\"]]\n",
        "headers = [\"max\",\"temp\", \"min\", \"wdsp\",\"prcp\",\"NUM_COLLISIONS\"]\n",
        "df_dnn_input = pd.concat(dnn_input_data, axis=1, keys=headers)\n",
        "df_dnn_input.head()"
      ],
      "execution_count": null,
      "outputs": [
        {
          "output_type": "execute_result",
          "data": {
            "text/plain": [
              "                 max  temp   min  wdsp  prcp  NUM_COLLISIONS\n",
              "collision_date                                              \n",
              "2018-09-23      78.1  59.8  53.1   3.0   0.0       -0.876381\n",
              "2018-12-20      48.0  38.6  21.0   5.0   0.0        2.019455\n",
              "2013-11-05      50.0  43.5  37.9   3.9   0.0       -0.570175\n",
              "2012-07-11      84.0  77.1  64.9   1.9   0.0       -0.088994\n",
              "2012-07-12      88.0  77.4  57.0   2.3   0.0        0.015991"
            ],
            "text/html": [
              "\n",
              "  <div id=\"df-46efaf39-93f7-4ebf-a2b9-fd5a2173f2a3\">\n",
              "    <div class=\"colab-df-container\">\n",
              "      <div>\n",
              "<style scoped>\n",
              "    .dataframe tbody tr th:only-of-type {\n",
              "        vertical-align: middle;\n",
              "    }\n",
              "\n",
              "    .dataframe tbody tr th {\n",
              "        vertical-align: top;\n",
              "    }\n",
              "\n",
              "    .dataframe thead th {\n",
              "        text-align: right;\n",
              "    }\n",
              "</style>\n",
              "<table border=\"1\" class=\"dataframe\">\n",
              "  <thead>\n",
              "    <tr style=\"text-align: right;\">\n",
              "      <th></th>\n",
              "      <th>max</th>\n",
              "      <th>temp</th>\n",
              "      <th>min</th>\n",
              "      <th>wdsp</th>\n",
              "      <th>prcp</th>\n",
              "      <th>NUM_COLLISIONS</th>\n",
              "    </tr>\n",
              "    <tr>\n",
              "      <th>collision_date</th>\n",
              "      <th></th>\n",
              "      <th></th>\n",
              "      <th></th>\n",
              "      <th></th>\n",
              "      <th></th>\n",
              "      <th></th>\n",
              "    </tr>\n",
              "  </thead>\n",
              "  <tbody>\n",
              "    <tr>\n",
              "      <th>2018-09-23</th>\n",
              "      <td>78.1</td>\n",
              "      <td>59.8</td>\n",
              "      <td>53.1</td>\n",
              "      <td>3.0</td>\n",
              "      <td>0.0</td>\n",
              "      <td>-0.876381</td>\n",
              "    </tr>\n",
              "    <tr>\n",
              "      <th>2018-12-20</th>\n",
              "      <td>48.0</td>\n",
              "      <td>38.6</td>\n",
              "      <td>21.0</td>\n",
              "      <td>5.0</td>\n",
              "      <td>0.0</td>\n",
              "      <td>2.019455</td>\n",
              "    </tr>\n",
              "    <tr>\n",
              "      <th>2013-11-05</th>\n",
              "      <td>50.0</td>\n",
              "      <td>43.5</td>\n",
              "      <td>37.9</td>\n",
              "      <td>3.9</td>\n",
              "      <td>0.0</td>\n",
              "      <td>-0.570175</td>\n",
              "    </tr>\n",
              "    <tr>\n",
              "      <th>2012-07-11</th>\n",
              "      <td>84.0</td>\n",
              "      <td>77.1</td>\n",
              "      <td>64.9</td>\n",
              "      <td>1.9</td>\n",
              "      <td>0.0</td>\n",
              "      <td>-0.088994</td>\n",
              "    </tr>\n",
              "    <tr>\n",
              "      <th>2012-07-12</th>\n",
              "      <td>88.0</td>\n",
              "      <td>77.4</td>\n",
              "      <td>57.0</td>\n",
              "      <td>2.3</td>\n",
              "      <td>0.0</td>\n",
              "      <td>0.015991</td>\n",
              "    </tr>\n",
              "  </tbody>\n",
              "</table>\n",
              "</div>\n",
              "      <button class=\"colab-df-convert\" onclick=\"convertToInteractive('df-46efaf39-93f7-4ebf-a2b9-fd5a2173f2a3')\"\n",
              "              title=\"Convert this dataframe to an interactive table.\"\n",
              "              style=\"display:none;\">\n",
              "        \n",
              "  <svg xmlns=\"http://www.w3.org/2000/svg\" height=\"24px\"viewBox=\"0 0 24 24\"\n",
              "       width=\"24px\">\n",
              "    <path d=\"M0 0h24v24H0V0z\" fill=\"none\"/>\n",
              "    <path d=\"M18.56 5.44l.94 2.06.94-2.06 2.06-.94-2.06-.94-.94-2.06-.94 2.06-2.06.94zm-11 1L8.5 8.5l.94-2.06 2.06-.94-2.06-.94L8.5 2.5l-.94 2.06-2.06.94zm10 10l.94 2.06.94-2.06 2.06-.94-2.06-.94-.94-2.06-.94 2.06-2.06.94z\"/><path d=\"M17.41 7.96l-1.37-1.37c-.4-.4-.92-.59-1.43-.59-.52 0-1.04.2-1.43.59L10.3 9.45l-7.72 7.72c-.78.78-.78 2.05 0 2.83L4 21.41c.39.39.9.59 1.41.59.51 0 1.02-.2 1.41-.59l7.78-7.78 2.81-2.81c.8-.78.8-2.07 0-2.86zM5.41 20L4 18.59l7.72-7.72 1.47 1.35L5.41 20z\"/>\n",
              "  </svg>\n",
              "      </button>\n",
              "      \n",
              "  <style>\n",
              "    .colab-df-container {\n",
              "      display:flex;\n",
              "      flex-wrap:wrap;\n",
              "      gap: 12px;\n",
              "    }\n",
              "\n",
              "    .colab-df-convert {\n",
              "      background-color: #E8F0FE;\n",
              "      border: none;\n",
              "      border-radius: 50%;\n",
              "      cursor: pointer;\n",
              "      display: none;\n",
              "      fill: #1967D2;\n",
              "      height: 32px;\n",
              "      padding: 0 0 0 0;\n",
              "      width: 32px;\n",
              "    }\n",
              "\n",
              "    .colab-df-convert:hover {\n",
              "      background-color: #E2EBFA;\n",
              "      box-shadow: 0px 1px 2px rgba(60, 64, 67, 0.3), 0px 1px 3px 1px rgba(60, 64, 67, 0.15);\n",
              "      fill: #174EA6;\n",
              "    }\n",
              "\n",
              "    [theme=dark] .colab-df-convert {\n",
              "      background-color: #3B4455;\n",
              "      fill: #D2E3FC;\n",
              "    }\n",
              "\n",
              "    [theme=dark] .colab-df-convert:hover {\n",
              "      background-color: #434B5C;\n",
              "      box-shadow: 0px 1px 3px 1px rgba(0, 0, 0, 0.15);\n",
              "      filter: drop-shadow(0px 1px 2px rgba(0, 0, 0, 0.3));\n",
              "      fill: #FFFFFF;\n",
              "    }\n",
              "  </style>\n",
              "\n",
              "      <script>\n",
              "        const buttonEl =\n",
              "          document.querySelector('#df-46efaf39-93f7-4ebf-a2b9-fd5a2173f2a3 button.colab-df-convert');\n",
              "        buttonEl.style.display =\n",
              "          google.colab.kernel.accessAllowed ? 'block' : 'none';\n",
              "\n",
              "        async function convertToInteractive(key) {\n",
              "          const element = document.querySelector('#df-46efaf39-93f7-4ebf-a2b9-fd5a2173f2a3');\n",
              "          const dataTable =\n",
              "            await google.colab.kernel.invokeFunction('convertToInteractive',\n",
              "                                                     [key], {});\n",
              "          if (!dataTable) return;\n",
              "\n",
              "          const docLinkHtml = 'Like what you see? Visit the ' +\n",
              "            '<a target=\"_blank\" href=https://colab.research.google.com/notebooks/data_table.ipynb>data table notebook</a>'\n",
              "            + ' to learn more about interactive tables.';\n",
              "          element.innerHTML = '';\n",
              "          dataTable['output_type'] = 'display_data';\n",
              "          await google.colab.output.renderOutput(dataTable, element);\n",
              "          const docLink = document.createElement('div');\n",
              "          docLink.innerHTML = docLinkHtml;\n",
              "          element.appendChild(docLink);\n",
              "        }\n",
              "      </script>\n",
              "    </div>\n",
              "  </div>\n",
              "  "
            ]
          },
          "metadata": {},
          "execution_count": 154
        }
      ]
    },
    {
      "cell_type": "code",
      "metadata": {
        "id": "LL2F4qYEvbAK"
      },
      "source": [
        "training_dataset = df_dnn_input.sample(frac=0.8, random_state=0)\n",
        "test_dataset = df_dnn_input.drop(training_dataset.index)"
      ],
      "execution_count": null,
      "outputs": []
    },
    {
      "cell_type": "code",
      "source": [
        "training_features = training_dataset.copy()\n",
        "test_features = test_dataset.copy()\n",
        "\n",
        "training_labels = training_features.pop('NUM_COLLISIONS')\n",
        "test_labels = test_features.pop('NUM_COLLISIONS')"
      ],
      "metadata": {
        "id": "kXkdFOOw264-"
      },
      "execution_count": null,
      "outputs": []
    },
    {
      "cell_type": "code",
      "source": [
        "training_labels = training_labels/SCALE_NUM_COLLISIONS\n",
        "test_labels = test_labels/SCALE_NUM_COLLISIONS"
      ],
      "metadata": {
        "id": "rlcD1Mw-3GXD"
      },
      "execution_count": null,
      "outputs": []
    },
    {
      "cell_type": "code",
      "source": [
        "normaliser = tf.keras.layers.Normalization(axis=-1)\n",
        "normaliser.adapt(np.array(training_features))"
      ],
      "metadata": {
        "id": "QGKKxVdH3MP3"
      },
      "execution_count": null,
      "outputs": []
    },
    {
      "cell_type": "code",
      "source": [
        "dnn_model_1 = keras.Sequential([\n",
        "      normaliser,\n",
        "      layers.Dense(48, activation='relu'),\n",
        "      layers.Dense(48, activation='relu'),\n",
        "      layers.Dense(1)\n",
        "  ])\n",
        "\n",
        "dnn_model_1.compile(loss='mean_absolute_error',\n",
        "                optimizer=tf.keras.optimizers.Adam(0.001))"
      ],
      "metadata": {
        "id": "sIhPJjMy3WVg"
      },
      "execution_count": null,
      "outputs": []
    },
    {
      "cell_type": "code",
      "source": [
        "%%time\n",
        "history = dnn_model_1.fit(\n",
        "    training_features,\n",
        "    training_labels,\n",
        "    validation_split=0.2,\n",
        "    verbose=0, \n",
        "    epochs=100)"
      ],
      "metadata": {
        "id": "0ci5BO4_3q_3",
        "outputId": "3964ad73-fe6d-4c0a-c9b8-6ee3df1e8dd8",
        "colab": {
          "base_uri": "https://localhost:8080/"
        }
      },
      "execution_count": null,
      "outputs": [
        {
          "output_type": "stream",
          "name": "stdout",
          "text": [
            "CPU times: user 17.1 s, sys: 744 ms, total: 17.9 s\n",
            "Wall time: 21.3 s\n"
          ]
        }
      ]
    },
    {
      "cell_type": "code",
      "source": [
        "hist = pd.DataFrame(history.history)\n",
        "hist['epoch'] = history.epoch\n",
        "hist.tail()"
      ],
      "metadata": {
        "colab": {
          "base_uri": "https://localhost:8080/",
          "height": 206
        },
        "id": "SeWSl52WnXuf",
        "outputId": "1f42d6d9-32c0-4447-c515-5926c23ae138"
      },
      "execution_count": null,
      "outputs": [
        {
          "output_type": "execute_result",
          "data": {
            "text/plain": [
              "        loss  val_loss  epoch\n",
              "95  0.732200  0.744012     95\n",
              "96  0.732793  0.724865     96\n",
              "97  0.733420  0.725677     97\n",
              "98  0.734640  0.731801     98\n",
              "99  0.735273  0.729220     99"
            ],
            "text/html": [
              "\n",
              "  <div id=\"df-884ad7af-fbb8-4e19-83b7-f9021e863aa9\">\n",
              "    <div class=\"colab-df-container\">\n",
              "      <div>\n",
              "<style scoped>\n",
              "    .dataframe tbody tr th:only-of-type {\n",
              "        vertical-align: middle;\n",
              "    }\n",
              "\n",
              "    .dataframe tbody tr th {\n",
              "        vertical-align: top;\n",
              "    }\n",
              "\n",
              "    .dataframe thead th {\n",
              "        text-align: right;\n",
              "    }\n",
              "</style>\n",
              "<table border=\"1\" class=\"dataframe\">\n",
              "  <thead>\n",
              "    <tr style=\"text-align: right;\">\n",
              "      <th></th>\n",
              "      <th>loss</th>\n",
              "      <th>val_loss</th>\n",
              "      <th>epoch</th>\n",
              "    </tr>\n",
              "  </thead>\n",
              "  <tbody>\n",
              "    <tr>\n",
              "      <th>95</th>\n",
              "      <td>0.732200</td>\n",
              "      <td>0.744012</td>\n",
              "      <td>95</td>\n",
              "    </tr>\n",
              "    <tr>\n",
              "      <th>96</th>\n",
              "      <td>0.732793</td>\n",
              "      <td>0.724865</td>\n",
              "      <td>96</td>\n",
              "    </tr>\n",
              "    <tr>\n",
              "      <th>97</th>\n",
              "      <td>0.733420</td>\n",
              "      <td>0.725677</td>\n",
              "      <td>97</td>\n",
              "    </tr>\n",
              "    <tr>\n",
              "      <th>98</th>\n",
              "      <td>0.734640</td>\n",
              "      <td>0.731801</td>\n",
              "      <td>98</td>\n",
              "    </tr>\n",
              "    <tr>\n",
              "      <th>99</th>\n",
              "      <td>0.735273</td>\n",
              "      <td>0.729220</td>\n",
              "      <td>99</td>\n",
              "    </tr>\n",
              "  </tbody>\n",
              "</table>\n",
              "</div>\n",
              "      <button class=\"colab-df-convert\" onclick=\"convertToInteractive('df-884ad7af-fbb8-4e19-83b7-f9021e863aa9')\"\n",
              "              title=\"Convert this dataframe to an interactive table.\"\n",
              "              style=\"display:none;\">\n",
              "        \n",
              "  <svg xmlns=\"http://www.w3.org/2000/svg\" height=\"24px\"viewBox=\"0 0 24 24\"\n",
              "       width=\"24px\">\n",
              "    <path d=\"M0 0h24v24H0V0z\" fill=\"none\"/>\n",
              "    <path d=\"M18.56 5.44l.94 2.06.94-2.06 2.06-.94-2.06-.94-.94-2.06-.94 2.06-2.06.94zm-11 1L8.5 8.5l.94-2.06 2.06-.94-2.06-.94L8.5 2.5l-.94 2.06-2.06.94zm10 10l.94 2.06.94-2.06 2.06-.94-2.06-.94-.94-2.06-.94 2.06-2.06.94z\"/><path d=\"M17.41 7.96l-1.37-1.37c-.4-.4-.92-.59-1.43-.59-.52 0-1.04.2-1.43.59L10.3 9.45l-7.72 7.72c-.78.78-.78 2.05 0 2.83L4 21.41c.39.39.9.59 1.41.59.51 0 1.02-.2 1.41-.59l7.78-7.78 2.81-2.81c.8-.78.8-2.07 0-2.86zM5.41 20L4 18.59l7.72-7.72 1.47 1.35L5.41 20z\"/>\n",
              "  </svg>\n",
              "      </button>\n",
              "      \n",
              "  <style>\n",
              "    .colab-df-container {\n",
              "      display:flex;\n",
              "      flex-wrap:wrap;\n",
              "      gap: 12px;\n",
              "    }\n",
              "\n",
              "    .colab-df-convert {\n",
              "      background-color: #E8F0FE;\n",
              "      border: none;\n",
              "      border-radius: 50%;\n",
              "      cursor: pointer;\n",
              "      display: none;\n",
              "      fill: #1967D2;\n",
              "      height: 32px;\n",
              "      padding: 0 0 0 0;\n",
              "      width: 32px;\n",
              "    }\n",
              "\n",
              "    .colab-df-convert:hover {\n",
              "      background-color: #E2EBFA;\n",
              "      box-shadow: 0px 1px 2px rgba(60, 64, 67, 0.3), 0px 1px 3px 1px rgba(60, 64, 67, 0.15);\n",
              "      fill: #174EA6;\n",
              "    }\n",
              "\n",
              "    [theme=dark] .colab-df-convert {\n",
              "      background-color: #3B4455;\n",
              "      fill: #D2E3FC;\n",
              "    }\n",
              "\n",
              "    [theme=dark] .colab-df-convert:hover {\n",
              "      background-color: #434B5C;\n",
              "      box-shadow: 0px 1px 3px 1px rgba(0, 0, 0, 0.15);\n",
              "      filter: drop-shadow(0px 1px 2px rgba(0, 0, 0, 0.3));\n",
              "      fill: #FFFFFF;\n",
              "    }\n",
              "  </style>\n",
              "\n",
              "      <script>\n",
              "        const buttonEl =\n",
              "          document.querySelector('#df-884ad7af-fbb8-4e19-83b7-f9021e863aa9 button.colab-df-convert');\n",
              "        buttonEl.style.display =\n",
              "          google.colab.kernel.accessAllowed ? 'block' : 'none';\n",
              "\n",
              "        async function convertToInteractive(key) {\n",
              "          const element = document.querySelector('#df-884ad7af-fbb8-4e19-83b7-f9021e863aa9');\n",
              "          const dataTable =\n",
              "            await google.colab.kernel.invokeFunction('convertToInteractive',\n",
              "                                                     [key], {});\n",
              "          if (!dataTable) return;\n",
              "\n",
              "          const docLinkHtml = 'Like what you see? Visit the ' +\n",
              "            '<a target=\"_blank\" href=https://colab.research.google.com/notebooks/data_table.ipynb>data table notebook</a>'\n",
              "            + ' to learn more about interactive tables.';\n",
              "          element.innerHTML = '';\n",
              "          dataTable['output_type'] = 'display_data';\n",
              "          await google.colab.output.renderOutput(dataTable, element);\n",
              "          const docLink = document.createElement('div');\n",
              "          docLink.innerHTML = docLinkHtml;\n",
              "          element.appendChild(docLink);\n",
              "        }\n",
              "      </script>\n",
              "    </div>\n",
              "  </div>\n",
              "  "
            ]
          },
          "metadata": {},
          "execution_count": 161
        }
      ]
    },
    {
      "cell_type": "code",
      "source": [
        "dnn_model_1_results = dnn_model_1.evaluate(test_features, test_labels, verbose=0)\n",
        "print(dnn_model_1_results)"
      ],
      "metadata": {
        "id": "YG-HmcyA3zFN",
        "outputId": "c6904148-fb46-4a62-b5f8-b6099f294b8a",
        "colab": {
          "base_uri": "https://localhost:8080/"
        }
      },
      "execution_count": null,
      "outputs": [
        {
          "output_type": "stream",
          "name": "stdout",
          "text": [
            "0.8039378523826599\n"
          ]
        }
      ]
    },
    {
      "cell_type": "code",
      "source": [
        "dnn_model_1_results"
      ],
      "metadata": {
        "colab": {
          "base_uri": "https://localhost:8080/"
        },
        "id": "XtwGlXThbjTU",
        "outputId": "2dff90bc-683b-49c4-b544-eee46bdd1502"
      },
      "execution_count": null,
      "outputs": [
        {
          "output_type": "execute_result",
          "data": {
            "text/plain": [
              "0.8039378523826599"
            ]
          },
          "metadata": {},
          "execution_count": 163
        }
      ]
    },
    {
      "cell_type": "code",
      "source": [
        "test_results['dnn_model_1'] = dnn_model_1.evaluate(test_features, test_labels, verbose=0)\n"
      ],
      "metadata": {
        "id": "HLIwPf9cygyK"
      },
      "execution_count": null,
      "outputs": []
    },
    {
      "cell_type": "code",
      "metadata": {
        "id": "3KxRETghymhV"
      },
      "source": [
        "input_1 = pd.DataFrame.from_dict(data = \n",
        "\t\t\t\t{\n",
        "            'max' : [0.732927,0.365854,0.390244],\n",
        "            'temp' : [0.667491, 0.405439, 0.466007],\n",
        "            'min' : [0.734667,0.306667,0.532000],\n",
        "            'wdsp' : [0.120879, 0.230769,0.170330],\n",
        "            'prcp' : [\t0,0,0]\n",
        "        })\n"
      ],
      "execution_count": null,
      "outputs": []
    },
    {
      "cell_type": "code",
      "source": [
        "linear_day_predictions = dnn_model_1.predict(input_1[:3])*SCALE_NUM_COLLISIONS\n",
        "linear_day_predictions "
      ],
      "metadata": {
        "id": "_5lxV7uN4RxF",
        "outputId": "64849df4-09b9-40de-ad66-a7db5a2505a5",
        "colab": {
          "base_uri": "https://localhost:8080/"
        }
      },
      "execution_count": null,
      "outputs": [
        {
          "output_type": "stream",
          "name": "stdout",
          "text": [
            "1/1 [==============================] - 0s 73ms/step\n"
          ]
        },
        {
          "output_type": "execute_result",
          "data": {
            "text/plain": [
              "array([[-1.2883197],\n",
              "       [-1.2626514],\n",
              "       [-1.2781824]], dtype=float32)"
            ]
          },
          "metadata": {},
          "execution_count": 166
        }
      ]
    },
    {
      "cell_type": "code",
      "source": [
        "plot_loss(history)"
      ],
      "metadata": {
        "colab": {
          "base_uri": "https://localhost:8080/",
          "height": 283
        },
        "outputId": "a4894394-988a-407b-f3bb-12fec5c84f65",
        "id": "u1D5bfheMHBf"
      },
      "execution_count": null,
      "outputs": [
        {
          "output_type": "display_data",
          "data": {
            "text/plain": [
              "<Figure size 432x288 with 1 Axes>"
            ],
            "image/png": "[encoded data removed]"
          },
          "metadata": {
            "needs_background": "light"
          }
        }
      ]
    },
    {
      "cell_type": "code",
      "source": [
        "test_predictions = dnn_model_1.predict(test_features).flatten()\n",
        "\n",
        "a = plt.axes(aspect='equal')\n",
        "plt.scatter(test_labels, test_predictions)\n",
        "plt.xlabel('True Values [NC]')\n",
        "plt.ylabel('Predictions [NC]')\n",
        "lims = [-2, 2]\n",
        "plt.xlim(lims)\n",
        "plt.ylim(lims)\n",
        "_ = plt.plot(lims, lims)"
      ],
      "metadata": {
        "colab": {
          "base_uri": "https://localhost:8080/",
          "height": 301
        },
        "outputId": "bf0168f6-50b6-4960-871f-c4c3934fff2b",
        "id": "NoKFT2JBF8u9"
      },
      "execution_count": null,
      "outputs": [
        {
          "output_type": "stream",
          "name": "stdout",
          "text": [
            "18/18 [==============================] - 0s 2ms/step\n"
          ]
        },
        {
          "output_type": "display_data",
          "data": {
            "text/plain": [
              "<Figure size 432x288 with 1 Axes>"
            ],
            "image/png": "[encoded data removed]"
          },
          "metadata": {
            "needs_background": "light"
          }
        }
      ]
    },
    {
      "cell_type": "markdown",
      "metadata": {
        "id": "lalzD8Gb2S6G"
      },
      "source": [
        "As can be seen this does badly at predicting the first 3 entries results as the number of collisions for the first three entries were 0.341625, 0.890547, and 0.399668 respectively. though it does predict a higher rate of collisions at for lower tempatures and higher windspeeds.  \n"
      ]
    },
    {
      "cell_type": "markdown",
      "metadata": {
        "id": "PbvoHSqq33ut"
      },
      "source": [
        "Considerations for Assignment. I would likely use another method to either standardise or normalise num_trips. And perhaps not bother and scale them in here with SCALE_NUM_TRIPS with a generally large number.\n",
        "\n",
        "Obviously, you will likely want to have a number of variations but there is no reason you can't use most of the data given. Remember, the DNN is trying to solve a complex relationship, not a linear one. \n",
        "\n",
        "Other things to consider when doing this would be to take validation. Of course, in the assignment you will have a much larger range of data i.e. from some date x to y.\n",
        "\n",
        "This will give you more data. Taking real validation data that hasn't been shown to the model will give real results for you to check against rather than what I have done here (which is just for information)."
      ]
    },
    {
      "cell_type": "markdown",
      "source": [],
      "metadata": {
        "id": "DEKN_G2KW8NP"
      }
    },
    {
      "cell_type": "markdown",
      "source": [
        "# Tensorflow including month and day"
      ],
      "metadata": {
        "id": "jCrXhp6QW8Yn"
      }
    },
    {
      "cell_type": "code",
      "metadata": {
        "colab": {
          "base_uri": "https://localhost:8080/",
          "height": 237
        },
        "outputId": "1dfa019d-2956-4e5c-c8a8-dafc95dafedf",
        "id": "WRNF8Nb2W8Yo"
      },
      "source": [
        "# make sure we have our data by printing it out\n",
        "df[:5]"
      ],
      "execution_count": null,
      "outputs": [
        {
          "output_type": "execute_result",
          "data": {
            "text/plain": [
              "                day  year  mo  da  temp  dewp     slp  visib  wdsp  mxpsd  \\\n",
              "collision_date                                                              \n",
              "2018-09-23        7  2018   9  23  59.8  50.2  1023.4   10.0   3.0    5.1   \n",
              "2018-12-20        4  2018  12  20  38.6  34.4  1020.2    9.6   5.0    7.0   \n",
              "2013-11-05        2  2013  11   5  43.5  30.4  1037.8   10.0   3.9    7.0   \n",
              "2012-07-11        3  2012   7  11  77.1  62.0  1019.9   10.0   1.9    7.0   \n",
              "2012-07-12        4  2012   7  12  77.4  60.2  1021.7   10.0   2.3    7.0   \n",
              "\n",
              "                gust   max   min  prcp  fog  NUM_COLLISIONS  \n",
              "collision_date                                               \n",
              "2018-09-23       0.0  78.1  53.1   0.0    0       -0.876381  \n",
              "2018-12-20       0.0  48.0  21.0   0.0    0        2.019455  \n",
              "2013-11-05       0.0  50.0  37.9   0.0    0       -0.570175  \n",
              "2012-07-11       0.0  84.0  64.9   0.0    0       -0.088994  \n",
              "2012-07-12       0.0  88.0  57.0   0.0    0        0.015991  "
            ],
            "text/html": [
              "\n",
              "  <div id=\"df-c74d854c-ecaa-4b47-923e-b5ca91892613\">\n",
              "    <div class=\"colab-df-container\">\n",
              "      <div>\n",
              "<style scoped>\n",
              "    .dataframe tbody tr th:only-of-type {\n",
              "        vertical-align: middle;\n",
              "    }\n",
              "\n",
              "    .dataframe tbody tr th {\n",
              "        vertical-align: top;\n",
              "    }\n",
              "\n",
              "    .dataframe thead th {\n",
              "        text-align: right;\n",
              "    }\n",
              "</style>\n",
              "<table border=\"1\" class=\"dataframe\">\n",
              "  <thead>\n",
              "    <tr style=\"text-align: right;\">\n",
              "      <th></th>\n",
              "      <th>day</th>\n",
              "      <th>year</th>\n",
              "      <th>mo</th>\n",
              "      <th>da</th>\n",
              "      <th>temp</th>\n",
              "      <th>dewp</th>\n",
              "      <th>slp</th>\n",
              "      <th>visib</th>\n",
              "      <th>wdsp</th>\n",
              "      <th>mxpsd</th>\n",
              "      <th>gust</th>\n",
              "      <th>max</th>\n",
              "      <th>min</th>\n",
              "      <th>prcp</th>\n",
              "      <th>fog</th>\n",
              "      <th>NUM_COLLISIONS</th>\n",
              "    </tr>\n",
              "    <tr>\n",
              "      <th>collision_date</th>\n",
              "      <th></th>\n",
              "      <th></th>\n",
              "      <th></th>\n",
              "      <th></th>\n",
              "      <th></th>\n",
              "      <th></th>\n",
              "      <th></th>\n",
              "      <th></th>\n",
              "      <th></th>\n",
              "      <th></th>\n",
              "      <th></th>\n",
              "      <th></th>\n",
              "      <th></th>\n",
              "      <th></th>\n",
              "      <th></th>\n",
              "      <th></th>\n",
              "    </tr>\n",
              "  </thead>\n",
              "  <tbody>\n",
              "    <tr>\n",
              "      <th>2018-09-23</th>\n",
              "      <td>7</td>\n",
              "      <td>2018</td>\n",
              "      <td>9</td>\n",
              "      <td>23</td>\n",
              "      <td>59.8</td>\n",
              "      <td>50.2</td>\n",
              "      <td>1023.4</td>\n",
              "      <td>10.0</td>\n",
              "      <td>3.0</td>\n",
              "      <td>5.1</td>\n",
              "      <td>0.0</td>\n",
              "      <td>78.1</td>\n",
              "      <td>53.1</td>\n",
              "      <td>0.0</td>\n",
              "      <td>0</td>\n",
              "      <td>-0.876381</td>\n",
              "    </tr>\n",
              "    <tr>\n",
              "      <th>2018-12-20</th>\n",
              "      <td>4</td>\n",
              "      <td>2018</td>\n",
              "      <td>12</td>\n",
              "      <td>20</td>\n",
              "      <td>38.6</td>\n",
              "      <td>34.4</td>\n",
              "      <td>1020.2</td>\n",
              "      <td>9.6</td>\n",
              "      <td>5.0</td>\n",
              "      <td>7.0</td>\n",
              "      <td>0.0</td>\n",
              "      <td>48.0</td>\n",
              "      <td>21.0</td>\n",
              "      <td>0.0</td>\n",
              "      <td>0</td>\n",
              "      <td>2.019455</td>\n",
              "    </tr>\n",
              "    <tr>\n",
              "      <th>2013-11-05</th>\n",
              "      <td>2</td>\n",
              "      <td>2013</td>\n",
              "      <td>11</td>\n",
              "      <td>5</td>\n",
              "      <td>43.5</td>\n",
              "      <td>30.4</td>\n",
              "      <td>1037.8</td>\n",
              "      <td>10.0</td>\n",
              "      <td>3.9</td>\n",
              "      <td>7.0</td>\n",
              "      <td>0.0</td>\n",
              "      <td>50.0</td>\n",
              "      <td>37.9</td>\n",
              "      <td>0.0</td>\n",
              "      <td>0</td>\n",
              "      <td>-0.570175</td>\n",
              "    </tr>\n",
              "    <tr>\n",
              "      <th>2012-07-11</th>\n",
              "      <td>3</td>\n",
              "      <td>2012</td>\n",
              "      <td>7</td>\n",
              "      <td>11</td>\n",
              "      <td>77.1</td>\n",
              "      <td>62.0</td>\n",
              "      <td>1019.9</td>\n",
              "      <td>10.0</td>\n",
              "      <td>1.9</td>\n",
              "      <td>7.0</td>\n",
              "      <td>0.0</td>\n",
              "      <td>84.0</td>\n",
              "      <td>64.9</td>\n",
              "      <td>0.0</td>\n",
              "      <td>0</td>\n",
              "      <td>-0.088994</td>\n",
              "    </tr>\n",
              "    <tr>\n",
              "      <th>2012-07-12</th>\n",
              "      <td>4</td>\n",
              "      <td>2012</td>\n",
              "      <td>7</td>\n",
              "      <td>12</td>\n",
              "      <td>77.4</td>\n",
              "      <td>60.2</td>\n",
              "      <td>1021.7</td>\n",
              "      <td>10.0</td>\n",
              "      <td>2.3</td>\n",
              "      <td>7.0</td>\n",
              "      <td>0.0</td>\n",
              "      <td>88.0</td>\n",
              "      <td>57.0</td>\n",
              "      <td>0.0</td>\n",
              "      <td>0</td>\n",
              "      <td>0.015991</td>\n",
              "    </tr>\n",
              "  </tbody>\n",
              "</table>\n",
              "</div>\n",
              "      <button class=\"colab-df-convert\" onclick=\"convertToInteractive('df-c74d854c-ecaa-4b47-923e-b5ca91892613')\"\n",
              "              title=\"Convert this dataframe to an interactive table.\"\n",
              "              style=\"display:none;\">\n",
              "        \n",
              "  <svg xmlns=\"http://www.w3.org/2000/svg\" height=\"24px\"viewBox=\"0 0 24 24\"\n",
              "       width=\"24px\">\n",
              "    <path d=\"M0 0h24v24H0V0z\" fill=\"none\"/>\n",
              "    <path d=\"M18.56 5.44l.94 2.06.94-2.06 2.06-.94-2.06-.94-.94-2.06-.94 2.06-2.06.94zm-11 1L8.5 8.5l.94-2.06 2.06-.94-2.06-.94L8.5 2.5l-.94 2.06-2.06.94zm10 10l.94 2.06.94-2.06 2.06-.94-2.06-.94-.94-2.06-.94 2.06-2.06.94z\"/><path d=\"M17.41 7.96l-1.37-1.37c-.4-.4-.92-.59-1.43-.59-.52 0-1.04.2-1.43.59L10.3 9.45l-7.72 7.72c-.78.78-.78 2.05 0 2.83L4 21.41c.39.39.9.59 1.41.59.51 0 1.02-.2 1.41-.59l7.78-7.78 2.81-2.81c.8-.78.8-2.07 0-2.86zM5.41 20L4 18.59l7.72-7.72 1.47 1.35L5.41 20z\"/>\n",
              "  </svg>\n",
              "      </button>\n",
              "      \n",
              "  <style>\n",
              "    .colab-df-container {\n",
              "      display:flex;\n",
              "      flex-wrap:wrap;\n",
              "      gap: 12px;\n",
              "    }\n",
              "\n",
              "    .colab-df-convert {\n",
              "      background-color: #E8F0FE;\n",
              "      border: none;\n",
              "      border-radius: 50%;\n",
              "      cursor: pointer;\n",
              "      display: none;\n",
              "      fill: #1967D2;\n",
              "      height: 32px;\n",
              "      padding: 0 0 0 0;\n",
              "      width: 32px;\n",
              "    }\n",
              "\n",
              "    .colab-df-convert:hover {\n",
              "      background-color: #E2EBFA;\n",
              "      box-shadow: 0px 1px 2px rgba(60, 64, 67, 0.3), 0px 1px 3px 1px rgba(60, 64, 67, 0.15);\n",
              "      fill: #174EA6;\n",
              "    }\n",
              "\n",
              "    [theme=dark] .colab-df-convert {\n",
              "      background-color: #3B4455;\n",
              "      fill: #D2E3FC;\n",
              "    }\n",
              "\n",
              "    [theme=dark] .colab-df-convert:hover {\n",
              "      background-color: #434B5C;\n",
              "      box-shadow: 0px 1px 3px 1px rgba(0, 0, 0, 0.15);\n",
              "      filter: drop-shadow(0px 1px 2px rgba(0, 0, 0, 0.3));\n",
              "      fill: #FFFFFF;\n",
              "    }\n",
              "  </style>\n",
              "\n",
              "      <script>\n",
              "        const buttonEl =\n",
              "          document.querySelector('#df-c74d854c-ecaa-4b47-923e-b5ca91892613 button.colab-df-convert');\n",
              "        buttonEl.style.display =\n",
              "          google.colab.kernel.accessAllowed ? 'block' : 'none';\n",
              "\n",
              "        async function convertToInteractive(key) {\n",
              "          const element = document.querySelector('#df-c74d854c-ecaa-4b47-923e-b5ca91892613');\n",
              "          const dataTable =\n",
              "            await google.colab.kernel.invokeFunction('convertToInteractive',\n",
              "                                                     [key], {});\n",
              "          if (!dataTable) return;\n",
              "\n",
              "          const docLinkHtml = 'Like what you see? Visit the ' +\n",
              "            '<a target=\"_blank\" href=https://colab.research.google.com/notebooks/data_table.ipynb>data table notebook</a>'\n",
              "            + ' to learn more about interactive tables.';\n",
              "          element.innerHTML = '';\n",
              "          dataTable['output_type'] = 'display_data';\n",
              "          await google.colab.output.renderOutput(dataTable, element);\n",
              "          const docLink = document.createElement('div');\n",
              "          docLink.innerHTML = docLinkHtml;\n",
              "          element.appendChild(docLink);\n",
              "        }\n",
              "      </script>\n",
              "    </div>\n",
              "  </div>\n",
              "  "
            ]
          },
          "metadata": {},
          "execution_count": 169
        }
      ]
    },
    {
      "cell_type": "code",
      "metadata": {
        "colab": {
          "base_uri": "https://localhost:8080/",
          "height": 237
        },
        "outputId": "983a8468-c567-4993-ebfe-fe3ec582cbe8",
        "id": "DfViW14wW8Yo"
      },
      "source": [
        "dnn_input_data = [df[\"mo\"],df[\"day\"],df[\"max\"], df[\"temp\"],df[\"min\"], df[\"wdsp\"],df[\"prcp\"],df[\"NUM_COLLISIONS\"]]\n",
        "headers = [\"mo\",\"day\",\"max\",\"temp\", \"min\", \"wdsp\",\"prcp\",\"NUM_COLLISIONS\"]\n",
        "df_dnn_input = pd.concat(dnn_input_data, axis=1, keys=headers)\n",
        "df_dnn_input.head()"
      ],
      "execution_count": null,
      "outputs": [
        {
          "output_type": "execute_result",
          "data": {
            "text/plain": [
              "                mo  day   max  temp   min  wdsp  prcp  NUM_COLLISIONS\n",
              "collision_date                                                       \n",
              "2018-09-23       9    7  78.1  59.8  53.1   3.0   0.0       -0.876381\n",
              "2018-12-20      12    4  48.0  38.6  21.0   5.0   0.0        2.019455\n",
              "2013-11-05      11    2  50.0  43.5  37.9   3.9   0.0       -0.570175\n",
              "2012-07-11       7    3  84.0  77.1  64.9   1.9   0.0       -0.088994\n",
              "2012-07-12       7    4  88.0  77.4  57.0   2.3   0.0        0.015991"
            ],
            "text/html": [
              "\n",
              "  <div id=\"df-4579adcb-fb93-4d91-ab7d-c21b752e6c60\">\n",
              "    <div class=\"colab-df-container\">\n",
              "      <div>\n",
              "<style scoped>\n",
              "    .dataframe tbody tr th:only-of-type {\n",
              "        vertical-align: middle;\n",
              "    }\n",
              "\n",
              "    .dataframe tbody tr th {\n",
              "        vertical-align: top;\n",
              "    }\n",
              "\n",
              "    .dataframe thead th {\n",
              "        text-align: right;\n",
              "    }\n",
              "</style>\n",
              "<table border=\"1\" class=\"dataframe\">\n",
              "  <thead>\n",
              "    <tr style=\"text-align: right;\">\n",
              "      <th></th>\n",
              "      <th>mo</th>\n",
              "      <th>day</th>\n",
              "      <th>max</th>\n",
              "      <th>temp</th>\n",
              "      <th>min</th>\n",
              "      <th>wdsp</th>\n",
              "      <th>prcp</th>\n",
              "      <th>NUM_COLLISIONS</th>\n",
              "    </tr>\n",
              "    <tr>\n",
              "      <th>collision_date</th>\n",
              "      <th></th>\n",
              "      <th></th>\n",
              "      <th></th>\n",
              "      <th></th>\n",
              "      <th></th>\n",
              "      <th></th>\n",
              "      <th></th>\n",
              "      <th></th>\n",
              "    </tr>\n",
              "  </thead>\n",
              "  <tbody>\n",
              "    <tr>\n",
              "      <th>2018-09-23</th>\n",
              "      <td>9</td>\n",
              "      <td>7</td>\n",
              "      <td>78.1</td>\n",
              "      <td>59.8</td>\n",
              "      <td>53.1</td>\n",
              "      <td>3.0</td>\n",
              "      <td>0.0</td>\n",
              "      <td>-0.876381</td>\n",
              "    </tr>\n",
              "    <tr>\n",
              "      <th>2018-12-20</th>\n",
              "      <td>12</td>\n",
              "      <td>4</td>\n",
              "      <td>48.0</td>\n",
              "      <td>38.6</td>\n",
              "      <td>21.0</td>\n",
              "      <td>5.0</td>\n",
              "      <td>0.0</td>\n",
              "      <td>2.019455</td>\n",
              "    </tr>\n",
              "    <tr>\n",
              "      <th>2013-11-05</th>\n",
              "      <td>11</td>\n",
              "      <td>2</td>\n",
              "      <td>50.0</td>\n",
              "      <td>43.5</td>\n",
              "      <td>37.9</td>\n",
              "      <td>3.9</td>\n",
              "      <td>0.0</td>\n",
              "      <td>-0.570175</td>\n",
              "    </tr>\n",
              "    <tr>\n",
              "      <th>2012-07-11</th>\n",
              "      <td>7</td>\n",
              "      <td>3</td>\n",
              "      <td>84.0</td>\n",
              "      <td>77.1</td>\n",
              "      <td>64.9</td>\n",
              "      <td>1.9</td>\n",
              "      <td>0.0</td>\n",
              "      <td>-0.088994</td>\n",
              "    </tr>\n",
              "    <tr>\n",
              "      <th>2012-07-12</th>\n",
              "      <td>7</td>\n",
              "      <td>4</td>\n",
              "      <td>88.0</td>\n",
              "      <td>77.4</td>\n",
              "      <td>57.0</td>\n",
              "      <td>2.3</td>\n",
              "      <td>0.0</td>\n",
              "      <td>0.015991</td>\n",
              "    </tr>\n",
              "  </tbody>\n",
              "</table>\n",
              "</div>\n",
              "      <button class=\"colab-df-convert\" onclick=\"convertToInteractive('df-4579adcb-fb93-4d91-ab7d-c21b752e6c60')\"\n",
              "              title=\"Convert this dataframe to an interactive table.\"\n",
              "              style=\"display:none;\">\n",
              "        \n",
              "  <svg xmlns=\"http://www.w3.org/2000/svg\" height=\"24px\"viewBox=\"0 0 24 24\"\n",
              "       width=\"24px\">\n",
              "    <path d=\"M0 0h24v24H0V0z\" fill=\"none\"/>\n",
              "    <path d=\"M18.56 5.44l.94 2.06.94-2.06 2.06-.94-2.06-.94-.94-2.06-.94 2.06-2.06.94zm-11 1L8.5 8.5l.94-2.06 2.06-.94-2.06-.94L8.5 2.5l-.94 2.06-2.06.94zm10 10l.94 2.06.94-2.06 2.06-.94-2.06-.94-.94-2.06-.94 2.06-2.06.94z\"/><path d=\"M17.41 7.96l-1.37-1.37c-.4-.4-.92-.59-1.43-.59-.52 0-1.04.2-1.43.59L10.3 9.45l-7.72 7.72c-.78.78-.78 2.05 0 2.83L4 21.41c.39.39.9.59 1.41.59.51 0 1.02-.2 1.41-.59l7.78-7.78 2.81-2.81c.8-.78.8-2.07 0-2.86zM5.41 20L4 18.59l7.72-7.72 1.47 1.35L5.41 20z\"/>\n",
              "  </svg>\n",
              "      </button>\n",
              "      \n",
              "  <style>\n",
              "    .colab-df-container {\n",
              "      display:flex;\n",
              "      flex-wrap:wrap;\n",
              "      gap: 12px;\n",
              "    }\n",
              "\n",
              "    .colab-df-convert {\n",
              "      background-color: #E8F0FE;\n",
              "      border: none;\n",
              "      border-radius: 50%;\n",
              "      cursor: pointer;\n",
              "      display: none;\n",
              "      fill: #1967D2;\n",
              "      height: 32px;\n",
              "      padding: 0 0 0 0;\n",
              "      width: 32px;\n",
              "    }\n",
              "\n",
              "    .colab-df-convert:hover {\n",
              "      background-color: #E2EBFA;\n",
              "      box-shadow: 0px 1px 2px rgba(60, 64, 67, 0.3), 0px 1px 3px 1px rgba(60, 64, 67, 0.15);\n",
              "      fill: #174EA6;\n",
              "    }\n",
              "\n",
              "    [theme=dark] .colab-df-convert {\n",
              "      background-color: #3B4455;\n",
              "      fill: #D2E3FC;\n",
              "    }\n",
              "\n",
              "    [theme=dark] .colab-df-convert:hover {\n",
              "      background-color: #434B5C;\n",
              "      box-shadow: 0px 1px 3px 1px rgba(0, 0, 0, 0.15);\n",
              "      filter: drop-shadow(0px 1px 2px rgba(0, 0, 0, 0.3));\n",
              "      fill: #FFFFFF;\n",
              "    }\n",
              "  </style>\n",
              "\n",
              "      <script>\n",
              "        const buttonEl =\n",
              "          document.querySelector('#df-4579adcb-fb93-4d91-ab7d-c21b752e6c60 button.colab-df-convert');\n",
              "        buttonEl.style.display =\n",
              "          google.colab.kernel.accessAllowed ? 'block' : 'none';\n",
              "\n",
              "        async function convertToInteractive(key) {\n",
              "          const element = document.querySelector('#df-4579adcb-fb93-4d91-ab7d-c21b752e6c60');\n",
              "          const dataTable =\n",
              "            await google.colab.kernel.invokeFunction('convertToInteractive',\n",
              "                                                     [key], {});\n",
              "          if (!dataTable) return;\n",
              "\n",
              "          const docLinkHtml = 'Like what you see? Visit the ' +\n",
              "            '<a target=\"_blank\" href=https://colab.research.google.com/notebooks/data_table.ipynb>data table notebook</a>'\n",
              "            + ' to learn more about interactive tables.';\n",
              "          element.innerHTML = '';\n",
              "          dataTable['output_type'] = 'display_data';\n",
              "          await google.colab.output.renderOutput(dataTable, element);\n",
              "          const docLink = document.createElement('div');\n",
              "          docLink.innerHTML = docLinkHtml;\n",
              "          element.appendChild(docLink);\n",
              "        }\n",
              "      </script>\n",
              "    </div>\n",
              "  </div>\n",
              "  "
            ]
          },
          "metadata": {},
          "execution_count": 170
        }
      ]
    },
    {
      "cell_type": "code",
      "metadata": {
        "id": "prdfCFBSW8Yo"
      },
      "source": [
        "training_dataset = df_dnn_input.sample(frac=0.8, random_state=0)\n",
        "test_dataset = df_dnn_input.drop(training_dataset.index)"
      ],
      "execution_count": null,
      "outputs": []
    },
    {
      "cell_type": "code",
      "source": [
        "training_features = training_dataset.copy()\n",
        "test_features = test_dataset.copy()\n",
        "\n",
        "training_labels = training_features.pop('NUM_COLLISIONS')\n",
        "test_labels = test_features.pop('NUM_COLLISIONS')"
      ],
      "metadata": {
        "id": "LZM_W-GCW8Yp"
      },
      "execution_count": null,
      "outputs": []
    },
    {
      "cell_type": "code",
      "source": [
        "training_labels = training_labels/SCALE_NUM_COLLISIONS\n",
        "test_labels = test_labels/SCALE_NUM_COLLISIONS"
      ],
      "metadata": {
        "id": "9nh_no0mW8Yp"
      },
      "execution_count": null,
      "outputs": []
    },
    {
      "cell_type": "code",
      "source": [
        "normaliser = tf.keras.layers.Normalization(axis=-1)\n",
        "normaliser.adapt(np.array(training_features))"
      ],
      "metadata": {
        "id": "xvYtegkmW8Yp"
      },
      "execution_count": null,
      "outputs": []
    },
    {
      "cell_type": "code",
      "source": [
        "dnn_model_moday = keras.Sequential([\n",
        "      normaliser,\n",
        "      layers.Dense(48, activation='relu'),\n",
        "      layers.Dense(48, activation='relu'),\n",
        "      layers.Dense(1)\n",
        "  ])\n",
        "\n",
        "dnn_model_moday.compile(loss='mean_absolute_error',\n",
        "                optimizer=tf.keras.optimizers.Adam(0.001))"
      ],
      "metadata": {
        "id": "GbokbjQMW8Yp"
      },
      "execution_count": null,
      "outputs": []
    },
    {
      "cell_type": "code",
      "source": [
        "%%time\n",
        "history = dnn_model_moday.fit(\n",
        "    training_features,\n",
        "    training_labels,\n",
        "    validation_split=0.2,\n",
        "    verbose=0, \n",
        "    epochs=100)"
      ],
      "metadata": {
        "outputId": "aa2abf09-5b35-4cee-be6f-e7466e84b1be",
        "colab": {
          "base_uri": "https://localhost:8080/"
        },
        "id": "5lwl3VjTW8Yp"
      },
      "execution_count": null,
      "outputs": [
        {
          "output_type": "stream",
          "name": "stdout",
          "text": [
            "CPU times: user 19 s, sys: 717 ms, total: 19.7 s\n",
            "Wall time: 21.7 s\n"
          ]
        }
      ]
    },
    {
      "cell_type": "code",
      "source": [
        "hist = pd.DataFrame(history.history)\n",
        "hist['epoch'] = history.epoch\n",
        "hist.tail()"
      ],
      "metadata": {
        "colab": {
          "base_uri": "https://localhost:8080/",
          "height": 206
        },
        "id": "neMxQrm1ndHR",
        "outputId": "b66a5a5a-9eb4-4138-b3f8-36169080275d"
      },
      "execution_count": null,
      "outputs": [
        {
          "output_type": "execute_result",
          "data": {
            "text/plain": [
              "        loss  val_loss  epoch\n",
              "95  0.569842  0.608259     95\n",
              "96  0.564632  0.602118     96\n",
              "97  0.570022  0.608424     97\n",
              "98  0.566909  0.599446     98\n",
              "99  0.563109  0.608122     99"
            ],
            "text/html": [
              "\n",
              "  <div id=\"df-1537ddd8-069f-4f61-a5ba-5212c8459736\">\n",
              "    <div class=\"colab-df-container\">\n",
              "      <div>\n",
              "<style scoped>\n",
              "    .dataframe tbody tr th:only-of-type {\n",
              "        vertical-align: middle;\n",
              "    }\n",
              "\n",
              "    .dataframe tbody tr th {\n",
              "        vertical-align: top;\n",
              "    }\n",
              "\n",
              "    .dataframe thead th {\n",
              "        text-align: right;\n",
              "    }\n",
              "</style>\n",
              "<table border=\"1\" class=\"dataframe\">\n",
              "  <thead>\n",
              "    <tr style=\"text-align: right;\">\n",
              "      <th></th>\n",
              "      <th>loss</th>\n",
              "      <th>val_loss</th>\n",
              "      <th>epoch</th>\n",
              "    </tr>\n",
              "  </thead>\n",
              "  <tbody>\n",
              "    <tr>\n",
              "      <th>95</th>\n",
              "      <td>0.569842</td>\n",
              "      <td>0.608259</td>\n",
              "      <td>95</td>\n",
              "    </tr>\n",
              "    <tr>\n",
              "      <th>96</th>\n",
              "      <td>0.564632</td>\n",
              "      <td>0.602118</td>\n",
              "      <td>96</td>\n",
              "    </tr>\n",
              "    <tr>\n",
              "      <th>97</th>\n",
              "      <td>0.570022</td>\n",
              "      <td>0.608424</td>\n",
              "      <td>97</td>\n",
              "    </tr>\n",
              "    <tr>\n",
              "      <th>98</th>\n",
              "      <td>0.566909</td>\n",
              "      <td>0.599446</td>\n",
              "      <td>98</td>\n",
              "    </tr>\n",
              "    <tr>\n",
              "      <th>99</th>\n",
              "      <td>0.563109</td>\n",
              "      <td>0.608122</td>\n",
              "      <td>99</td>\n",
              "    </tr>\n",
              "  </tbody>\n",
              "</table>\n",
              "</div>\n",
              "      <button class=\"colab-df-convert\" onclick=\"convertToInteractive('df-1537ddd8-069f-4f61-a5ba-5212c8459736')\"\n",
              "              title=\"Convert this dataframe to an interactive table.\"\n",
              "              style=\"display:none;\">\n",
              "        \n",
              "  <svg xmlns=\"http://www.w3.org/2000/svg\" height=\"24px\"viewBox=\"0 0 24 24\"\n",
              "       width=\"24px\">\n",
              "    <path d=\"M0 0h24v24H0V0z\" fill=\"none\"/>\n",
              "    <path d=\"M18.56 5.44l.94 2.06.94-2.06 2.06-.94-2.06-.94-.94-2.06-.94 2.06-2.06.94zm-11 1L8.5 8.5l.94-2.06 2.06-.94-2.06-.94L8.5 2.5l-.94 2.06-2.06.94zm10 10l.94 2.06.94-2.06 2.06-.94-2.06-.94-.94-2.06-.94 2.06-2.06.94z\"/><path d=\"M17.41 7.96l-1.37-1.37c-.4-.4-.92-.59-1.43-.59-.52 0-1.04.2-1.43.59L10.3 9.45l-7.72 7.72c-.78.78-.78 2.05 0 2.83L4 21.41c.39.39.9.59 1.41.59.51 0 1.02-.2 1.41-.59l7.78-7.78 2.81-2.81c.8-.78.8-2.07 0-2.86zM5.41 20L4 18.59l7.72-7.72 1.47 1.35L5.41 20z\"/>\n",
              "  </svg>\n",
              "      </button>\n",
              "      \n",
              "  <style>\n",
              "    .colab-df-container {\n",
              "      display:flex;\n",
              "      flex-wrap:wrap;\n",
              "      gap: 12px;\n",
              "    }\n",
              "\n",
              "    .colab-df-convert {\n",
              "      background-color: #E8F0FE;\n",
              "      border: none;\n",
              "      border-radius: 50%;\n",
              "      cursor: pointer;\n",
              "      display: none;\n",
              "      fill: #1967D2;\n",
              "      height: 32px;\n",
              "      padding: 0 0 0 0;\n",
              "      width: 32px;\n",
              "    }\n",
              "\n",
              "    .colab-df-convert:hover {\n",
              "      background-color: #E2EBFA;\n",
              "      box-shadow: 0px 1px 2px rgba(60, 64, 67, 0.3), 0px 1px 3px 1px rgba(60, 64, 67, 0.15);\n",
              "      fill: #174EA6;\n",
              "    }\n",
              "\n",
              "    [theme=dark] .colab-df-convert {\n",
              "      background-color: #3B4455;\n",
              "      fill: #D2E3FC;\n",
              "    }\n",
              "\n",
              "    [theme=dark] .colab-df-convert:hover {\n",
              "      background-color: #434B5C;\n",
              "      box-shadow: 0px 1px 3px 1px rgba(0, 0, 0, 0.15);\n",
              "      filter: drop-shadow(0px 1px 2px rgba(0, 0, 0, 0.3));\n",
              "      fill: #FFFFFF;\n",
              "    }\n",
              "  </style>\n",
              "\n",
              "      <script>\n",
              "        const buttonEl =\n",
              "          document.querySelector('#df-1537ddd8-069f-4f61-a5ba-5212c8459736 button.colab-df-convert');\n",
              "        buttonEl.style.display =\n",
              "          google.colab.kernel.accessAllowed ? 'block' : 'none';\n",
              "\n",
              "        async function convertToInteractive(key) {\n",
              "          const element = document.querySelector('#df-1537ddd8-069f-4f61-a5ba-5212c8459736');\n",
              "          const dataTable =\n",
              "            await google.colab.kernel.invokeFunction('convertToInteractive',\n",
              "                                                     [key], {});\n",
              "          if (!dataTable) return;\n",
              "\n",
              "          const docLinkHtml = 'Like what you see? Visit the ' +\n",
              "            '<a target=\"_blank\" href=https://colab.research.google.com/notebooks/data_table.ipynb>data table notebook</a>'\n",
              "            + ' to learn more about interactive tables.';\n",
              "          element.innerHTML = '';\n",
              "          dataTable['output_type'] = 'display_data';\n",
              "          await google.colab.output.renderOutput(dataTable, element);\n",
              "          const docLink = document.createElement('div');\n",
              "          docLink.innerHTML = docLinkHtml;\n",
              "          element.appendChild(docLink);\n",
              "        }\n",
              "      </script>\n",
              "    </div>\n",
              "  </div>\n",
              "  "
            ]
          },
          "metadata": {},
          "execution_count": 177
        }
      ]
    },
    {
      "cell_type": "code",
      "source": [
        "dnn_model_1_results = dnn_model_moday.evaluate(test_features, test_labels, verbose=0)\n",
        "print(dnn_model_1_results)"
      ],
      "metadata": {
        "outputId": "5557e095-89b3-4a84-fdbd-0b2a685ee0d6",
        "colab": {
          "base_uri": "https://localhost:8080/"
        },
        "id": "fdFic6yWW8Yq"
      },
      "execution_count": null,
      "outputs": [
        {
          "output_type": "stream",
          "name": "stdout",
          "text": [
            "0.6585946679115295\n"
          ]
        }
      ]
    },
    {
      "cell_type": "code",
      "source": [
        "dnn_model_1_results"
      ],
      "metadata": {
        "colab": {
          "base_uri": "https://localhost:8080/"
        },
        "outputId": "d7fd87a4-0f9b-4ded-c39c-b85879ec186b",
        "id": "AiGL6YOjW8Yq"
      },
      "execution_count": null,
      "outputs": [
        {
          "output_type": "execute_result",
          "data": {
            "text/plain": [
              "0.6585946679115295"
            ]
          },
          "metadata": {},
          "execution_count": 179
        }
      ]
    },
    {
      "cell_type": "code",
      "source": [],
      "metadata": {
        "id": "pzkjWavXLlQs"
      },
      "execution_count": null,
      "outputs": []
    },
    {
      "cell_type": "code",
      "source": [
        "plot_loss(history)"
      ],
      "metadata": {
        "colab": {
          "base_uri": "https://localhost:8080/",
          "height": 283
        },
        "outputId": "8213fb65-cf2f-46aa-9a55-8e08a203b76a",
        "id": "3HQC2m5dLlb3"
      },
      "execution_count": null,
      "outputs": [
        {
          "output_type": "display_data",
          "data": {
            "text/plain": [
              "<Figure size 432x288 with 1 Axes>"
            ],
            "image/png": "[encoded data removed]"
          },
          "metadata": {
            "needs_background": "light"
          }
        }
      ]
    },
    {
      "cell_type": "markdown",
      "source": [
        "This shows that most of the progress was done after the first 20 epochs, and the more the algorithm is trained the higher the risk of overfitting. \n",
        "However there is still progress being made as the epochs progress. "
      ],
      "metadata": {
        "id": "R4xd4eJRLyA4"
      }
    },
    {
      "cell_type": "code",
      "source": [
        "test_predictions = dnn_model_moday.predict(test_features).flatten()\n",
        "\n",
        "a = plt.axes(aspect='equal')\n",
        "plt.scatter(test_labels, test_predictions)\n",
        "plt.xlabel('True Values [NC]')\n",
        "plt.ylabel('Predictions [NC]')\n",
        "lims = [-3, 3]\n",
        "plt.xlim(lims)\n",
        "plt.ylim(lims)\n",
        "_ = plt.plot(lims, lims)"
      ],
      "metadata": {
        "colab": {
          "base_uri": "https://localhost:8080/",
          "height": 301
        },
        "outputId": "a4d663a9-33a9-4674-f5ea-62520d2a6da0",
        "id": "9YlB661uFJZ-"
      },
      "execution_count": null,
      "outputs": [
        {
          "output_type": "stream",
          "name": "stdout",
          "text": [
            "18/18 [==============================] - 0s 2ms/step\n"
          ]
        },
        {
          "output_type": "display_data",
          "data": {
            "text/plain": [
              "<Figure size 432x288 with 1 Axes>"
            ],
            "image/png": "[encoded data removed]"
          },
          "metadata": {
            "needs_background": "light"
          }
        }
      ]
    },
    {
      "cell_type": "code",
      "source": [
        "test_results['dnn_model_moday'] = dnn_model_moday.evaluate(test_features, test_labels, verbose=0)\n"
      ],
      "metadata": {
        "id": "sPrB2AQqyRFr"
      },
      "execution_count": null,
      "outputs": []
    },
    {
      "cell_type": "markdown",
      "source": [
        "This graph shows that the fit is very good, and vastly outperforms all other regressors and DNNs. The problem with this graph is that the month and day dont really correspond to the weather and it might be off topic to use the month and day for a DNN designed to gauge the impact of weather variables on the number of collisions in new york. However the day and month is always easily accessible information and is the most accurate predictor so far so it might be of great help to the new york city emergency services as they now have information on which days and months are the most dangerous as well.\n"
      ],
      "metadata": {
        "id": "BrIeR8bnSDxW"
      }
    },
    {
      "cell_type": "markdown",
      "source": [],
      "metadata": {
        "id": "ql6RTuo09FUY"
      }
    },
    {
      "cell_type": "markdown",
      "source": [
        "# Tensorflow including all weather variables"
      ],
      "metadata": {
        "id": "pkcmhLJy9FjG"
      }
    },
    {
      "cell_type": "markdown",
      "source": [
        "The first iteration of this used 100 epochs, but hte plot loss graph showed that as the loss decreased consistently (the training datas loss) the cross validation loss (val_loss) actually increased, showing signs of overtraining. \n",
        "Of course using many variables increases the chances of overtraining greatly, so therefore this DNN will not be picked as the final model due to its overtraining. "
      ],
      "metadata": {
        "id": "40SqhawSZZOB"
      }
    },
    {
      "cell_type": "code",
      "source": [
        "# needed to create the data frame\n",
        "import pandas as pd\n",
        "\n",
        "# needed to help with speedy maths based calculations\n",
        "import numpy as np"
      ],
      "metadata": {
        "id": "sNhfpbhq9FjG"
      },
      "execution_count": null,
      "outputs": []
    },
    {
      "cell_type": "code",
      "metadata": {
        "colab": {
          "base_uri": "https://localhost:8080/",
          "height": 237
        },
        "outputId": "d4a41f38-4d63-4b40-ca9b-c2e7c310d1a7",
        "id": "XG_j1LFl9FjH"
      },
      "source": [
        "# make sure we have our data by printing it out\n",
        "df[:5]\n",
        "# df #all"
      ],
      "execution_count": null,
      "outputs": [
        {
          "output_type": "execute_result",
          "data": {
            "text/plain": [
              "                day  year  mo  da  temp  dewp     slp  visib  wdsp  mxpsd  \\\n",
              "collision_date                                                              \n",
              "2018-09-23        7  2018   9  23  59.8  50.2  1023.4   10.0   3.0    5.1   \n",
              "2018-12-20        4  2018  12  20  38.6  34.4  1020.2    9.6   5.0    7.0   \n",
              "2013-11-05        2  2013  11   5  43.5  30.4  1037.8   10.0   3.9    7.0   \n",
              "2012-07-11        3  2012   7  11  77.1  62.0  1019.9   10.0   1.9    7.0   \n",
              "2012-07-12        4  2012   7  12  77.4  60.2  1021.7   10.0   2.3    7.0   \n",
              "\n",
              "                gust   max   min  prcp  fog  NUM_COLLISIONS  \n",
              "collision_date                                               \n",
              "2018-09-23       0.0  78.1  53.1   0.0    0       -0.876381  \n",
              "2018-12-20       0.0  48.0  21.0   0.0    0        2.019455  \n",
              "2013-11-05       0.0  50.0  37.9   0.0    0       -0.570175  \n",
              "2012-07-11       0.0  84.0  64.9   0.0    0       -0.088994  \n",
              "2012-07-12       0.0  88.0  57.0   0.0    0        0.015991  "
            ],
            "text/html": [
              "\n",
              "  <div id=\"df-98d214e8-00b6-4fff-80c4-b0b5840087b6\">\n",
              "    <div class=\"colab-df-container\">\n",
              "      <div>\n",
              "<style scoped>\n",
              "    .dataframe tbody tr th:only-of-type {\n",
              "        vertical-align: middle;\n",
              "    }\n",
              "\n",
              "    .dataframe tbody tr th {\n",
              "        vertical-align: top;\n",
              "    }\n",
              "\n",
              "    .dataframe thead th {\n",
              "        text-align: right;\n",
              "    }\n",
              "</style>\n",
              "<table border=\"1\" class=\"dataframe\">\n",
              "  <thead>\n",
              "    <tr style=\"text-align: right;\">\n",
              "      <th></th>\n",
              "      <th>day</th>\n",
              "      <th>year</th>\n",
              "      <th>mo</th>\n",
              "      <th>da</th>\n",
              "      <th>temp</th>\n",
              "      <th>dewp</th>\n",
              "      <th>slp</th>\n",
              "      <th>visib</th>\n",
              "      <th>wdsp</th>\n",
              "      <th>mxpsd</th>\n",
              "      <th>gust</th>\n",
              "      <th>max</th>\n",
              "      <th>min</th>\n",
              "      <th>prcp</th>\n",
              "      <th>fog</th>\n",
              "      <th>NUM_COLLISIONS</th>\n",
              "    </tr>\n",
              "    <tr>\n",
              "      <th>collision_date</th>\n",
              "      <th></th>\n",
              "      <th></th>\n",
              "      <th></th>\n",
              "      <th></th>\n",
              "      <th></th>\n",
              "      <th></th>\n",
              "      <th></th>\n",
              "      <th></th>\n",
              "      <th></th>\n",
              "      <th></th>\n",
              "      <th></th>\n",
              "      <th></th>\n",
              "      <th></th>\n",
              "      <th></th>\n",
              "      <th></th>\n",
              "      <th></th>\n",
              "    </tr>\n",
              "  </thead>\n",
              "  <tbody>\n",
              "    <tr>\n",
              "      <th>2018-09-23</th>\n",
              "      <td>7</td>\n",
              "      <td>2018</td>\n",
              "      <td>9</td>\n",
              "      <td>23</td>\n",
              "      <td>59.8</td>\n",
              "      <td>50.2</td>\n",
              "      <td>1023.4</td>\n",
              "      <td>10.0</td>\n",
              "      <td>3.0</td>\n",
              "      <td>5.1</td>\n",
              "      <td>0.0</td>\n",
              "      <td>78.1</td>\n",
              "      <td>53.1</td>\n",
              "      <td>0.0</td>\n",
              "      <td>0</td>\n",
              "      <td>-0.876381</td>\n",
              "    </tr>\n",
              "    <tr>\n",
              "      <th>2018-12-20</th>\n",
              "      <td>4</td>\n",
              "      <td>2018</td>\n",
              "      <td>12</td>\n",
              "      <td>20</td>\n",
              "      <td>38.6</td>\n",
              "      <td>34.4</td>\n",
              "      <td>1020.2</td>\n",
              "      <td>9.6</td>\n",
              "      <td>5.0</td>\n",
              "      <td>7.0</td>\n",
              "      <td>0.0</td>\n",
              "      <td>48.0</td>\n",
              "      <td>21.0</td>\n",
              "      <td>0.0</td>\n",
              "      <td>0</td>\n",
              "      <td>2.019455</td>\n",
              "    </tr>\n",
              "    <tr>\n",
              "      <th>2013-11-05</th>\n",
              "      <td>2</td>\n",
              "      <td>2013</td>\n",
              "      <td>11</td>\n",
              "      <td>5</td>\n",
              "      <td>43.5</td>\n",
              "      <td>30.4</td>\n",
              "      <td>1037.8</td>\n",
              "      <td>10.0</td>\n",
              "      <td>3.9</td>\n",
              "      <td>7.0</td>\n",
              "      <td>0.0</td>\n",
              "      <td>50.0</td>\n",
              "      <td>37.9</td>\n",
              "      <td>0.0</td>\n",
              "      <td>0</td>\n",
              "      <td>-0.570175</td>\n",
              "    </tr>\n",
              "    <tr>\n",
              "      <th>2012-07-11</th>\n",
              "      <td>3</td>\n",
              "      <td>2012</td>\n",
              "      <td>7</td>\n",
              "      <td>11</td>\n",
              "      <td>77.1</td>\n",
              "      <td>62.0</td>\n",
              "      <td>1019.9</td>\n",
              "      <td>10.0</td>\n",
              "      <td>1.9</td>\n",
              "      <td>7.0</td>\n",
              "      <td>0.0</td>\n",
              "      <td>84.0</td>\n",
              "      <td>64.9</td>\n",
              "      <td>0.0</td>\n",
              "      <td>0</td>\n",
              "      <td>-0.088994</td>\n",
              "    </tr>\n",
              "    <tr>\n",
              "      <th>2012-07-12</th>\n",
              "      <td>4</td>\n",
              "      <td>2012</td>\n",
              "      <td>7</td>\n",
              "      <td>12</td>\n",
              "      <td>77.4</td>\n",
              "      <td>60.2</td>\n",
              "      <td>1021.7</td>\n",
              "      <td>10.0</td>\n",
              "      <td>2.3</td>\n",
              "      <td>7.0</td>\n",
              "      <td>0.0</td>\n",
              "      <td>88.0</td>\n",
              "      <td>57.0</td>\n",
              "      <td>0.0</td>\n",
              "      <td>0</td>\n",
              "      <td>0.015991</td>\n",
              "    </tr>\n",
              "  </tbody>\n",
              "</table>\n",
              "</div>\n",
              "      <button class=\"colab-df-convert\" onclick=\"convertToInteractive('df-98d214e8-00b6-4fff-80c4-b0b5840087b6')\"\n",
              "              title=\"Convert this dataframe to an interactive table.\"\n",
              "              style=\"display:none;\">\n",
              "        \n",
              "  <svg xmlns=\"http://www.w3.org/2000/svg\" height=\"24px\"viewBox=\"0 0 24 24\"\n",
              "       width=\"24px\">\n",
              "    <path d=\"M0 0h24v24H0V0z\" fill=\"none\"/>\n",
              "    <path d=\"M18.56 5.44l.94 2.06.94-2.06 2.06-.94-2.06-.94-.94-2.06-.94 2.06-2.06.94zm-11 1L8.5 8.5l.94-2.06 2.06-.94-2.06-.94L8.5 2.5l-.94 2.06-2.06.94zm10 10l.94 2.06.94-2.06 2.06-.94-2.06-.94-.94-2.06-.94 2.06-2.06.94z\"/><path d=\"M17.41 7.96l-1.37-1.37c-.4-.4-.92-.59-1.43-.59-.52 0-1.04.2-1.43.59L10.3 9.45l-7.72 7.72c-.78.78-.78 2.05 0 2.83L4 21.41c.39.39.9.59 1.41.59.51 0 1.02-.2 1.41-.59l7.78-7.78 2.81-2.81c.8-.78.8-2.07 0-2.86zM5.41 20L4 18.59l7.72-7.72 1.47 1.35L5.41 20z\"/>\n",
              "  </svg>\n",
              "      </button>\n",
              "      \n",
              "  <style>\n",
              "    .colab-df-container {\n",
              "      display:flex;\n",
              "      flex-wrap:wrap;\n",
              "      gap: 12px;\n",
              "    }\n",
              "\n",
              "    .colab-df-convert {\n",
              "      background-color: #E8F0FE;\n",
              "      border: none;\n",
              "      border-radius: 50%;\n",
              "      cursor: pointer;\n",
              "      display: none;\n",
              "      fill: #1967D2;\n",
              "      height: 32px;\n",
              "      padding: 0 0 0 0;\n",
              "      width: 32px;\n",
              "    }\n",
              "\n",
              "    .colab-df-convert:hover {\n",
              "      background-color: #E2EBFA;\n",
              "      box-shadow: 0px 1px 2px rgba(60, 64, 67, 0.3), 0px 1px 3px 1px rgba(60, 64, 67, 0.15);\n",
              "      fill: #174EA6;\n",
              "    }\n",
              "\n",
              "    [theme=dark] .colab-df-convert {\n",
              "      background-color: #3B4455;\n",
              "      fill: #D2E3FC;\n",
              "    }\n",
              "\n",
              "    [theme=dark] .colab-df-convert:hover {\n",
              "      background-color: #434B5C;\n",
              "      box-shadow: 0px 1px 3px 1px rgba(0, 0, 0, 0.15);\n",
              "      filter: drop-shadow(0px 1px 2px rgba(0, 0, 0, 0.3));\n",
              "      fill: #FFFFFF;\n",
              "    }\n",
              "  </style>\n",
              "\n",
              "      <script>\n",
              "        const buttonEl =\n",
              "          document.querySelector('#df-98d214e8-00b6-4fff-80c4-b0b5840087b6 button.colab-df-convert');\n",
              "        buttonEl.style.display =\n",
              "          google.colab.kernel.accessAllowed ? 'block' : 'none';\n",
              "\n",
              "        async function convertToInteractive(key) {\n",
              "          const element = document.querySelector('#df-98d214e8-00b6-4fff-80c4-b0b5840087b6');\n",
              "          const dataTable =\n",
              "            await google.colab.kernel.invokeFunction('convertToInteractive',\n",
              "                                                     [key], {});\n",
              "          if (!dataTable) return;\n",
              "\n",
              "          const docLinkHtml = 'Like what you see? Visit the ' +\n",
              "            '<a target=\"_blank\" href=https://colab.research.google.com/notebooks/data_table.ipynb>data table notebook</a>'\n",
              "            + ' to learn more about interactive tables.';\n",
              "          element.innerHTML = '';\n",
              "          dataTable['output_type'] = 'display_data';\n",
              "          await google.colab.output.renderOutput(dataTable, element);\n",
              "          const docLink = document.createElement('div');\n",
              "          docLink.innerHTML = docLinkHtml;\n",
              "          element.appendChild(docLink);\n",
              "        }\n",
              "      </script>\n",
              "    </div>\n",
              "  </div>\n",
              "  "
            ]
          },
          "metadata": {},
          "execution_count": 184
        }
      ]
    },
    {
      "cell_type": "code",
      "metadata": {
        "colab": {
          "base_uri": "https://localhost:8080/",
          "height": 237
        },
        "outputId": "1252a351-f438-40bc-9889-6ffa248dae5b",
        "id": "J-a5dIvY9FjH"
      },
      "source": [
        "dnn_input_data = [df[\"max\"], df[\"temp\"], df[\"min\"], df[\"wdsp\"],df[\"prcp\"],df[\"slp\"], df[\"visib\"], df[\"gust\"],df[\"fog\"], df[\"mxpsd\"],  df[\"NUM_COLLISIONS\"]] \n",
        "headers = [\"max\", \"temp\", \"min\", \"wdsp\",\"prcp\",\"slp\", \"visib\", \"gust\", \"fog\", \"mxpsd\", \"NUM_COLLISIONS\"]\n",
        "df_dnn_input = pd.concat(dnn_input_data, axis=1, keys=headers)\n",
        "df_dnn_input.head()"
      ],
      "execution_count": null,
      "outputs": [
        {
          "output_type": "execute_result",
          "data": {
            "text/plain": [
              "                 max  temp   min  wdsp  prcp     slp  visib  gust  fog  mxpsd  \\\n",
              "collision_date                                                                  \n",
              "2018-09-23      78.1  59.8  53.1   3.0   0.0  1023.4   10.0   0.0    0    5.1   \n",
              "2018-12-20      48.0  38.6  21.0   5.0   0.0  1020.2    9.6   0.0    0    7.0   \n",
              "2013-11-05      50.0  43.5  37.9   3.9   0.0  1037.8   10.0   0.0    0    7.0   \n",
              "2012-07-11      84.0  77.1  64.9   1.9   0.0  1019.9   10.0   0.0    0    7.0   \n",
              "2012-07-12      88.0  77.4  57.0   2.3   0.0  1021.7   10.0   0.0    0    7.0   \n",
              "\n",
              "                NUM_COLLISIONS  \n",
              "collision_date                  \n",
              "2018-09-23           -0.876381  \n",
              "2018-12-20            2.019455  \n",
              "2013-11-05           -0.570175  \n",
              "2012-07-11           -0.088994  \n",
              "2012-07-12            0.015991  "
            ],
            "text/html": [
              "\n",
              "  <div id=\"df-1e769ed7-a521-46d4-b0d5-21bd41ad7991\">\n",
              "    <div class=\"colab-df-container\">\n",
              "      <div>\n",
              "<style scoped>\n",
              "    .dataframe tbody tr th:only-of-type {\n",
              "        vertical-align: middle;\n",
              "    }\n",
              "\n",
              "    .dataframe tbody tr th {\n",
              "        vertical-align: top;\n",
              "    }\n",
              "\n",
              "    .dataframe thead th {\n",
              "        text-align: right;\n",
              "    }\n",
              "</style>\n",
              "<table border=\"1\" class=\"dataframe\">\n",
              "  <thead>\n",
              "    <tr style=\"text-align: right;\">\n",
              "      <th></th>\n",
              "      <th>max</th>\n",
              "      <th>temp</th>\n",
              "      <th>min</th>\n",
              "      <th>wdsp</th>\n",
              "      <th>prcp</th>\n",
              "      <th>slp</th>\n",
              "      <th>visib</th>\n",
              "      <th>gust</th>\n",
              "      <th>fog</th>\n",
              "      <th>mxpsd</th>\n",
              "      <th>NUM_COLLISIONS</th>\n",
              "    </tr>\n",
              "    <tr>\n",
              "      <th>collision_date</th>\n",
              "      <th></th>\n",
              "      <th></th>\n",
              "      <th></th>\n",
              "      <th></th>\n",
              "      <th></th>\n",
              "      <th></th>\n",
              "      <th></th>\n",
              "      <th></th>\n",
              "      <th></th>\n",
              "      <th></th>\n",
              "      <th></th>\n",
              "    </tr>\n",
              "  </thead>\n",
              "  <tbody>\n",
              "    <tr>\n",
              "      <th>2018-09-23</th>\n",
              "      <td>78.1</td>\n",
              "      <td>59.8</td>\n",
              "      <td>53.1</td>\n",
              "      <td>3.0</td>\n",
              "      <td>0.0</td>\n",
              "      <td>1023.4</td>\n",
              "      <td>10.0</td>\n",
              "      <td>0.0</td>\n",
              "      <td>0</td>\n",
              "      <td>5.1</td>\n",
              "      <td>-0.876381</td>\n",
              "    </tr>\n",
              "    <tr>\n",
              "      <th>2018-12-20</th>\n",
              "      <td>48.0</td>\n",
              "      <td>38.6</td>\n",
              "      <td>21.0</td>\n",
              "      <td>5.0</td>\n",
              "      <td>0.0</td>\n",
              "      <td>1020.2</td>\n",
              "      <td>9.6</td>\n",
              "      <td>0.0</td>\n",
              "      <td>0</td>\n",
              "      <td>7.0</td>\n",
              "      <td>2.019455</td>\n",
              "    </tr>\n",
              "    <tr>\n",
              "      <th>2013-11-05</th>\n",
              "      <td>50.0</td>\n",
              "      <td>43.5</td>\n",
              "      <td>37.9</td>\n",
              "      <td>3.9</td>\n",
              "      <td>0.0</td>\n",
              "      <td>1037.8</td>\n",
              "      <td>10.0</td>\n",
              "      <td>0.0</td>\n",
              "      <td>0</td>\n",
              "      <td>7.0</td>\n",
              "      <td>-0.570175</td>\n",
              "    </tr>\n",
              "    <tr>\n",
              "      <th>2012-07-11</th>\n",
              "      <td>84.0</td>\n",
              "      <td>77.1</td>\n",
              "      <td>64.9</td>\n",
              "      <td>1.9</td>\n",
              "      <td>0.0</td>\n",
              "      <td>1019.9</td>\n",
              "      <td>10.0</td>\n",
              "      <td>0.0</td>\n",
              "      <td>0</td>\n",
              "      <td>7.0</td>\n",
              "      <td>-0.088994</td>\n",
              "    </tr>\n",
              "    <tr>\n",
              "      <th>2012-07-12</th>\n",
              "      <td>88.0</td>\n",
              "      <td>77.4</td>\n",
              "      <td>57.0</td>\n",
              "      <td>2.3</td>\n",
              "      <td>0.0</td>\n",
              "      <td>1021.7</td>\n",
              "      <td>10.0</td>\n",
              "      <td>0.0</td>\n",
              "      <td>0</td>\n",
              "      <td>7.0</td>\n",
              "      <td>0.015991</td>\n",
              "    </tr>\n",
              "  </tbody>\n",
              "</table>\n",
              "</div>\n",
              "      <button class=\"colab-df-convert\" onclick=\"convertToInteractive('df-1e769ed7-a521-46d4-b0d5-21bd41ad7991')\"\n",
              "              title=\"Convert this dataframe to an interactive table.\"\n",
              "              style=\"display:none;\">\n",
              "        \n",
              "  <svg xmlns=\"http://www.w3.org/2000/svg\" height=\"24px\"viewBox=\"0 0 24 24\"\n",
              "       width=\"24px\">\n",
              "    <path d=\"M0 0h24v24H0V0z\" fill=\"none\"/>\n",
              "    <path d=\"M18.56 5.44l.94 2.06.94-2.06 2.06-.94-2.06-.94-.94-2.06-.94 2.06-2.06.94zm-11 1L8.5 8.5l.94-2.06 2.06-.94-2.06-.94L8.5 2.5l-.94 2.06-2.06.94zm10 10l.94 2.06.94-2.06 2.06-.94-2.06-.94-.94-2.06-.94 2.06-2.06.94z\"/><path d=\"M17.41 7.96l-1.37-1.37c-.4-.4-.92-.59-1.43-.59-.52 0-1.04.2-1.43.59L10.3 9.45l-7.72 7.72c-.78.78-.78 2.05 0 2.83L4 21.41c.39.39.9.59 1.41.59.51 0 1.02-.2 1.41-.59l7.78-7.78 2.81-2.81c.8-.78.8-2.07 0-2.86zM5.41 20L4 18.59l7.72-7.72 1.47 1.35L5.41 20z\"/>\n",
              "  </svg>\n",
              "      </button>\n",
              "      \n",
              "  <style>\n",
              "    .colab-df-container {\n",
              "      display:flex;\n",
              "      flex-wrap:wrap;\n",
              "      gap: 12px;\n",
              "    }\n",
              "\n",
              "    .colab-df-convert {\n",
              "      background-color: #E8F0FE;\n",
              "      border: none;\n",
              "      border-radius: 50%;\n",
              "      cursor: pointer;\n",
              "      display: none;\n",
              "      fill: #1967D2;\n",
              "      height: 32px;\n",
              "      padding: 0 0 0 0;\n",
              "      width: 32px;\n",
              "    }\n",
              "\n",
              "    .colab-df-convert:hover {\n",
              "      background-color: #E2EBFA;\n",
              "      box-shadow: 0px 1px 2px rgba(60, 64, 67, 0.3), 0px 1px 3px 1px rgba(60, 64, 67, 0.15);\n",
              "      fill: #174EA6;\n",
              "    }\n",
              "\n",
              "    [theme=dark] .colab-df-convert {\n",
              "      background-color: #3B4455;\n",
              "      fill: #D2E3FC;\n",
              "    }\n",
              "\n",
              "    [theme=dark] .colab-df-convert:hover {\n",
              "      background-color: #434B5C;\n",
              "      box-shadow: 0px 1px 3px 1px rgba(0, 0, 0, 0.15);\n",
              "      filter: drop-shadow(0px 1px 2px rgba(0, 0, 0, 0.3));\n",
              "      fill: #FFFFFF;\n",
              "    }\n",
              "  </style>\n",
              "\n",
              "      <script>\n",
              "        const buttonEl =\n",
              "          document.querySelector('#df-1e769ed7-a521-46d4-b0d5-21bd41ad7991 button.colab-df-convert');\n",
              "        buttonEl.style.display =\n",
              "          google.colab.kernel.accessAllowed ? 'block' : 'none';\n",
              "\n",
              "        async function convertToInteractive(key) {\n",
              "          const element = document.querySelector('#df-1e769ed7-a521-46d4-b0d5-21bd41ad7991');\n",
              "          const dataTable =\n",
              "            await google.colab.kernel.invokeFunction('convertToInteractive',\n",
              "                                                     [key], {});\n",
              "          if (!dataTable) return;\n",
              "\n",
              "          const docLinkHtml = 'Like what you see? Visit the ' +\n",
              "            '<a target=\"_blank\" href=https://colab.research.google.com/notebooks/data_table.ipynb>data table notebook</a>'\n",
              "            + ' to learn more about interactive tables.';\n",
              "          element.innerHTML = '';\n",
              "          dataTable['output_type'] = 'display_data';\n",
              "          await google.colab.output.renderOutput(dataTable, element);\n",
              "          const docLink = document.createElement('div');\n",
              "          docLink.innerHTML = docLinkHtml;\n",
              "          element.appendChild(docLink);\n",
              "        }\n",
              "      </script>\n",
              "    </div>\n",
              "  </div>\n",
              "  "
            ]
          },
          "metadata": {},
          "execution_count": 185
        }
      ]
    },
    {
      "cell_type": "code",
      "metadata": {
        "id": "BFMKe2TH9FjH"
      },
      "source": [
        "training_dataset = df_dnn_input.sample(frac=0.8, random_state=0)\n",
        "test_dataset = df_dnn_input.drop(training_dataset.index)"
      ],
      "execution_count": null,
      "outputs": []
    },
    {
      "cell_type": "code",
      "source": [
        "training_features = training_dataset.copy()\n",
        "test_features = test_dataset.copy()\n",
        "\n",
        "training_labels = training_features.pop('NUM_COLLISIONS')\n",
        "test_labels = test_features.pop('NUM_COLLISIONS')"
      ],
      "metadata": {
        "id": "mh3yqBCO9FjH"
      },
      "execution_count": null,
      "outputs": []
    },
    {
      "cell_type": "code",
      "source": [
        "SCALE_NUM_COLLISIONS = 1.0"
      ],
      "metadata": {
        "id": "M8hnU6H09FjI"
      },
      "execution_count": null,
      "outputs": []
    },
    {
      "cell_type": "code",
      "source": [
        "training_labels = training_labels/SCALE_NUM_COLLISIONS\n",
        "test_labels = test_labels/SCALE_NUM_COLLISIONS"
      ],
      "metadata": {
        "id": "HKVW51KB9FjI"
      },
      "execution_count": null,
      "outputs": []
    },
    {
      "cell_type": "code",
      "source": [
        "normaliser = tf.keras.layers.Normalization(axis=-1)\n",
        "normaliser.adapt(np.array(training_features))"
      ],
      "metadata": {
        "id": "LQFTab_G9FjI"
      },
      "execution_count": null,
      "outputs": []
    },
    {
      "cell_type": "code",
      "source": [
        "dnn_model_1 = keras.Sequential([\n",
        "      normaliser,\n",
        "      layers.Dense(48, activation='relu'),\n",
        "      layers.Dense(48, activation='relu'),\n",
        "      layers.Dense(1)\n",
        "  ])\n",
        "\n",
        "dnn_model_1.compile(loss='mean_absolute_error',\n",
        "                optimizer=tf.keras.optimizers.Adam(0.001))"
      ],
      "metadata": {
        "id": "8rkv0v609FjI"
      },
      "execution_count": null,
      "outputs": []
    },
    {
      "cell_type": "code",
      "source": [
        "%%time\n",
        "history = dnn_model_1.fit(\n",
        "    training_features,\n",
        "    training_labels,\n",
        "    validation_split=0.2,\n",
        "    verbose=0, \n",
        "    epochs=25)"
      ],
      "metadata": {
        "id": "T_xewbpD9FjI",
        "colab": {
          "base_uri": "https://localhost:8080/"
        },
        "outputId": "265bda40-57be-4b40-cd6b-f1405f04a5e5"
      },
      "execution_count": null,
      "outputs": [
        {
          "output_type": "stream",
          "name": "stdout",
          "text": [
            "CPU times: user 4.9 s, sys: 206 ms, total: 5.11 s\n",
            "Wall time: 5.85 s\n"
          ]
        }
      ]
    },
    {
      "cell_type": "code",
      "source": [
        "hist = pd.DataFrame(history.history)\n",
        "hist['epoch'] = history.epoch\n",
        "hist.tail()"
      ],
      "metadata": {
        "colab": {
          "base_uri": "https://localhost:8080/",
          "height": 206
        },
        "id": "DZ-PTXUcnfN3",
        "outputId": "89b3c679-4862-4e2c-aaa4-989651cecbb0"
      },
      "execution_count": null,
      "outputs": [
        {
          "output_type": "execute_result",
          "data": {
            "text/plain": [
              "        loss  val_loss  epoch\n",
              "20  0.734636  0.735601     20\n",
              "21  0.738135  0.742332     21\n",
              "22  0.732450  0.745568     22\n",
              "23  0.736555  0.736457     23\n",
              "24  0.727979  0.749852     24"
            ],
            "text/html": [
              "\n",
              "  <div id=\"df-62cee7f8-301b-4bf7-b69e-88eae131b126\">\n",
              "    <div class=\"colab-df-container\">\n",
              "      <div>\n",
              "<style scoped>\n",
              "    .dataframe tbody tr th:only-of-type {\n",
              "        vertical-align: middle;\n",
              "    }\n",
              "\n",
              "    .dataframe tbody tr th {\n",
              "        vertical-align: top;\n",
              "    }\n",
              "\n",
              "    .dataframe thead th {\n",
              "        text-align: right;\n",
              "    }\n",
              "</style>\n",
              "<table border=\"1\" class=\"dataframe\">\n",
              "  <thead>\n",
              "    <tr style=\"text-align: right;\">\n",
              "      <th></th>\n",
              "      <th>loss</th>\n",
              "      <th>val_loss</th>\n",
              "      <th>epoch</th>\n",
              "    </tr>\n",
              "  </thead>\n",
              "  <tbody>\n",
              "    <tr>\n",
              "      <th>20</th>\n",
              "      <td>0.734636</td>\n",
              "      <td>0.735601</td>\n",
              "      <td>20</td>\n",
              "    </tr>\n",
              "    <tr>\n",
              "      <th>21</th>\n",
              "      <td>0.738135</td>\n",
              "      <td>0.742332</td>\n",
              "      <td>21</td>\n",
              "    </tr>\n",
              "    <tr>\n",
              "      <th>22</th>\n",
              "      <td>0.732450</td>\n",
              "      <td>0.745568</td>\n",
              "      <td>22</td>\n",
              "    </tr>\n",
              "    <tr>\n",
              "      <th>23</th>\n",
              "      <td>0.736555</td>\n",
              "      <td>0.736457</td>\n",
              "      <td>23</td>\n",
              "    </tr>\n",
              "    <tr>\n",
              "      <th>24</th>\n",
              "      <td>0.727979</td>\n",
              "      <td>0.749852</td>\n",
              "      <td>24</td>\n",
              "    </tr>\n",
              "  </tbody>\n",
              "</table>\n",
              "</div>\n",
              "      <button class=\"colab-df-convert\" onclick=\"convertToInteractive('df-62cee7f8-301b-4bf7-b69e-88eae131b126')\"\n",
              "              title=\"Convert this dataframe to an interactive table.\"\n",
              "              style=\"display:none;\">\n",
              "        \n",
              "  <svg xmlns=\"http://www.w3.org/2000/svg\" height=\"24px\"viewBox=\"0 0 24 24\"\n",
              "       width=\"24px\">\n",
              "    <path d=\"M0 0h24v24H0V0z\" fill=\"none\"/>\n",
              "    <path d=\"M18.56 5.44l.94 2.06.94-2.06 2.06-.94-2.06-.94-.94-2.06-.94 2.06-2.06.94zm-11 1L8.5 8.5l.94-2.06 2.06-.94-2.06-.94L8.5 2.5l-.94 2.06-2.06.94zm10 10l.94 2.06.94-2.06 2.06-.94-2.06-.94-.94-2.06-.94 2.06-2.06.94z\"/><path d=\"M17.41 7.96l-1.37-1.37c-.4-.4-.92-.59-1.43-.59-.52 0-1.04.2-1.43.59L10.3 9.45l-7.72 7.72c-.78.78-.78 2.05 0 2.83L4 21.41c.39.39.9.59 1.41.59.51 0 1.02-.2 1.41-.59l7.78-7.78 2.81-2.81c.8-.78.8-2.07 0-2.86zM5.41 20L4 18.59l7.72-7.72 1.47 1.35L5.41 20z\"/>\n",
              "  </svg>\n",
              "      </button>\n",
              "      \n",
              "  <style>\n",
              "    .colab-df-container {\n",
              "      display:flex;\n",
              "      flex-wrap:wrap;\n",
              "      gap: 12px;\n",
              "    }\n",
              "\n",
              "    .colab-df-convert {\n",
              "      background-color: #E8F0FE;\n",
              "      border: none;\n",
              "      border-radius: 50%;\n",
              "      cursor: pointer;\n",
              "      display: none;\n",
              "      fill: #1967D2;\n",
              "      height: 32px;\n",
              "      padding: 0 0 0 0;\n",
              "      width: 32px;\n",
              "    }\n",
              "\n",
              "    .colab-df-convert:hover {\n",
              "      background-color: #E2EBFA;\n",
              "      box-shadow: 0px 1px 2px rgba(60, 64, 67, 0.3), 0px 1px 3px 1px rgba(60, 64, 67, 0.15);\n",
              "      fill: #174EA6;\n",
              "    }\n",
              "\n",
              "    [theme=dark] .colab-df-convert {\n",
              "      background-color: #3B4455;\n",
              "      fill: #D2E3FC;\n",
              "    }\n",
              "\n",
              "    [theme=dark] .colab-df-convert:hover {\n",
              "      background-color: #434B5C;\n",
              "      box-shadow: 0px 1px 3px 1px rgba(0, 0, 0, 0.15);\n",
              "      filter: drop-shadow(0px 1px 2px rgba(0, 0, 0, 0.3));\n",
              "      fill: #FFFFFF;\n",
              "    }\n",
              "  </style>\n",
              "\n",
              "      <script>\n",
              "        const buttonEl =\n",
              "          document.querySelector('#df-62cee7f8-301b-4bf7-b69e-88eae131b126 button.colab-df-convert');\n",
              "        buttonEl.style.display =\n",
              "          google.colab.kernel.accessAllowed ? 'block' : 'none';\n",
              "\n",
              "        async function convertToInteractive(key) {\n",
              "          const element = document.querySelector('#df-62cee7f8-301b-4bf7-b69e-88eae131b126');\n",
              "          const dataTable =\n",
              "            await google.colab.kernel.invokeFunction('convertToInteractive',\n",
              "                                                     [key], {});\n",
              "          if (!dataTable) return;\n",
              "\n",
              "          const docLinkHtml = 'Like what you see? Visit the ' +\n",
              "            '<a target=\"_blank\" href=https://colab.research.google.com/notebooks/data_table.ipynb>data table notebook</a>'\n",
              "            + ' to learn more about interactive tables.';\n",
              "          element.innerHTML = '';\n",
              "          dataTable['output_type'] = 'display_data';\n",
              "          await google.colab.output.renderOutput(dataTable, element);\n",
              "          const docLink = document.createElement('div');\n",
              "          docLink.innerHTML = docLinkHtml;\n",
              "          element.appendChild(docLink);\n",
              "        }\n",
              "      </script>\n",
              "    </div>\n",
              "  </div>\n",
              "  "
            ]
          },
          "metadata": {},
          "execution_count": 193
        }
      ]
    },
    {
      "cell_type": "markdown",
      "source": [
        "I tried varying the number of epochs on this one. For the ncstandardised only dataset the accuracy was 0.8377060294151306 at 200 epochs, and 0.8543780446052551 at 100. Both of which are terrible results and thus will not be explored further. However at 25 epochs (preventing overtraining) the results were slightly better at 0.7992316484451294 mean error. "
      ],
      "metadata": {
        "id": "4VRZigB8fxqm"
      }
    },
    {
      "cell_type": "code",
      "source": [
        "dnn_model_1_results = dnn_model_1.evaluate(test_features, test_labels, verbose=0)\n",
        "print(dnn_model_1_results)"
      ],
      "metadata": {
        "id": "0ZNguKTo9FjI",
        "colab": {
          "base_uri": "https://localhost:8080/"
        },
        "outputId": "d0747c9b-06bc-43b0-f479-281a270e76a4"
      },
      "execution_count": null,
      "outputs": [
        {
          "output_type": "stream",
          "name": "stdout",
          "text": [
            "0.7947694063186646\n"
          ]
        }
      ]
    },
    {
      "cell_type": "code",
      "source": [
        "test_results['dnn_model_all'] = dnn_model_1.evaluate(test_features, test_labels, verbose=0)\n"
      ],
      "metadata": {
        "id": "y74YSS3Yu1Wd"
      },
      "execution_count": null,
      "outputs": []
    },
    {
      "cell_type": "code",
      "source": [
        "dnn_model_1_results"
      ],
      "metadata": {
        "id": "y6vmHzpy9FjJ",
        "colab": {
          "base_uri": "https://localhost:8080/"
        },
        "outputId": "9d54b7da-4712-47cc-99c4-32bf8cb8f839"
      },
      "execution_count": null,
      "outputs": [
        {
          "output_type": "execute_result",
          "data": {
            "text/plain": [
              "0.7947694063186646"
            ]
          },
          "metadata": {},
          "execution_count": 196
        }
      ]
    },
    {
      "cell_type": "code",
      "source": [
        "plot_loss(history)"
      ],
      "metadata": {
        "colab": {
          "base_uri": "https://localhost:8080/",
          "height": 283
        },
        "outputId": "1e169e9c-09ee-447d-f8ab-ed10ea4ebb04",
        "id": "X5gRf-GUL_K7"
      },
      "execution_count": null,
      "outputs": [
        {
          "output_type": "display_data",
          "data": {
            "text/plain": [
              "<Figure size 432x288 with 1 Axes>"
            ],
            "image/png": "[encoded data removed]"
          },
          "metadata": {
            "needs_background": "light"
          }
        }
      ]
    },
    {
      "cell_type": "markdown",
      "source": [
        "The fact that loss decreases consistently while val loss increases as time goes by shows evidence of overtraining. This evidence lead to the decision of decreasing the val loss to 25 epochs. \n",
        "![download (3).png](data:image/png;base64,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)"
      ],
      "metadata": {
        "id": "WxlvntRsY6nh"
      }
    },
    {
      "cell_type": "code",
      "source": [
        "test_predictions = dnn_model_1.predict(test_features).flatten()\n",
        "\n",
        "a = plt.axes(aspect='equal')\n",
        "plt.scatter(test_labels, test_predictions)\n",
        "plt.xlabel('True Values [NC]')\n",
        "plt.ylabel('Predictions [NC]')\n",
        "lims = [-2, 2]\n",
        "plt.xlim(lims)\n",
        "plt.ylim(lims)\n",
        "_ = plt.plot(lims, lims)"
      ],
      "metadata": {
        "colab": {
          "base_uri": "https://localhost:8080/",
          "height": 301
        },
        "id": "ZxazSDlDC7v-",
        "outputId": "89c01dbb-fc1a-4c2c-84bc-f98681adb5be"
      },
      "execution_count": null,
      "outputs": [
        {
          "output_type": "stream",
          "name": "stdout",
          "text": [
            "18/18 [==============================] - 0s 2ms/step\n"
          ]
        },
        {
          "output_type": "display_data",
          "data": {
            "text/plain": [
              "<Figure size 432x288 with 1 Axes>"
            ],
            "image/png": "[encoded data removed]"
          },
          "metadata": {
            "needs_background": "light"
          }
        }
      ]
    },
    {
      "cell_type": "code",
      "source": [],
      "metadata": {
        "id": "bma1Kz8akxUv"
      },
      "execution_count": null,
      "outputs": []
    },
    {
      "cell_type": "markdown",
      "source": [
        "# Final Model"
      ],
      "metadata": {
        "id": "KKoYJQzekx0f"
      }
    },
    {
      "cell_type": "code",
      "source": [
        "pd.DataFrame(test_results, index=['Mean absolute error [NUM_COLLISIONS]']).T\n"
      ],
      "metadata": {
        "colab": {
          "base_uri": "https://localhost:8080/",
          "height": 237
        },
        "id": "QzLFI5XSsTeV",
        "outputId": "52c25e85-682f-4312-f17a-a61beb3c89fb"
      },
      "execution_count": null,
      "outputs": [
        {
          "output_type": "execute_result",
          "data": {
            "text/plain": [
              "                 Mean absolute error [NUM_COLLISIONS]\n",
              "LM_model_main                                0.816015\n",
              "LM_model_moday                               0.836503\n",
              "LM_model_all                                 0.810305\n",
              "dnn_model_1                                  0.803938\n",
              "dnn_model_moday                              0.658595\n",
              "dnn_model_all                                0.794769"
            ],
            "text/html": [
              "\n",
              "  <div id=\"df-a426afd2-ffd1-47b5-9f5d-9a4feb79f430\">\n",
              "    <div class=\"colab-df-container\">\n",
              "      <div>\n",
              "<style scoped>\n",
              "    .dataframe tbody tr th:only-of-type {\n",
              "        vertical-align: middle;\n",
              "    }\n",
              "\n",
              "    .dataframe tbody tr th {\n",
              "        vertical-align: top;\n",
              "    }\n",
              "\n",
              "    .dataframe thead th {\n",
              "        text-align: right;\n",
              "    }\n",
              "</style>\n",
              "<table border=\"1\" class=\"dataframe\">\n",
              "  <thead>\n",
              "    <tr style=\"text-align: right;\">\n",
              "      <th></th>\n",
              "      <th>Mean absolute error [NUM_COLLISIONS]</th>\n",
              "    </tr>\n",
              "  </thead>\n",
              "  <tbody>\n",
              "    <tr>\n",
              "      <th>LM_model_main</th>\n",
              "      <td>0.816015</td>\n",
              "    </tr>\n",
              "    <tr>\n",
              "      <th>LM_model_moday</th>\n",
              "      <td>0.836503</td>\n",
              "    </tr>\n",
              "    <tr>\n",
              "      <th>LM_model_all</th>\n",
              "      <td>0.810305</td>\n",
              "    </tr>\n",
              "    <tr>\n",
              "      <th>dnn_model_1</th>\n",
              "      <td>0.803938</td>\n",
              "    </tr>\n",
              "    <tr>\n",
              "      <th>dnn_model_moday</th>\n",
              "      <td>0.658595</td>\n",
              "    </tr>\n",
              "    <tr>\n",
              "      <th>dnn_model_all</th>\n",
              "      <td>0.794769</td>\n",
              "    </tr>\n",
              "  </tbody>\n",
              "</table>\n",
              "</div>\n",
              "      <button class=\"colab-df-convert\" onclick=\"convertToInteractive('df-a426afd2-ffd1-47b5-9f5d-9a4feb79f430')\"\n",
              "              title=\"Convert this dataframe to an interactive table.\"\n",
              "              style=\"display:none;\">\n",
              "        \n",
              "  <svg xmlns=\"http://www.w3.org/2000/svg\" height=\"24px\"viewBox=\"0 0 24 24\"\n",
              "       width=\"24px\">\n",
              "    <path d=\"M0 0h24v24H0V0z\" fill=\"none\"/>\n",
              "    <path d=\"M18.56 5.44l.94 2.06.94-2.06 2.06-.94-2.06-.94-.94-2.06-.94 2.06-2.06.94zm-11 1L8.5 8.5l.94-2.06 2.06-.94-2.06-.94L8.5 2.5l-.94 2.06-2.06.94zm10 10l.94 2.06.94-2.06 2.06-.94-2.06-.94-.94-2.06-.94 2.06-2.06.94z\"/><path d=\"M17.41 7.96l-1.37-1.37c-.4-.4-.92-.59-1.43-.59-.52 0-1.04.2-1.43.59L10.3 9.45l-7.72 7.72c-.78.78-.78 2.05 0 2.83L4 21.41c.39.39.9.59 1.41.59.51 0 1.02-.2 1.41-.59l7.78-7.78 2.81-2.81c.8-.78.8-2.07 0-2.86zM5.41 20L4 18.59l7.72-7.72 1.47 1.35L5.41 20z\"/>\n",
              "  </svg>\n",
              "      </button>\n",
              "      \n",
              "  <style>\n",
              "    .colab-df-container {\n",
              "      display:flex;\n",
              "      flex-wrap:wrap;\n",
              "      gap: 12px;\n",
              "    }\n",
              "\n",
              "    .colab-df-convert {\n",
              "      background-color: #E8F0FE;\n",
              "      border: none;\n",
              "      border-radius: 50%;\n",
              "      cursor: pointer;\n",
              "      display: none;\n",
              "      fill: #1967D2;\n",
              "      height: 32px;\n",
              "      padding: 0 0 0 0;\n",
              "      width: 32px;\n",
              "    }\n",
              "\n",
              "    .colab-df-convert:hover {\n",
              "      background-color: #E2EBFA;\n",
              "      box-shadow: 0px 1px 2px rgba(60, 64, 67, 0.3), 0px 1px 3px 1px rgba(60, 64, 67, 0.15);\n",
              "      fill: #174EA6;\n",
              "    }\n",
              "\n",
              "    [theme=dark] .colab-df-convert {\n",
              "      background-color: #3B4455;\n",
              "      fill: #D2E3FC;\n",
              "    }\n",
              "\n",
              "    [theme=dark] .colab-df-convert:hover {\n",
              "      background-color: #434B5C;\n",
              "      box-shadow: 0px 1px 3px 1px rgba(0, 0, 0, 0.15);\n",
              "      filter: drop-shadow(0px 1px 2px rgba(0, 0, 0, 0.3));\n",
              "      fill: #FFFFFF;\n",
              "    }\n",
              "  </style>\n",
              "\n",
              "      <script>\n",
              "        const buttonEl =\n",
              "          document.querySelector('#df-a426afd2-ffd1-47b5-9f5d-9a4feb79f430 button.colab-df-convert');\n",
              "        buttonEl.style.display =\n",
              "          google.colab.kernel.accessAllowed ? 'block' : 'none';\n",
              "\n",
              "        async function convertToInteractive(key) {\n",
              "          const element = document.querySelector('#df-a426afd2-ffd1-47b5-9f5d-9a4feb79f430');\n",
              "          const dataTable =\n",
              "            await google.colab.kernel.invokeFunction('convertToInteractive',\n",
              "                                                     [key], {});\n",
              "          if (!dataTable) return;\n",
              "\n",
              "          const docLinkHtml = 'Like what you see? Visit the ' +\n",
              "            '<a target=\"_blank\" href=https://colab.research.google.com/notebooks/data_table.ipynb>data table notebook</a>'\n",
              "            + ' to learn more about interactive tables.';\n",
              "          element.innerHTML = '';\n",
              "          dataTable['output_type'] = 'display_data';\n",
              "          await google.colab.output.renderOutput(dataTable, element);\n",
              "          const docLink = document.createElement('div');\n",
              "          docLink.innerHTML = docLinkHtml;\n",
              "          element.appendChild(docLink);\n",
              "        }\n",
              "      </script>\n",
              "    </div>\n",
              "  </div>\n",
              "  "
            ]
          },
          "metadata": {},
          "execution_count": 199
        }
      ]
    },
    {
      "cell_type": "markdown",
      "source": [
        "As can be seen comparing the mean absolute error for all models only dnn_model_moday seems to offer the highest performance, though due to the randomisation the results seem to differ every time. "
      ],
      "metadata": {
        "id": "L--wCuV8xvcS"
      }
    },
    {
      "cell_type": "markdown",
      "source": [
        "**ANALYSIS OF EACH MODEL**"
      ],
      "metadata": {
        "id": "9y5Pwg1-cRnV"
      }
    },
    {
      "cell_type": "markdown",
      "source": [
        "Reminder that range of values in the NC standardised only dataset is 2.5 to -2.6 so the mean error should be thought of as relative to this range. Compared to a 0 to 1 normalised dataset the range is 5 times less. Therefore the mean error should be considered around 5 times less as well."
      ],
      "metadata": {
        "id": "hYsryTxQzCKM"
      }
    },
    {
      "cell_type": "markdown",
      "source": [
        "LM DAY only\n",
        "\n",
        "The Linear regressor using only the day variable was simply a test run, and didnt achieve any good results.\n",
        "\n",
        "\n",
        "LM main\n",
        "\n",
        "This was the model built using the weather variables selected from the first assignment. As can be seen it offers poor accuracy, but it shows no signs of overtraining. It is a disapointment that it turned out so poorly, but maybe some fine tuning or using a dataset with pre normalised features could increase the accuracy, though it would be hard to compare the two different scales of as the other datasets use the label normalised from 0 to 1 instead of scaling from around about\n",
        "\n",
        "LM MO DAY \n",
        "This uses the same variables as LM_main but utilises the month and day as well, interestingly this achieves the worst accuracy out of all the models. However the history plot shows that this is most likely due to a minor spike as can be seen here."
      ],
      "metadata": {
        "id": "QG4ZUUAYdGsj"
      }
    },
    {
      "cell_type": "markdown",
      "source": [
        "![download (5).png](data:image/png;base64,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)"
      ],
      "metadata": {
        "id": "yDWZLGq2l1Pj"
      }
    },
    {
      "cell_type": "markdown",
      "source": [
        "LM all weather variables.\n",
        "This regressor used all weather variables, and although it achieved the best results out of all of the linear regressors it still delivered very poor accuracy. There were no signs of overtraining in the loss plot and there did not seem to be any extreme spikes in the last 10 epochs. \n",
        "\n",
        "DNN\n",
        "\n",
        "DNN main was the DNN equivalent of LM main using the same variables, it also achieves the same results at a mean error of 0.803938, which although lower than the linear regressors is still not much of an improvement. This shows that the selected variables from assessment 1 might not be as useful as though.\n",
        "\n",
        "DNN moday\n",
        "this is the same DNN as above but with the addition of the month and day. It is this most accurate model produced, shows slight signs of potential overtraining as the loss overtakes the val_loss, and shows a line with a genuinely good fit as can be seen in the second graph below."
      ],
      "metadata": {
        "id": "5_lKaLmLmGbA"
      }
    },
    {
      "cell_type": "markdown",
      "source": [
        "![moday plot.png](data:image/png;base64,iVBORw0KGgoAAAANSUhEUgAAAYIAAAEKCAYAAAAfGVI8AAAAOXRFWHRTb2Z0d2FyZQBNYXRwbG90bGliIHZlcnNpb24zLjcuMSwgaHR0cHM6Ly9tYXRwbG90bGliLm9yZy/bCgiHAAAACXBIWXMAAAsTAAALEwEAmpwYAAAuZElEQVR4nO3deZgdVZ3/8ff3Lr3vnU539nRCVhJIIAk7JLiQ4BIXJCAiMCLzQ1HcGKOOyijjxoiODiOiw6KiEAExA0gGIWFRiFnIvidk6ay978tdzu+PugmdTne6O+R2k9Tn9Tz3yb1VdavOudWpT9WpqlPmnENERPwr0N8FEBGR/qUgEBHxOQWBiIjPKQhERHxOQSAi4nMKAhERn0taEJjZA2Z2yMzWdTHezOxnZrbNzNaY2TnJKouIiHQtmUcEDwGzjzN+DjAm8boF+EUSyyIiIl1IWhA4514Gqo4zyVzgN87zOpBnZoOSVR4REelcqB+XPQTY0+5zWWLY/o4TmtkteEcNpKennzts2LATWmA8HicQ8N9pET/W2491Bn/W2491ht7Xe8uWLRXOuaLOxvVnEPSYc+5+4H6AadOmueXLl5/QfJYsWcLMmTNPYslODX6stx/rDP6stx/rDL2vt5nt6mpcf8boXqD9rv3QxDAREelD/RkEC4FPJq4eOh+odc4d0ywkIiLJlbSmITP7AzATGGBmZcC3gTCAc+4+4FngSmAb0ATclKyyiIhI15IWBM65a7sZ74DPJmv5InJ6iUQilJWV0dLSctTw3NxcNm7c2E+l6j9d1TstLY2hQ4cSDod7PK9T4mSxiEhZWRnZ2dmMHDkSMzsyvL6+nuzs7H4sWf/orN7OOSorKykrK6O0tLTH8/LfNVcickpqaWmhsLDwqBCQo5kZhYWFxxw1dUdBICKnDIVA907kN1IQiIj4nIJARKSHsrKy+rsISaEgEBHxOQWBiEgvOee44447mDRpEpMnT+axxx4DYP/+/Vx66aVMmTKFSZMm8corrxCLxbjxxhuPTPuTn/ykn0t/LF0+KiKnnH/73/Vs2FcHQCwWIxgMvu15Thycw7c/cGaPpn3yySdZtWoVq1evpqKigunTp3PppZfy+9//niuuuIJvfOMbxGIxmpqaWLVqFXv37mXdOu/RLDU1NW+7rCebjghERHrp1Vdf5dprryUYDFJcXMxll13GsmXLmD59Og8++CB33nkna9euJTs7m1GjRrFjxw4+97nP8dxzz5GTk9PfxT+GjghE5JTTfs/9nXRD2aWXXsrLL7/MM888w4033siXvvQlPvnJT7J69WoWLVrEfffdx4IFC3jggQf6u6hH0RGBiEgvXXLJJTz22GPEYjHKy8t5+eWXmTFjBrt27aK4uJhPf/rT3HzzzaxcuZKKigri8Tgf/ehHueuuu1i5cmV/F/8YOiIQEemlD3/4w7z22mucffbZmBk/+tGPKCkp4eGHH+buu+8mHA6TlZXFb37zG/bu3ctNN91EPB4H4Pvf/34/l/5YCgIRkR5qaGgAvLt37777bu6+++6jxt9www3ccMMNx3zvnXgU0J6ahkREfE5BICLicwoCERGfUxCIiPicgkBExOcUBCIiPqcgEBHxOQWBiEgSHO/ZBTt37mTSpEl9WJrjUxCIiPic7iwWkVPPX+bDgbUApMeiEDwJm7KSyTDnB12Onj9/PsOGDeOzn/0sAHfeeSehUIjFixdTXV1NJBLhrrvuYu7cub1abEtLC7feeivLly8nFApxzz33MGvWLNavX89NN91EW1sb8XicJ554gsGDB3P11VdTVlZGJBLh29/+NvPmzXtb1QYFgYhIj8ybN48vfOELR4JgwYIFLFq0iM9//vPk5ORQUVHB+eefzwc/+MFePUD+3nvvxcxYu3YtmzZt4r3vfS9btmzhvvvu4/bbb+e6666jra2NWCzGs88+y+DBg3nmmWeor68/0n/R26UgEJFTT7s99+Y+6oZ66tSpHDp0iH379lFeXk5+fj4lJSV88Ytf5OWXXyYQCLB3714OHjxISUlJj+f76quv8rnPfQ6A8ePHM2LECLZs2cIFF1zAv//7v1NWVsZHPvIRxowZw+TJk/nyl7/MV7/6VS6//HKuuOKKk1I3nSMQEemhj33sYzz++OM89thjzJs3j0ceeYTy8nJWrFjBqlWrKC4upqWl5aQs6+Mf/zgLFy4kPT2dK6+8khdffJGxY8eycuVKJk+ezHe/+12+853vnJRl6YhARKSH5s2bx6c//WkqKip46aWXWLBgAQMHDiQcDrN48WJ27drV63lecsklPPLII1x++eVs2bKF3bt3M27cOHbs2MGoUaP4/Oc/z+7du1mzZg3jx4+noKCAT3ziE6SkpPD73//+pNRLQSAi0kNnnnkm9fX1DBkyhEGDBnHdddfxgQ98gMmTJzNt2jTGjx/f63l+5jOf4dZbb2Xy5MmEQiEeeughUlNTWbBgAb/97W8Jh8OUlJTw9a9/nWXLlnHHHXcQCAQIBALcf//9J6VeCgIRkV5Yu3btkfcDBgzgtdde63S6w88u6MzIkSOPPMw+LS2NBx988Jhp5s+fz/z5848adsUVVxw5L3AyH9GpcwQiIj6nIwIRkSRZu3Yt119//VHDUlNTWbp0aT+VqHMKAhE5ZTjnenWNfn+bPHkyq1at6tNlOud6/R01DYnIKSEtLY3KysoT2tD5hXOOyspK0tLSevU9HRGIyClh6NChlJWVUV5eftTwlpaWXm/4Tgdd1TstLY2hQ4f2al4KAhE5JYTDYUpLS48ZvmTJEqZOndoPJepfJ7PeSW0aMrPZZrbZzLaZ2fxOxg83s8Vm9oaZrTGzK5NZHhEROVbSgsDMgsC9wBxgInCtmU3sMNm/Agucc1OBa4D/TlZ5RESkc8k8IpgBbHPO7XDOtQGPAh37Z3VATuJ9LrAvieUREZFOWLLOwJvZVcBs59zNic/XA+c5525rN80g4P+AfCATeLdzbkUn87oFuAWguLj43EcfffSEytTQ0HDcpwadrvxYbz/WGfxZbz/WGXpf71mzZq1wzk3rbFx/nyy+FnjIOfdjM7sA+K2ZTXLOHdXJtnPufuB+gGnTprmZM2ee0MKWLFnCiX73VObHevuxzuDPevuxznBy653MpqG9wLB2n4cmhrX3KWABgHPuNSANGJDEMomISAfJDIJlwBgzKzWzFLyTwQs7TLMbeBeAmU3AC4JyRESkzyQtCJxzUeA2YBGwEe/qoPVm9h0z+2Bisi8Dnzaz1cAfgBudbhsUEelTST1H4Jx7Fni2w7BvtXu/AbgomWUQEZHjU19DIiI+pyAQEfE5XwVBU0SnH0REOvJNEPxiyXZuX9xESyTW30UREXlH8U0QjC/JJhKH5Tur+7soIiLvKL4JghmlBQQNXt1W0d9FERF5R/FNEGSmhhidF+Dv2xUEIiLt+SYIACYWBlm7t5aaprb+LoqIyDuG74LAOXh9R2V/F0VE5B3DV0EwKjdAZkpQ5wlERNrxVRCEAsaM0gL+vk1HBCIih/kqCAAuOmMAOyoa2VfT3N9FERF5R/BdEFw8xnvcwd/UPCQiAvgwCMYVZzMgK0VBICKS4LsgMDMuHD2Av22vRI8+EBHxYRAAzBxXRHl9K4+vKOvvooiI9DtfBsHcKUM4f1QB3/rzeraXN/R3cURE+pUvgyAYMH46bypp4QCf+/0b6pFURHzNl0EAUJKbxo+vPpsN++v4wV829XdxRET6jX+CYMNCzlr9LYhFjwy6fHwxn7q4lIf+vpP/efXNfiyciEj/8U8QAAXVq2HDU0cN++rs8cyZVMJ3n97AvYu39U/BRET6kX+CYPz7acwYBq/8GOLxI4NTQgF+fu1U5k4ZzN2LNvPj/9usy0pFxFf8EwSBALtGXAWHNsDmZ48aFQoGuOfqKVwzfRg/f3Ebc/7zFf70RhmRWLyLmYmInD78EwRAedElkD8SXvkP6LDXHwwY3/vwZO65+mzizvHFx1Yz8+4l/O71XbRFFQgicvryVRC4QBAu/iLsewO2v3DM+EDA+Mg5Q3nu9kv59SenMTAnlX99ah2z/mMJv1+6W0cIInJa8lUQAHD2tZA9GF7+j6POFbQXCBjvnljMk7deyMP/NIOi7FS+/qe1XPWLv+sGNBE57fgvCEKpcMmXYPdr8OAcOLi+y0nNjMvGFvGnz1zIvR8/h11VTbzvZ6/w29d36YSyiJw2/BcEANNvhrn3QsUWuO8SWPQNaDjU5eRmxvvOGsSiL1zKjNJCvvnUOi76wYt886l1vLSlXE1GInJKC/V3AfqFGUz9BIy7Ev76bXjtv2DpL2HSR2DKddBcBQfWQfWbMOsbUDgagOKcNB6+aToLV+/jmTX7eXxFGb99fRcTBuXw03lTGFeS3c8VExHpPX8GwWEZBfDBn8OFt8OyX8Ebj8Cax7xxFgQLQHM1fOJJLzzwjg7mThnC3ClDaInEWLT+AN99egMf+PmrfOWKsXzq4lEEA9aPlRIR6R1/B8FhA86AOT/09v7ffBlyh0LReFj+ACz6GmxZBONmH/O1tHCQuVOGcPEZA/jak2v53rOb+P5fNpGZEiIzNcjEQTlcd94IZo0fqHAQkXcsBUF7aTkw4f1vfZ7xaVjxoBcGoy+HUEqnXyvMSuWX15/LovUHWL+vjsbWGPUtEV7aUs7Nv1nOkLx03jVhIEVZqRRkpTAsP4Mpw/PISQsDEInFWbu3ln01zYwakMWookzSwsG+qLGIiILguIJhmP19+N1HYekv4KLbu5zUzJg9aRCzJw06MiwSi/P8hoM8snQXf3pjL/Ut0XbTe4/NzM9IYdWeGprbdYUdMBhVlMX0kfnMKC1gyrB8UkMBzCA1FKQgs/NAEpEkW/+Ut8M4+vL+LslJpSDozhnvhrGz4aW7oXgSDJ7qnVvogXAwwJWTB3HlZC8cWqMxqhrb2H6okeW7qlixq5qapgjzpg9jRmkBwwsy2FHRyNaD9azfV8fTa/bzh3/sOWa+547I5+ppQ7nizBLW7a1j0foD/H17BSMLM7lgdCHnjyokLRygtjlKY2uUmlZd1STytv3jV/DsV7z35/0/eM93vMvRTwNJDQIzmw38JxAEfu2c+0En01wN3Ak4YLVz7uPJLNMJueJ78MvL4Hcf8T7nDPEuQb3odgj0vAknNRRkUG46g3LTuXjMgE6nmTQk98j7WNyx6UAdG/bVEYt79y1UNrbxpzf28tUn1vLVJ9YCkBYOcF5pIW9WNPLCpmMvgw0a/OXQcq6ZPpwpw/JICwdJDQUI9PC8xbq9tdy7eBv7alv4+pzxnDeqsMd1liSKtnp7qEXjYPCU3n3XOe8cWGM5XPylLps9TxnOwapHvPN5Z10N494HgRO8On7PMljxEBSUwrR/8nb8Vv7GC4FxV0LeCK+FYNff4JwbvP7LDq6H3GFw5d0921GMRaF+P+QNO3p4PAZVb0LBqGPLX7bc2xkNp51YvY4jaUFgZkHgXuA9QBmwzMwWOuc2tJtmDPA14CLnXLWZDUxWed6WwtHwhTVe1xQH18GOl+CFf4Mtz8GH74OcobDzZdjyf5BRCGfP8/o06qloG7z+37B3BbzvHsgqArz+j84cnMuZg3OPmvwzM0fzxp4almwuZ9LgHC4ZU0R6ihdI+2ubWbazGoCctBBp4SAPP7+CZbuqWbT+4FHzCQWMgBkYFGamMK4km3El2QzKSSPuIO4cf99eyYubDpGdGiInPcw1v3qdT11UyleuGJe88xi1Zd5vnJ4Ho2ZBSkZyltOdqjdh2a+9q8cKRnl/B4OnQmovLhNuqYWtz8OmZ6CtEabdBGOu6HwjFWmBN1+ChoPeBjraBmdf422QOipbDn/+LJQnHqo04iI4/1Ys3oONRDwOz3/Tu2wavI3nVQ90vpzjce7I1XTdqt4Jz38LhpwLM/75rY3ZoU2w5PtQfwDScr3XsBneZdzt13vFNm+D6+LeKy0Hhs6AtBxCkXr44w2w4c+QkgUbF8KAsTDjFu/fzKLEa8Cx5Y3HvcvFGw5C5Xb4x/2w8xUIZ0Kk0euBYOx7YcNCr3XgYw95RwGjZsJTt3rhkJYLRRO85e5ZClc/7NUToKUOmiq98AgEvOVt/DO8+O9QudWb7rxbYcy7Yc0CbztQvRNGXAwf+CkMGANNVd5l7it/4x2FHKeJ+kRZsu6QNbMLgDudc1ckPn8NwDn3/XbT/AjY4pz7dU/nO23aNLd8+fITKtOSJUuYOXPmCX33KM7B2j/CM1+BeAQCIWitg1A6RFsA5/3HnPghKL3EuwKpq/8wb74Cz3wZKjZ7l6zmDYfrn/Q2PL0pz6GNkF1y7N6Icyx56SUuuuRSXtpcTll1E82ROC2RGNF43Nvgxx2H6lvZuL+O7eUNZMbquCSwlsuCa0gNGtXTv8jcyy8mFDC+/5eN/O713QwrSGfOpEFcNraIc4bnU98aoaK+jZrmNgobt1Py5p/IOLCMurP+iUMjP0B9S5Sapjaqm9qoa44yojCDc0bkMyArcWjdWOH9J9j4tPdbHBZKhzPe5f2HSc32/qO31kP5Rm8j0loPOYO9V0EpDJkGg6ew5O/LmHnBNKjc5gVLIATBkPcbx6Pe3jQOBozzNvDtj+xq9njdlb/xWy8EAGJt3r/BFCi9FMbNgdKZR++5Ve/yNqqH1kPdPqjb722o4xFvQxRMgbq9UDDaO6Kc8H5vfTsH6//k/Wev2d1u5ZlXrikf9/baXdy7CXL7Yu9y5+xBMPsH3neW/hJqdxO3EIHiiTDoLEjJ9jZmbU3e38bIS2DoNHjua7B2gbdBHnEh/O/nvTLMnO/tceaPhFCaV/byTd7vR2I7EWn2ftOKrd7GM78UBk7wfofmKq/eTZUw5r1w7k2QM8ir28LPe795rBVyh3vL2rvC2/NOyfLK21rnbfRq90DGADj/Vsga6F3Wvef1Y//uLQAlk2mtLCM1WguXfxPO/4y3QX71p3Bw7dHTh9K8KwKzB3kB3VjuveJvnbsjexBccBuce6P3u752r/dbDTsPrvsjhNPfmra1HpprvHmaefVZcIP3u0z80FtHCjhvXZRMgtYGr1xFE+DMD3vzrmz3HJRh53nnH17/b2/HYOp1XsA118AFn4HL5kNqFtD77ZmZrXDOTet03PGCwMzW9GD+5c65d3Xy3auA2c65mxOfrwfOc87d1m6ap4AtwEV4zUd3Ouee62RetwC3ABQXF5/76KOP9qBYx2poaCArK+uEvtuZ1JZySt/8Hc5CVAw4n+r8swhH6ig+uJiSA4vJaN4HQFs4l6aMIUe+Zy5GKNpEMNZEWmslzWkD2XbGLUTC2UxeexfOAmwafzvpzfsoKn+d7PottKYOoDl9EE0ZQ6kqmEpN3iRcIEx23VZG7XiI/Jp1ADRmDKUuZzzBWDMZTWVkNO0jGkihNb2YlrQianPP5GDxTCIpuZ3U5xCjt/6aosp/YDjaQlkE4lECLsqeYR9i9/CriIXSWVcR45kdbWypjhN3cUbbPibbm0wK7OS8wEYmBXYScUH2uUJGBA7xp9hFfCtyE/V4e3hGnBBxAsQpTWvm5pRFvD/yF1JchF0Zk9mdPYX9OVPIitZSWreUEXVLyYpUHVXW5kAmzZnDceFMUtoqSW2tIiVSC0CcAM2hHDKjNT1aj7FAGo2ZQwnGWkhtrSIUayJuIfYPei+7RlxFW0oeqa2VZDSVUVC1msLKpWQ07wcgGsykPns0KW01ZDbtTqzvHFpTB9CaWkhTxjAqBsygLmcs5hwDKl5j2J6F5NRvAaAhcwTxQAo59VtpyBzJm6WfoCFrJJFwDqFoA8N3P8HgfYsIuLc2Vg5j/6D3sH30jcRCmd5vGo9RULWS9IrVFLTuIathB4F4lFgwlXggldTWiqPmsaP0E+wefhWYkdZ8kAkbf0xuXbsAbiduYVwiEOOBcOLvcAhtKfmkN+8ns3E36c0HiIRzaE0tJBZMJbd2I84C1GefQW7dZmpzxrFxwpdJaznI6O0Pkt2wA0eAvUPmsGvENURSco4sL7dmPcN3P0Fh1Yojf9MHSt5Fdf4U4gGvESOlrZq8mg3k1q7HRVrYMf7/0ZB9xluFdo705r2ktNWQ0lZLSlsVaS0VpLYeIrW1mmgok7aUvMQr/8irLmcMLhA+qv7BaCPxQJrXaWU3QpE6xm/6Obm1G6jPPoPa3Am0peST2biL7PodBGMt7Bk2l4PFl3o7JS5OQdUb5NWsoWLAhdTljvPq11rNGdt+xcDyv1GbM54tY2+lMWvkUcvq7fZs1qxZJxwE64ErjzNvAxY6587q5Ls9CYKngQhwNTAUeBmY7Jyr6WqB74gjgp5wDmp2wc5XvVdt2VvjAiFv7zY1xzv0m3HLW4fB5Zu9q5RqEyeJB070ji4aD0HlDu9wMtrifXfgRG9PKWMAXPwFiEVg9+uwdzmk5XmHxYWj2btrO0MyE22PlVu95Y+dDWPe4+2dFpTC2sfhpR96yzz/Vq8tdPBUr+uNv37bu9EuNXHYPnQ6ZA0kuuMV4tsXk9LqbaRjwTQaC85k/5DZbBk4mxqXwdRdDzBx631E0gYQyyohtekggaZDmHvrBHYc41l3Ife0fZgdbnBnPyapRCgItTJlYIjyFmN5VSqhQIBRRZmJo40IaZFqpgS2c05gK4OsisrUoeQNO5NBI8ZR2dDCwZp66htbGFqUy5hBBYwZmEl69WYCB9ZglZshNReXVUI0exC7S65gc0s+OysaiTlHaihIejjA1OH5nDUkB6vc6jUD7F3pNRmm5SR+0yu8+1K6U7HVO3rY8py3F33R7d7d7p1tbGr2wLonvL3jAWOh8Ayv2awTXf6NR5qhbBnseg2KJ8KED3T4iRN/r9W7vKaJSDMUjfX2XLNLum8C6thMVLndOwex6Wlvz3fWN7yr8MBrHtmx2GsuOd5vdXADRJth8DnHXX6f/r/ua9U7vSOoTpoS+/KI4GLn3KvdzLzTaXrYNHQfsNQ592Di8wvAfOfcsq6Wd8oEwdtRf9DrJnvYeUe6tzgi0gw7lnj/wfYs8/6TXXjbcdutj6r3oY3eSbXVj3nh0t7493tNDR1PYAHsXgqrfue1TR/aCDjIHAijZ0HpZTDkHCgc4zW/dLRnGbz4XS+AsgdBdrF3iG1Bb+Mw+l24gROoamyjtjlCU1uMhtYo0ZjD4Yg7GJCVwtjibMLBAM451u+rY+HqfbxZ0Uheepi8jDC56WHyMlLIz0hh+ep17Inn8crWCloTz5PIzwiTn5HCzspG4m+jRXR0USYfOWcowwoyqGpopaqxjca2GK3RGG3ROLnpYSYNyWXykFxKctOob4lS3xKhue2t8EsNBxicl05W6sk9TXfK/I2fRH6sM5zcIOjur3CzmU1sf4I3McOJeE1C5ccJimXAGDMrBfYC1wAdrwh6CrgWeNDMBgBjgR3dlOn0l13stQt3JpzutU+Pm3Ni8x44Ad57F7z737yjlKrt3t5bwSivLb4rw8/zXuC1rzaUeyHVk5OFw6bDDQuPO4nh3ZhXePicwfGmNWPSkNyjrrDqKLNqMzNnTqepLcqO8kaG5KWTn7j/oqE1ypo9NWzYX0ckETaHd2gDZgQMhuRlMKook9IBmYSDAdqicepbI7y48RBPrCzj7kVvNaOYQUY4SGo4SEowQFVTW48fZpSXEWZYfgajizIZXZTFkPx0Glq9I5za5gjNkRgtES9gMlNC5GaEyUkLkZ4SIjUUIC0cJCs1SFZqmKy0EHWtDucc1s162VPVxHPrDlDR0MrQ/HSGFWSQHg5yoK6FfTUtOBznlRZw1tA8wkF/9k3pJ90Fwc+B/+5keCHwrxy7YT/CORc1s9uARXjt/w8459ab2XeA5c65hYlx7zWzDUAMuMM5V3kC9ZDeCgQhf4T36u3NMYev7jgFZKSEjgmMrNQQF54xgAvP6PwS3s6kpwRJTwlyzYzhXDNjOHtrmmlqjVKQmUJeRspRXYhEYnG2HKxnbVkt1U0RstO8K67Sw0EOT9UUibG3upmy6iZ2VzXxjzereGrVvqOWmZlYZloiYBpao9Q2R44c4XTlm68/792dHgoeCZKUUIDCzBTyM1PYdqiBNWXe+ZSUYIC24/Sem5Ua4twR+Zw5OIeJg3MYlJvGjvJGthysZ09VM2nhAJmpIbLSQmSnhshKDZGdFmZ4YQajBmRSkJnSZSjVt0RYsaualbuqSQkFmDg4h4mDcinOSe02yOTk6i4IznDOvdxxoHPuFTP7RXczd849CzzbYdi32r13wJcSL5FTxpC89C7HhYOBTi/77U5ja5SDdS1kp3lNXV3tibdGY7S0xWmJehv5xlavKa2uOcLif6zB8krYUd5INObISQ8zMDuVlmic8oZWNh+opygnja/NGc+cSYMYmp/OofpW9lQ30RKJMSg3jUG56bRF47y2o5K/batg+c5q/ratgmi79rTUUIBhBRm0ReM0tkapb4l2GiiHL2E+LBgwgonLlsuqm4g770769k11Q/LSuWxcETPHFh05B9TQGiUSi5MSDBIOGimhAOFggJRQgP0NcXaUN2BmRGNxqhrbqGpsozUaZ1xJNmMGZhHq5Ld0ztEajSfu2j82eCKxOCt3VfP37ZUUZqXwrgnFx13vp7LuguB4F0yHjzNORHopMzXEqKLurwJJDQVJDQXJ7eS/YOhQmJkzJ/dquSW5aZTkHn3/QWYqx9wVv/VgAwdqWxhVlMmIwsxjOlJsjXqhVNPUxq6qJnaUN7KzopFo4kmALnFvSjTmiMYdH5oymBmlhUwdnkfcOTYdqGf93lpe21HJn9/Yy++X7qbHXn2py1Fp4QBjBmYTizua2qI0tsVoao3SFInhnHc/TV6Gd34pPXGzZTBgrN9XR0NrFDOv7N/683rGl2RTkptGRUMrlQ1thIMBRhRmMLwgg1FFWUxI3IuTkRJi26EGthys52B9C4bX5NgSibMncRTY3BbjvROL+dDUIQwryGD9vlr+uLyMl7eWU1qYydTheZwzPJ9zRuQnve+x7oJgm5ldmdizP8LM5qC2fBHfSA0Fuz0vczigCjJTGFWUxaxxvVvG9JEFTB9ZwI0XldIWjbN8VxXl9a3kpIXJTgsRCgaIxOK0Rb1XJBYnEnOsWbeeCRMmAN5jZgsyUijITCEUNDbur2P1nlq2lTeQGgokmttCZKYEyUj1zrM0tkapaY5Q09RGSyROazRGayTOB84ezGVjvSbE8vpWXth4kBc3HaKqsY2irFTGFefQGo2xu6qJp9fsp7Y50qN6FuekMrwgg7RwgB8/v4UfP7+FIXnp7K1pJiUY4PzRheysfKuXgJRQgOkj87n4jCLmTCph5IDM3v2wPdBdEHwBeCbRDcSKxLBpwAXA+7v6kojI25ESCnDh6J6dw8ms2szMqUM6HTe2OJu5Uzof1xs5aWFGF2Vxy6Wju5ymvN5rett0wDuSGFuczdjiLIbkeZeGOxzBgJEaemvvvqy6iafe2MuKXdXccuko5k4ZTF6Gd1FDTVMbK3dX87dtlby6tYIfPreJvIxw3weBc26rmU3GOyk8KTH4JeCfnXMtJ700IiKnqKLsVIqyU7vsR6wzQ/MzuO3yMZ2Oy8tI4fLxxVw+vhiAQ3UtpKUkp4mo24uYnXOtwINJWbqIiPTIwJyT39ncYccNAjN7kyOdjBzDOee6Pk4SEZFTQndHBB3vQgvgdQfxFeCNpJRIRET6VHfnCCoBzCwAXA/cAawC3tfxbmMRETk1ddc0FAb+Cfgi8CrwIefctuN9R0RETi3dNQ29CUSBnwK7gbPM7EhPo865J5NXNBER6QvdBcFf8U4Wn514tecABYGIyCmuu3MEN/ZROUREpJ8ct39ZM+v27uGeTCMiIu9c3TUN3W1me4Hj9Qn7PeDpk1ckERHpS90FwUHgnm6m2XqSyiIiIv2gu3MEM/uoHCIi0k/0DDoREZ9TEIiI+Fy3QWBmATO7sC8KIyIifa/bIHDOxYF7+6AsIiLSD3raNPSCmX3UOnvCs4iInNJ6GgT/DPwRaDOzOjOrN7O6JJZLRET6SLdPKANwzmUnuyAiItI/ehQEAGb2QeDSxMclzjndTSwichroUdOQmf0AuB3YkHjdbmbfT2bBRESkb/T0iOBKYEriCiLM7GG8R1V+LVkFExGRvtGbG8ry2r3PPcnlEBGRftLTI4LvAW+Y2WK8nkgvBeYnrVQiItJnug2CxIPr48D5wPTE4K865w4ks2AiItI3ug0C51zczP7FObcAWNgHZRIRkT7U03MEfzWzr5jZMDMrOPxKaslERKRP9PQcwbzEv59tN8wBo05ucUREpK/19BzBfOfcY31QHhER6WM97X30jj4oi4iI9AOdIxAR8bmeBsE8vPMDLwMrEq/l3X3JzGab2WYz22ZmXd53kOji2pnZtB6WR0RETpKe9j5a2tsZm1kQ74E27wHKgGVmttA5t6HDdNl4/Rgt7e0yRETk7TvuEYGZ/Uu79x/rMO573cx7BrDNObfDOdcGPArM7WS67wI/BFp6VGIRETmpzDnX9Uizlc65czq+7+xzJ9+9CpjtnLs58fl64Dzn3G3tpjkH+IZz7qNmtgT4inPumCYnM7sFuAWguLj43EcffbSX1fQ0NDSQlZV1Qt89lfmx3n6sM/iz3n6sM/S+3rNmzVrhnOu0+b27piHr4n1nn3slcVnqPcCN3U3rnLsfuB9g2rRpbubMmSe0zCVLlnCi3z2V+bHefqwz+LPefqwznNx6d3ey2HXxvrPPHe0FhrX7PDQx7LBsYBKwxMx24vVltFAnjEVE+lZ3RwRnJ55NbEB6u+cUG5DWzXeXAWPMrBQvAK4BPn54pHOuFhhw+PPxmoZERCR5jhsEzrngic7YORc1s9uARUAQeMA5t97MvgMsd86pAzsRkXeAHj+z+EQ4554Fnu0w7FtdTDszmWUREZHO9eYJZSIichpSEIiI+JyCQETE5xQEIiI+pyAQEfE5BYGIiM8pCEREfE5BICLicwoCERGfUxCIiPicgkBExOcUBCIiPqcgEBHxOQWBiIjPKQhERHxOQSAi4nMKAhERn1MQiIj4nIJARMTnFAQiIj6nIBAR8TkFgYiIzykIRER8TkEgIuJzCgIREZ9TEIiI+JyCQETE5xQEIiI+pyAQEfE5BYGIiM8pCEREfE5BICLicwoCERGfUxCIiPhcUoPAzGab2WYz22Zm8zsZ/yUz22Bma8zsBTMbkczyiIjIsZIWBGYWBO4F5gATgWvNbGKHyd4ApjnnzgIeB36UrPKIiEjnknlEMAPY5pzb4ZxrAx4F5rafwDm32DnXlPj4OjA0ieUREZFOmHMuOTM2uwqY7Zy7OfH5euA859xtXUz/X8AB59xdnYy7BbgFoLi4+NxHH330hMrU0NBAVlbWCX33VObHevuxzuDPevuxztD7es+aNWuFc25aZ+NCJ61Ub4OZfQKYBlzW2Xjn3P3A/QDTpk1zM2fOPKHlLFmyhBP97qnMj/X2Y53Bn/X2Y53h5NY7mUGwFxjW7vPQxLCjmNm7gW8AlznnWpNYHhER6UQyzxEsA8aYWamZpQDXAAvbT2BmU4FfAh90zh1KYllERKQLSQsC51wUuA1YBGwEFjjn1pvZd8zsg4nJ7gaygD+a2SozW9jF7EREJEmSeo7AOfcs8GyHYd9q9/7dyVy+iIh0T3cWi4j4nIJARMTnFAQiIj6nIBAR8TkFgYiIzykIRER8TkEgIuJzCgIREZ9TEIiI+JyCQETE5xQEIiI+pyAQEfE5BYGIiM8pCEREfE5BICLicwoCERGfUxCIiPicgkBExOcUBCIiPqcgEBHxOQWBiIjPKQhERHxOQSAi4nMKAhERn1MQiIj4nIJARMTnFAQiIj6nIBAR8TkFgYiIzykIRER8TkEgIuJzCgIREZ9TEIiI+JyCQETE5xQEIiI+l9QgMLPZZrbZzLaZ2fxOxqea2WOJ8UvNbGQyyyMiIsdKWhCYWRC4F5gDTASuNbOJHSb7FFDtnDsD+Anww2SVR0REOpfMI4IZwDbn3A7nXBvwKDC3wzRzgYcT7x8H3mVmlsQyiYhIB6EkznsIsKfd5zLgvK6mcc5FzawWKAQq2k9kZrcAtyQ+NpjZ5hMs04CO8/YJP9bbj3UGf9bbj3WG3td7RFcjkhkEJ41z7n7g/rc7HzNb7pybdhKKdErxY739WGfwZ739WGc4ufVOZtPQXmBYu89DE8M6ncbMQkAuUJnEMomISAfJDIJlwBgzKzWzFOAaYGGHaRYCNyTeXwW86JxzSSyTiIh0kLSmoUSb/23AIiAIPOCcW29m3wGWO+cWAv8D/NbMtgFVeGGRTG+7eekU5cd6+7HO4M96+7HOcBLrbdoBFxHxN91ZLCLicwoCERGf800QdNfdxenAzIaZ2WIz22Bm683s9sTwAjN73sy2Jv7N7++ynmxmFjSzN8zs6cTn0kS3JdsS3Zik9HcZTzYzyzOzx81sk5ltNLMLfLKuv5j4+15nZn8ws7TTbX2b2QNmdsjM1rUb1um6Nc/PEnVfY2bn9HZ5vgiCHnZ3cTqIAl92zk0Ezgc+m6jnfOAF59wY4IXE59PN7cDGdp9/CPwk0X1JNV53Jqeb/wSec86NB87Gq/9pva7NbAjweWCac24S3oUo13D6re+HgNkdhnW1bucAYxKvW4Bf9HZhvggCetbdxSnPObffObcy8b4eb8MwhKO78ngY+FC/FDBJzGwo8D7g14nPBlyO120JnJ51zgUuxbvyDudcm3OuhtN8XSeEgPTEvUcZwH5Os/XtnHsZ70rK9rpat3OB3zjP60CemQ3qzfL8EgSddXcxpJ/K0icSPblOBZYCxc65/YlRB4Di/ipXkvwU+BcgnvhcCNQ456KJz6fj+i4FyoEHE01ivzazTE7zde2c2wv8B7AbLwBqgRWc/usbul63b3v75pcg8BUzywKeAL7gnKtrPy5xw95pc82wmb0fOOScW9HfZeljIeAc4BfOualAIx2agU63dQ2QaBefixeEg4FMjm1COe2d7HXrlyDoSXcXpwUzC+OFwCPOuScTgw8ePlRM/Huov8qXBBcBHzSznXhNfpfjtZ3nJZoO4PRc32VAmXNuaeLz43jBcDqva4B3A28658qdcxHgSby/gdN9fUPX6/Ztb9/8EgQ96e7ilJdoG/8fYKNz7p52o9p35XED8Oe+LluyOOe+5pwb6pwbibdeX3TOXQcsxuu2BE6zOgM45w4Ae8xsXGLQu4ANnMbrOmE3cL6ZZST+3g/X+7Re3wldrduFwCcTVw+dD9S2a0LqGeecL17AlcAWYDvwjf4uT5LqeDHe4eIaYFXidSVem/kLwFbgr0BBf5c1SfWfCTydeD8K+AewDfgjkNrf5UtCfacAyxPr+ykg3w/rGvg3YBOwDvgtkHq6rW/gD3jnQCJ4R3+f6mrdAoZ3VeR2YC3eFVW9Wp66mBAR8Tm/NA2JiEgXFAQiIj6nIBAR8TkFgYiIzykIRER8TkEg0oGZxcxsVbvXSeu4zcxGtu9RUuSdIGmPqhQ5hTU756b0dyFE+oqOCER6yMx2mtmPzGytmf3DzM5IDB9pZi8m+oJ/wcyGJ4YXm9mfzGx14nVhYlZBM/tVok/9/zOz9H6rlAgKApHOpHdoGprXblytc24y8F94vZ4C/Bx42Dl3FvAI8LPE8J8BLznnzsbrB2h9YvgY4F7n3JlADfDRpNZGpBu6s1ikAzNrcM5ldTJ8J3C5c25HonO/A865QjOrAAY55yKJ4fudcwPMrBwY6pxrbTePkcDzznu4CGb2VSDsnLurD6om0ikdEYj0juvifW+0tnsfQ+fqpJ8pCER6Z167f19LvP87Xs+nANcBryTevwDcCkeeqZzbV4UU6Q3tiYgcK93MVrX7/Jxz7vAlpPlmtgZvr/7axLDP4T0p7A68p4bdlBh+O3C/mX0Kb8//VrweJUXeUXSOQKSHEucIpjnnKvq7LCInk5qGRER8TkcEIiI+pyMCERGfUxCIiPicgkBExOcUBCIiPqcgEBHxuf8PSRb/XJt9cH4AAAAASUVORK5CYII=)"
      ],
      "metadata": {
        "id": "vgRVjaUe3CmH"
      }
    },
    {
      "cell_type": "markdown",
      "source": [
        "![moday line.png](data:image/png;base64,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)"
      ],
      "metadata": {
        "id": "kpO53PbX3F_H"
      }
    },
    {
      "cell_type": "markdown",
      "source": [
        "DNN all weather variables\n",
        "\n",
        "This DNN uses all weather variables. and is now slightly more accurate than most other variables due to being cut off at 25 epochs before it could overtrain as shown in the loss graph comparision where the validation loss gets slightly higher as the training loss becomes much lower over the remaining 75 epochs. \n",
        "This is the only model where overfitting becomes a problem. In the other models there is no problem with overtraining. \n",
        "Its important to note that the DNN models have a much higher risk of overtraining than the linear regression models do.\n"
      ],
      "metadata": {
        "id": "HHlrAWKm5OFa"
      }
    },
    {
      "cell_type": "markdown",
      "source": [
        "![download (3).png](data:image/png;base64,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)"
      ],
      "metadata": {
        "id": "4UCIIXAe5qSQ"
      }
    },
    {
      "cell_type": "code",
      "source": [],
      "metadata": {
        "id": "sdAE1kWi3FTS"
      },
      "execution_count": null,
      "outputs": []
    },
    {
      "cell_type": "markdown",
      "source": [
        "# Justification for approach\n",
        "\n"
      ],
      "metadata": {
        "id": "cssMr4D7Hsmd"
      }
    },
    {
      "cell_type": "markdown",
      "source": [
        "My main approach to this problem was to simply make sure the input neurons were enough to give a good result, but not so many to cause overfitting like what happened with the dnn all variables model. I also used two layers of 48 neurons each as per the advice of towardsdatascience (2019) to use 2-5 hidden layers and about a 100 neurons. There is only one output neuron and i have decided to use Rectified Linear Unit as the activation function as it does not activate all the neurons at the same time which makes it more conputationally efficient compared to the sigmoid and tanh functions (analyticsvidhya, 2020)."
      ],
      "metadata": {
        "id": "lBmVeH9TbR8W"
      }
    },
    {
      "cell_type": "markdown",
      "source": [
        "# In conclusion\n",
        "The final model will be the tensorflow \"month\", \"day\", \"max\",\"temp\", \"min\", \"wdsp\" and \"prcp\" model as despite it using month and day making it slightly off topic it is also the most accurate and the best at identifying potentially more dangerous days in which the new york emergency services should be at high alert. It did show some signs of potentially overfitting with more training but it did not seem to have a significant impact on the validation performance. \n",
        "\n",
        "\n"
      ],
      "metadata": {
        "id": "vlcoMntY-q7o"
      }
    },
    {
      "cell_type": "code",
      "source": [],
      "metadata": {
        "id": "J-cMqF7JFH8E"
      },
      "execution_count": null,
      "outputs": []
    },
    {
      "cell_type": "markdown",
      "source": [
        "# Bibliography\n",
        "\n",
        "towards data science (2019) designing your neural networks [online] https://towardsdatascience.com/designing-your-neural-networks-a5e4617027ed (accessed 01/04/2023)\n",
        "\n",
        "Analytics vidhya (2020) Fundamentals of Deep Learning – Activation Functions and When to Use Them? [online] https://www.analyticsvidhya.com/blog/2020/01/fundamentals-deep-learning-activation-functions-when-to-use-them/#:~:text=The%20ReLU%20function%20is%20another,neurons%20at%20the%20same%20time. (accessed 01/04/2023)"
      ],
      "metadata": {
        "id": "x6jzIcZ1jflO"
      }
    }
  ]
}